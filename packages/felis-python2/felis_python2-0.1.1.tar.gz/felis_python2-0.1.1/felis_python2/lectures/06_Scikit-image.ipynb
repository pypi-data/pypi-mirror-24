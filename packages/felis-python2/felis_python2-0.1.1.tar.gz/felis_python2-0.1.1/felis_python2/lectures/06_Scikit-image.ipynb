{
 "cells": [
  {
   "cell_type": "markdown",
   "metadata": {},
   "source": [
    "<h1><center>Python 2"
   ]
  },
  {
   "cell_type": "markdown",
   "metadata": {},
   "source": [
    "## Section 6 - Image Processing"
   ]
  },
  {
   "cell_type": "markdown",
   "metadata": {},
   "source": [
    "### Scikit-image"
   ]
  },
  {
   "cell_type": "markdown",
   "metadata": {},
   "source": [
    "During the Image Processing section, we will see some of the most famous image processing libraries in Python, such as Scikit-image, OpenCV and Pillow. We will learn how to import and manipulate images. Later on, we will perform filtering processes, image segmentation and much more. Let's start by taking a closer look to Scikit-image."
   ]
  },
  {
   "cell_type": "markdown",
   "metadata": {},
   "source": [
    "<center><img src=\"images/scikit.png\">"
   ]
  },
  {
   "cell_type": "markdown",
   "metadata": {},
   "source": [
    "Scikit-image is a python library with a collection of algorithms for image processing. It is built on top of Numpy, Scipy and Scikit-learn. For more details, check out the library's website (http://scikit-image.org/). During this section, you will see how to import, manipulate and process images for different purposes.\n",
    "\n",
    "The first thing we have to do is to import an image to work with. Normally, packages like Numpy, Scipy and Scikit-image already come with some sample data. However, feel free to use one of your preference. In this section, I will use this cool image below. =)"
   ]
  },
  {
   "cell_type": "markdown",
   "metadata": {
    "collapsed": true
   },
   "source": [
    "<img src=https://s-media-cache-ak0.pinimg.com/736x/64/05/09/640509c183abed5ae39b0bc9e25c8eec.jpg style=\"width: 220px; height: 340px\"/>"
   ]
  },
  {
   "cell_type": "markdown",
   "metadata": {},
   "source": [
    "Images are basically formed of several small elements called pixels. Each pixel has a gray value assigned to it, usually ranging from 0 to 255, where 0 would be black and 255 would be white. These pixels, in order to form an image, are arranged in a structure similar to a matrix. Hence the importance of Numpy, since you can import an image and manipulate it as it were a matrix or, in this case, a numpy array. "
   ]
  },
  {
   "cell_type": "markdown",
   "metadata": {},
   "source": [
    "The image could be imported using Numpy or Scipy, but since we are working with Scikit-image, that is the library we will use to open the image. However, don't be fooled, Scikit-image actually uses PIL to open the images. That is actually a common  practice, where outside libraries are used inside other libraries to perform specific tasks. First we import scikit-image. But pay attention. To import we can't use the name scikit-image. We have to use skimage instead.\n"
   ]
  },
  {
   "cell_type": "code",
   "execution_count": null,
   "metadata": {
    "collapsed": true
   },
   "outputs": [],
   "source": [
    "import skimage as sk\n",
    "print(sk.__version__)"
   ]
  },
  {
   "cell_type": "markdown",
   "metadata": {},
   "source": [
    "We can open the image using the io module and the imread function."
   ]
  },
  {
   "cell_type": "code",
   "execution_count": null,
   "metadata": {
    "collapsed": true
   },
   "outputs": [],
   "source": [
    "from skimage import io\n",
    "image = io.imread('images/image.jpg')\n",
    "print(\"Type of the image:\", type(image))"
   ]
  },
  {
   "cell_type": "code",
   "execution_count": null,
   "metadata": {
    "collapsed": true
   },
   "outputs": [],
   "source": [
    "# First let's view it in matplotlib\n",
    "import matplotlib.pyplot as plt\n",
    "# we could use the plot inline, but we might need to zoom in the images sometimes.\n",
    "# Therefore, we will leave without it. \n",
    "\n",
    "# Activating the backend is optional. Here we are forcing to use PyQt5 to show the\n",
    "# image.\n",
    "plt.switch_backend('Qt5Agg')   \n",
    "plt.imshow(image)\n",
    "plt.show()"
   ]
  },
  {
   "cell_type": "markdown",
   "metadata": {},
   "source": [
    "In order to move on, we need more details about this image, such as size and numerical type."
   ]
  },
  {
   "cell_type": "code",
   "execution_count": null,
   "metadata": {
    "collapsed": true,
    "scrolled": true
   },
   "outputs": [],
   "source": [
    "print(\"Image dimensions:\", image.shape)\n",
    "print (\"Numerical type:\", image.dtype)"
   ]
  },
  {
   "cell_type": "markdown",
   "metadata": {},
   "source": [
    "Now wait, what does uint8 mean?\n",
    "\n",
    "When numerical variables are assigned, like numpy arrays, they have two types that define them, one is the type itself (integer or float) and numerical type. The numerical types are the following:"
   ]
  },
  {
   "cell_type": "markdown",
   "metadata": {},
   "source": [
    "<img src=\"images/var_types.jpg\">"
   ]
  },
  {
   "cell_type": "markdown",
   "metadata": {},
   "source": [
    "If our data is uint8, that means that the pixel values are between 0 and 255."
   ]
  },
  {
   "cell_type": "markdown",
   "metadata": {},
   "source": [
    "Since we are talking about colors, let's discuss some definitions about colors. The common color format used is the Red-Green-Blue (RGB). However, there are other formats adopted for different purposes, such as the HSV. Let's take a further look on what is that."
   ]
  },
  {
   "cell_type": "markdown",
   "metadata": {},
   "source": [
    "<img src=\"images/RGB.jpg\", style=\"width: 600px; height: 250px\"/>"
   ]
  },
  {
   "cell_type": "markdown",
   "metadata": {},
   "source": [
    "<img src=\"images/hsv.jpg\", style=\"width: 320px; height: 250px\"/>"
   ]
  },
  {
   "cell_type": "markdown",
   "metadata": {},
   "source": [
    "Let's see what changes when using two different color formats. We can convert from RGB to HSV using the module color and function rgb2hsv from Scikit-image."
   ]
  },
  {
   "cell_type": "code",
   "execution_count": null,
   "metadata": {
    "collapsed": true
   },
   "outputs": [],
   "source": [
    "from skimage import color\n",
    "hsv = color.rgb2hsv(image)\n",
    "plt.imshow(hsv)\n",
    "plt.show()"
   ]
  },
  {
   "cell_type": "markdown",
   "metadata": {},
   "source": [
    "The RGB image can also be \"merged\" into one single image without losing it's characteristics. In order to do that, the luminance index can be calculated via the equation:\n",
    "\n",
    "$$Y = 0.2125*R + 0.7154*G + 0.0721*B$$\n",
    "\n",
    "Now, from the color module, we can use the rgb2grey function to calculate the luminance index."
   ]
  },
  {
   "cell_type": "code",
   "execution_count": null,
   "metadata": {
    "collapsed": true,
    "scrolled": true
   },
   "outputs": [],
   "source": [
    "luminance = color.rgb2grey(image)\n",
    "\n",
    "fig, axes = plt.subplots(nrows=1, ncols=4, figsize=(8, 4),\n",
    "                         sharex=True, sharey=True,\n",
    "                         subplot_kw={'adjustable': 'box-forced'})\n",
    "ax = axes.ravel()\n",
    "\n",
    "ax[0].imshow(luminance, plt.cm.gray)\n",
    "ax[0].set_title('Luminance', fontsize=20)\n",
    "ax[0].axis('off')\n",
    "\n",
    "ax[1].imshow(image[:,:,0], plt.cm.gray)\n",
    "ax[1].set_title('Red band', fontsize=20)\n",
    "ax[1].axis('off')\n",
    "\n",
    "ax[2].imshow(image[:,:,1], plt.cm.gray)\n",
    "ax[2].set_title('Green band', fontsize=20)\n",
    "ax[2].axis('off')\n",
    "\n",
    "ax[3].imshow(image[:,:,2], plt.cm.gray)\n",
    "ax[3].set_title('Blue band', fontsize=20)\n",
    "ax[3].axis('off')\n",
    "\n",
    "fig.tight_layout()\n",
    "plt.show()"
   ]
  },
  {
   "cell_type": "markdown",
   "metadata": {},
   "source": [
    "### Geometry"
   ]
  },
  {
   "cell_type": "markdown",
   "metadata": {},
   "source": [
    "With Scikit-image you can also create an manipulate geometric shapes. Lines, circles, ellipses, squares and hexagons are a few examples of what you can do. Let's see some examples."
   ]
  },
  {
   "cell_type": "code",
   "execution_count": null,
   "metadata": {
    "collapsed": true
   },
   "outputs": [],
   "source": [
    "# Lines\n",
    "\n",
    "from skimage.draw import line\n",
    "import numpy as np\n",
    "\n",
    "# First we create the canvas or the space where the image will be created.\n",
    "img = np.zeros((700, 700), dtype=np.uint8)\n",
    "# Now we have to define the beginning and ending of the line.\n",
    "rr, cc = line(200, 200, 500, 500)\n",
    "# Now we attribute the line between the coodinates above to the value 1.\n",
    "img[rr, cc] = 1\n",
    "\n",
    "plt.imshow(img, plt.cm.gray)\n",
    "plt.show()"
   ]
  },
  {
   "cell_type": "code",
   "execution_count": null,
   "metadata": {
    "collapsed": true
   },
   "outputs": [],
   "source": [
    "# Circles\n",
    "\n",
    "from skimage.draw import circle\n",
    "import numpy as np\n",
    "# The procedure is the same seen in the lines example.\n",
    "img = np.zeros((700, 700), dtype=np.uint8)\n",
    "# However, now we have to provide the central coodinate and the radius of the circle.\n",
    "rr, cc = circle(349, 349, 200)\n",
    "img[rr, cc] = 1\n",
    "\n",
    "plt.imshow(img, plt.cm.gray)\n",
    "plt.show()"
   ]
  },
  {
   "cell_type": "code",
   "execution_count": null,
   "metadata": {
    "collapsed": true
   },
   "outputs": [],
   "source": [
    "# Ellipse\n",
    "\n",
    "from skimage.draw import ellipse\n",
    "import numpy as np\n",
    "# The procedure is the same seen in the other examples.\n",
    "img = np.zeros((700, 700), dtype=np.uint8)\n",
    "# But now we provde again the central coodinate, the smaller and bigger radiuses.\n",
    "rr, cc = ellipse(349, 349, 100, 150)\n",
    "img[rr, cc] = 1\n",
    "plt.imshow(img, plt.cm.gray)\n",
    "plt.show()"
   ]
  },
  {
   "cell_type": "code",
   "execution_count": null,
   "metadata": {
    "collapsed": true
   },
   "outputs": [],
   "source": [
    "# Polygons\n",
    "\n",
    "from skimage.draw import polygon\n",
    "import numpy as np\n",
    "img = np.zeros((700,700), dtype=np.uint8)\n",
    "# Now with polygons it's a bit different. We have to provide the coodinate for each of the \n",
    "# vertices. Therefore, we can create two numpy arrays with the coordinates in X and Y.\n",
    "x = np.array([524, 453, 479, 576, 647, 624, 524])\n",
    "y = np.array([647, 576, 479, 453, 524, 621, 647])\n",
    "rr, cc = polygon(y, x)\n",
    "img[rr, cc] = 1\n",
    "plt.imshow(img, plt.cm.gray)\n",
    "plt.xlim((400,700))\n",
    "plt.ylim((400,700))\n",
    "plt.show()"
   ]
  },
  {
   "cell_type": "markdown",
   "metadata": {},
   "source": [
    "Geometrical shapes can be used for different applications. As an example, we can use them as masks to clip images. Let's take a look in an example where we use a circle to clip an image."
   ]
  },
  {
   "cell_type": "code",
   "execution_count": null,
   "metadata": {
    "collapsed": true
   },
   "outputs": [],
   "source": [
    "from skimage.draw import circle\n",
    "import numpy as np\n",
    "\n",
    "img = np.ones((960, 640), dtype=np.uint8)\n",
    "rr, cc = circle(210, 300, 200)\n",
    "img[rr,cc] = image[:,:,0][rr,cc]\n",
    "plt.imshow(img, plt.cm.gray)\n",
    "plt.show()"
   ]
  },
  {
   "cell_type": "code",
   "execution_count": null,
   "metadata": {
    "collapsed": true
   },
   "outputs": [],
   "source": [
    "# Let's try now with an ellipse.\n",
    "\n",
    "from skimage.draw import ellipse\n",
    "import numpy as np\n",
    "\n",
    "img = np.ones((960, 640), dtype=np.uint8)\n",
    "rr, cc = ellipse(200, 300, 200, 300)\n",
    "img[rr,cc] = image[:,:,0][rr,cc]\n",
    "plt.imshow(img, plt.cm.gray)\n",
    "plt.show()"
   ]
  },
  {
   "cell_type": "code",
   "execution_count": null,
   "metadata": {
    "collapsed": true
   },
   "outputs": [],
   "source": [
    "def clip_image_ellipse(band,xlength,ylength):\n",
    "    img = np.zeros((xlength, ylength), dtype=np.uint8)\n",
    "    rr, cc = ellipse(200, 300, 200, 300)\n",
    "    img[rr,cc] = band[rr,cc]\n",
    "    return img\n",
    "red = clip_image_ellipse(image[:,:,0],960,640)[:400,:600]\n",
    "green = clip_image_ellipse(image[:,:,1],960,640)[:400,:600]\n",
    "blue = clip_image_ellipse(image[:,:,2],960,640)[:400,:600]\n",
    "image_final = np.dstack((red,green,blue))\n",
    "\n",
    "plt.imshow(image_final)\n",
    "plt.axis('off')\n",
    "plt.show()"
   ]
  },
  {
   "cell_type": "code",
   "execution_count": null,
   "metadata": {
    "collapsed": true
   },
   "outputs": [],
   "source": [
    "# Clip with slicing\n",
    "img = image[:400,:600]\n",
    "plt.imshow(img)\n",
    "plt.axis('off')\n",
    "plt.show()"
   ]
  },
  {
   "cell_type": "code",
   "execution_count": null,
   "metadata": {
    "collapsed": true,
    "scrolled": true
   },
   "outputs": [],
   "source": [
    "# Flipping image\n",
    "i = np.fliplr(img)  \n",
    "j = np.flipud(img)  \n",
    "plt.subplot(121)\n",
    "plt.imshow(i)\n",
    "plt.title('Horizontal flip')\n",
    "plt.axis('off')\n",
    "plt.subplot(122)\n",
    "plt.imshow(j)\n",
    "plt.title('Vertical flip')\n",
    "plt.axis('off')\n",
    "plt.show()"
   ]
  },
  {
   "cell_type": "code",
   "execution_count": null,
   "metadata": {
    "collapsed": true
   },
   "outputs": [],
   "source": [
    "# Task: slice the image again just like we just did with the flip function, but now\n",
    "# use only slicing to do so.\n",
    "\n",
    "fliplr = img[:,::-1]\n",
    "flipud = img[::-1,:]\n",
    "plt.subplot(121)\n",
    "plt.imshow(fliplr)\n",
    "plt.title('Horizontal flip')\n",
    "plt.axis('off')\n",
    "plt.subplot(122)\n",
    "plt.imshow(flipud)\n",
    "plt.title('Vertical flip')\n",
    "plt.axis('off')\n",
    "plt.show()"
   ]
  },
  {
   "cell_type": "code",
   "execution_count": null,
   "metadata": {
    "collapsed": true
   },
   "outputs": [],
   "source": [
    "# Equalization\n",
    "\n",
    "from skimage import exposure\n",
    "eq = exposure.equalize_hist(image[:,:,0], nbins=256)\n",
    "plt.subplot(121)\n",
    "plt.imshow(image[:,:,0], plt.cm.gray)     # Try rainbow\n",
    "plt.title('Original')\n",
    "plt.axis('off')\n",
    "plt.subplot(122)\n",
    "plt.imshow(eq, plt.cm.gray)               # Try rainbow\n",
    "plt.title('Equalized Histogram')\n",
    "plt.axis('off')\n",
    "plt.show()"
   ]
  },
  {
   "cell_type": "code",
   "execution_count": null,
   "metadata": {
    "collapsed": true
   },
   "outputs": [],
   "source": [
    "# Equalization histograms\n",
    "\n",
    "plt.subplot(121)\n",
    "plt.hist(image[:,:,0].flatten(), bins=100)\n",
    "plt.title('Original histogram')\n",
    "plt.xlim(0,256)\n",
    "plt.ylim(0,40000)\n",
    "plt.subplot(122)\n",
    "plt.hist(eq.flatten(), bins=100)\n",
    "plt.title('Equalized Histogram')\n",
    "plt.xlim(0,1)\n",
    "plt.ylim(0,40000)\n",
    "plt.show()"
   ]
  },
  {
   "cell_type": "code",
   "execution_count": null,
   "metadata": {
    "collapsed": true
   },
   "outputs": [],
   "source": [
    "# Save equalized image\n",
    "\n",
    "from skimage import external, io, exposure\n",
    "import numpy as np\n",
    "\n",
    "def equalized_image(image, nbins=256, save=False):\n",
    "    img = np.empty((int(image.shape[0]), int(image.shape[1])), dtype=int)\n",
    "    for i in range(0,3):\n",
    "        img = np.dstack((img, exposure.equalize_hist(image[:,:,i], nbins)))\n",
    "    img = img[:,:,1:].astype('float32')\n",
    "    if save==True:\n",
    "        external.tifffile.imsave('equalized.tif',img)\n",
    "    return img        \n",
    "\n",
    "img = equalized_image(image, save=True)\n",
    "\n",
    "plt.subplot(221)\n",
    "plt.hist(image[:,:,0].flatten(), bins=100)\n",
    "plt.title('Original histogram')\n",
    "plt.xlim(0,256)\n",
    "plt.ylim(0,40000)\n",
    "\n",
    "plt.subplot(223)\n",
    "plt.hist(eq.flatten(), bins=100)\n",
    "plt.title('Equalized Histogram')\n",
    "plt.xlim(0,1)\n",
    "plt.ylim(0,40000)\n",
    "\n",
    "plt.subplot(222)\n",
    "plt.imshow(image)\n",
    "plt.title('Original image')\n",
    "\n",
    "plt.subplot(224)\n",
    "plt.imshow(img)\n",
    "plt.title('Equalized image')\n",
    "plt.show()"
   ]
  },
  {
   "cell_type": "markdown",
   "metadata": {},
   "source": [
    "### Filtering"
   ]
  },
  {
   "cell_type": "markdown",
   "metadata": {},
   "source": [
    "After changing color formats and clipping images, filtering is the most common processing performed over images. Filtering consists of applying an equation to each pixel or performing several matrix calculations."
   ]
  },
  {
   "cell_type": "code",
   "execution_count": null,
   "metadata": {
    "collapsed": true
   },
   "outputs": [],
   "source": [
    "# Image filtering\n",
    "from skimage import filters\n",
    "\n",
    "gauss = filters.gaussian(image, sigma=2, multichannel=True) # Let's test other sigmas\n",
    "\n",
    "plt.subplot(121)\n",
    "plt.imshow(image, plt.cm.gray)\n",
    "plt.title('Original image')\n",
    "\n",
    "plt.subplot(122)\n",
    "plt.imshow(gauss, plt.cm.gray)\n",
    "plt.title('Filtered (gaussian)')\n",
    "plt.show()"
   ]
  },
  {
   "cell_type": "markdown",
   "metadata": {},
   "source": [
    "<img src=\"images/filter.jpg\", style=\"width: 1020px; height: 380px\"/>"
   ]
  },
  {
   "cell_type": "code",
   "execution_count": null,
   "metadata": {
    "collapsed": true
   },
   "outputs": [],
   "source": [
    "# But how does that work in practice?\n",
    "\n",
    "from skimage.draw import circle\n",
    "from skimage import filters\n",
    "import numpy as np\n",
    "import math\n",
    "from matplotlib import mlab\n",
    "\n",
    "plt.subplot(231)\n",
    "mu = 0\n",
    "variance = 1\n",
    "sigma = math.sqrt(variance)\n",
    "x = np.linspace(mu-4*variance,mu+4*variance, 100)\n",
    "plt.plot(x,mlab.normpdf(x, mu, sigma))\n",
    "plt.xlim(-15,15)\n",
    "plt.ylim(0,0.4)\n",
    "plt.annotate(\"$\\sigma$ = 1\", \n",
    "             (0.4,0.35), \n",
    "             xycoords='data', \n",
    "             xytext=(5, 0.35), \n",
    "             arrowprops=dict(arrowstyle='->'), \n",
    "             size=15)\n",
    "\n",
    "plt.subplot(232)\n",
    "mu = 0\n",
    "variance = 3\n",
    "sigma = math.sqrt(variance)\n",
    "x = np.linspace(mu-3*variance,mu+3*variance, 100)\n",
    "plt.plot(x,mlab.normpdf(x, mu, sigma))\n",
    "plt.xlim(-15,15)\n",
    "plt.ylim(0,0.4)\n",
    "plt.annotate(\"$\\sigma$ = 3\", \n",
    "             (0.25,0.22), \n",
    "             xycoords='data', \n",
    "             xytext=(4, 0.22), \n",
    "             arrowprops=dict(arrowstyle='->'), \n",
    "             size=15)\n",
    "\n",
    "plt.subplot(233)\n",
    "mu = 0\n",
    "variance = 5\n",
    "sigma = math.sqrt(variance)\n",
    "x = np.linspace(mu-3*variance,mu+3*variance, 100)\n",
    "plt.plot(x,mlab.normpdf(x, mu, sigma))\n",
    "plt.xlim(-15,15)\n",
    "plt.ylim(0,0.4)\n",
    "plt.annotate(\"$\\sigma$ = 5\", \n",
    "             (1,0.15), \n",
    "             xycoords='data', \n",
    "             xytext=(5, 0.15), \n",
    "             arrowprops=dict(arrowstyle='->'), \n",
    "             size=15)\n",
    "\n",
    "plt.subplot(234)\n",
    "img = np.zeros((11, 11), dtype=np.uint8)\n",
    "rr, cc = circle(5, 5, 3)\n",
    "img[rr, cc] = 1\n",
    "test = filters.gaussian_filter(img, sigma=1)\n",
    "plt.imshow(test, plt.cm.jet)\n",
    "\n",
    "\n",
    "plt.subplot(235)\n",
    "img = np.zeros((11, 11), dtype=np.uint8)\n",
    "rr, cc = circle(5, 5, 3)\n",
    "img[rr, cc] = 1\n",
    "test = filters.gaussian_filter(img, sigma=3)\n",
    "plt.imshow(test, plt.cm.jet)\n",
    "\n",
    "\n",
    "plt.subplot(236)\n",
    "img = np.zeros((11, 11), dtype=np.uint8)\n",
    "rr, cc = circle(5, 5, 3)\n",
    "img[rr, cc] = 1\n",
    "test = filters.gaussian_filter(img, sigma=5)\n",
    "plt.imshow(test, plt.cm.jet)\n",
    "\n",
    "plt.suptitle('Gaussian filter', size=30)\n",
    "plt.show()"
   ]
  },
  {
   "cell_type": "code",
   "execution_count": null,
   "metadata": {
    "collapsed": true
   },
   "outputs": [],
   "source": [
    "# Take a closer look on how the sigma affects the curve\n",
    "\n",
    "import matplotlib.pyplot as plt\n",
    "import numpy as np\n",
    "import matplotlib.mlab as mlab\n",
    "import math\n",
    "\n",
    "mu = 0\n",
    "variance = 1\n",
    "sigma = math.sqrt(variance)\n",
    "x = np.linspace(mu-3*variance,mu+3*variance, 100)\n",
    "plt.plot(x,mlab.normpdf(x, mu, sigma))\n",
    "plt.ylim(0,0.5)\n",
    "plt.annotate(\"$\\sigma$ = 1\", \n",
    "             (0.4,0.35), \n",
    "             xycoords='data', \n",
    "             xytext=(2, 0.35), \n",
    "             arrowprops=dict(arrowstyle='->'), \n",
    "             size=15)\n",
    "\n",
    "mu = 0\n",
    "variance = 3\n",
    "sigma = math.sqrt(variance)\n",
    "x = np.linspace(mu-3*variance,mu+3*variance, 100)\n",
    "plt.plot(x,mlab.normpdf(x, mu, sigma))\n",
    "plt.annotate(\"$\\sigma$ = 3\", \n",
    "             (0.25,0.22), \n",
    "             xycoords='data', \n",
    "             xytext=(2.5, 0.22), \n",
    "             arrowprops=dict(arrowstyle='->'), \n",
    "             size=15)\n",
    "\n",
    "mu = 0\n",
    "variance = 4\n",
    "sigma = math.sqrt(variance)\n",
    "x = np.linspace(mu-3*variance,mu+3*variance, 100)\n",
    "plt.plot(x,mlab.normpdf(x, mu, sigma))\n",
    "plt.annotate(\"$\\sigma$ = 5\", \n",
    "             (3.2,0.05), \n",
    "             xycoords='data', \n",
    "             xytext=(5, 0.05), \n",
    "             arrowprops=dict(arrowstyle='->'), \n",
    "             size=15)\n",
    "\n",
    "plt.show()"
   ]
  },
  {
   "cell_type": "code",
   "execution_count": null,
   "metadata": {
    "collapsed": true
   },
   "outputs": [],
   "source": [
    "# Let's see this in 3D just because is cool!\n",
    "\n",
    "from pylab import *\n",
    "from mpl_toolkits.mplot3d import Axes3D\n",
    "\n",
    "x = linspace(-5, 5, 200)\n",
    "y = x\n",
    "X,Y = meshgrid(x, y)\n",
    "Z = bivariate_normal(X, Y, sigmax=1.0, sigmay=1.0, mux=0.0, muy=0.0, sigmaxy=0.0)\n",
    "fig = figure()\n",
    "ax = fig.add_subplot(111, projection='3d')\n",
    "ax.plot_surface(X, Y, Z, cmap='jet', antialiased=False, shade=False)\n",
    "title('Gaussian Kernel')\n",
    "plt.show()"
   ]
  },
  {
   "cell_type": "markdown",
   "metadata": {},
   "source": [
    "<img src='images/gauss.gif'>"
   ]
  },
  {
   "cell_type": "code",
   "execution_count": null,
   "metadata": {
    "collapsed": true
   },
   "outputs": [],
   "source": [
    "from skimage import filters\n",
    "\n",
    "sobel = filters.sobel(image[:,:,0])\n",
    "\n",
    "plt.subplot(121)\n",
    "plt.imshow(image[:,:,0], plt.cm.gray)\n",
    "plt.title('Original image')\n",
    "\n",
    "plt.subplot(122)\n",
    "plt.imshow(sobel, plt.cm.gray)\n",
    "plt.title('Sobel filter')\n",
    "plt.show()"
   ]
  },
  {
   "cell_type": "markdown",
   "metadata": {},
   "source": [
    "<img src=\"images/sobel.gif\">"
   ]
  },
  {
   "cell_type": "code",
   "execution_count": null,
   "metadata": {
    "collapsed": true,
    "scrolled": true
   },
   "outputs": [],
   "source": [
    "# Let's try a new image\n",
    "from skimage import feature\n",
    "\n",
    "apple = io.imread('images/apple.jpg')\n",
    "plt.imshow(apple)\n",
    "plt.show()"
   ]
  },
  {
   "cell_type": "code",
   "execution_count": null,
   "metadata": {
    "collapsed": true
   },
   "outputs": [],
   "source": [
    "plt.subplot(121)\n",
    "plt.imshow(apple[:,:,1], plt.cm.gray)\n",
    "plt.title('Original image')\n",
    "\n",
    "plt.subplot(122)\n",
    "plt.imshow(filters.sobel(apple[:,:,2]), plt.cm.gray)\n",
    "plt.title('Sobel filter')\n",
    "plt.show()"
   ]
  },
  {
   "cell_type": "code",
   "execution_count": null,
   "metadata": {
    "collapsed": true,
    "scrolled": true
   },
   "outputs": [],
   "source": [
    "# We can also use filters to detect the edge of objects in an image\n",
    "\n",
    "from skimage import feature\n",
    "\n",
    "edges = feature.canny(apple[:,:,2], sigma=1)\n",
    "plt.imshow(edges, plt.cm.gray)\n",
    "plt.show()"
   ]
  },
  {
   "cell_type": "code",
   "execution_count": null,
   "metadata": {
    "collapsed": true,
    "scrolled": true
   },
   "outputs": [],
   "source": [
    "# Let's see the edge detection compared to the image\n",
    "im1 = plt.imshow(apple)\n",
    "im2 = plt.imshow(edges, plt.cm.gray, alpha=.5)\n",
    "plt.show()"
   ]
  },
  {
   "cell_type": "code",
   "execution_count": null,
   "metadata": {
    "collapsed": true,
    "scrolled": true
   },
   "outputs": [],
   "source": [
    "# Task: import the chessboard dataset from Scikit-image, run the edge detection\n",
    "# in order to get the edges of all the squares.\n",
    "\n",
    "from skimage import data\n",
    "chess = data.checkerboard()\n",
    "edges = feature.canny(chess, sigma=0.1)\n",
    "plt.imshow(chess, plt.cm.gray)\n",
    "#plt.imshow(edges, plt.cm.gray, alpha=0.6)\n",
    "plt.show()"
   ]
  },
  {
   "cell_type": "code",
   "execution_count": null,
   "metadata": {
    "collapsed": true
   },
   "outputs": [],
   "source": [
    "from skimage import measure\n",
    "# Find contours at a constant value of 0.8\n",
    "contours = measure.find_contours(apple[:,:,1], 150)\n",
    "\n",
    "# Display the image and plot all contours found\n",
    "fig, ax = plt.subplots()\n",
    "ax.imshow(apple[:,:,1], interpolation='nearest', cmap=plt.cm.gray)\n",
    "\n",
    "for n, contour in enumerate(contours):\n",
    "    ax.plot(contour[:, 1], contour[:, 0], linewidth=2)\n",
    "\n",
    "ax.axis('image')\n",
    "ax.set_xticks([])\n",
    "ax.set_yticks([])\n",
    "plt.show()"
   ]
  },
  {
   "cell_type": "code",
   "execution_count": null,
   "metadata": {
    "collapsed": true
   },
   "outputs": [],
   "source": [
    "# Task: do the same to the chessboard image\n",
    "\n",
    "contours = measure.find_contours(chess, 175)\n",
    "# Display the image and plot all contours found\n",
    "fig, ax = plt.subplots()\n",
    "ax.imshow(chess, interpolation='nearest', cmap=plt.cm.gray)\n",
    "\n",
    "for n, contour in enumerate(contours):\n",
    "    ax.plot(contour[:, 1], contour[:, 0], linewidth=2)\n",
    "\n",
    "ax.axis('image')\n",
    "ax.set_xticks([])\n",
    "ax.set_yticks([])\n",
    "plt.show()"
   ]
  },
  {
   "cell_type": "code",
   "execution_count": null,
   "metadata": {
    "collapsed": true
   },
   "outputs": [],
   "source": [
    "# We can also use a local maxima search to find objects\n",
    "\n",
    "from skimage import feature\n",
    "\n",
    "beach = io.imread('images/beach.jpg')\n",
    "peaks = feature.peak_local_max(beach[:,:,0], min_distance=10)\n",
    "\n",
    "plt.imshow(beach)\n",
    "plt.scatter(peaks[:, 1], peaks[:, 0], s = 15, marker = 'o')\n",
    "plt.show()"
   ]
  },
  {
   "cell_type": "code",
   "execution_count": null,
   "metadata": {
    "collapsed": true
   },
   "outputs": [],
   "source": [
    "# Task: enhance the results of the peak detection by using image filters\n",
    "\n",
    "# Step 1\n",
    "plt.subplot(131)\n",
    "plt.imshow(beach[:,:,0], plt.cm.gray)\n",
    "plt.title('Red band')\n",
    "plt.subplot(132)\n",
    "plt.imshow(beach[:,:,1], plt.cm.gray)\n",
    "plt.title('Green band')\n",
    "plt.subplot(133)\n",
    "plt.imshow(beach[:,:,1], plt.cm.gray)\n",
    "plt.title('Blue band')\n",
    "plt.show()\n",
    "\n",
    "# Step 2\n",
    "\n",
    "from skimage import filters\n",
    "from skimage import feature\n",
    "\n",
    "gauss = filters.gaussian(beach[:,:,1], sigma=4)\n",
    "peaks = feature.peak_local_max(gauss, min_distance=15)\n",
    "plt.imshow(beach)\n",
    "plt.scatter(peaks[:, 1], peaks[:, 0], s = 25, marker = 'o')\n",
    "plt.show()"
   ]
  },
  {
   "cell_type": "code",
   "execution_count": null,
   "metadata": {
    "collapsed": true
   },
   "outputs": [],
   "source": [
    "import numpy as np\n",
    "import matplotlib.pyplot as plt\n",
    "\n",
    "from skimage import measure\n",
    "\n",
    "\n",
    "# Construct some test data\n",
    "x, y = np.ogrid[-np.pi:np.pi:100j, -np.pi:np.pi:100j]\n",
    "r = np.sin(np.exp((np.sin(x)**3 + np.cos(y)**2)))\n",
    "\n",
    "# Find contours at a constant value of 0.8\n",
    "contours = measure.find_contours(r, 0.8)\n",
    "\n",
    "# Display the image and plot all contours found\n",
    "fig, ax = plt.subplots()\n",
    "ax.imshow(r, interpolation='nearest', cmap=plt.cm.gray)\n",
    "\n",
    "for n, contour in enumerate(contours):\n",
    "    ax.plot(contour[:, 1], contour[:, 0], linewidth=2)\n",
    "\n",
    "ax.axis('image')\n",
    "ax.set_xticks([])\n",
    "ax.set_yticks([])\n",
    "plt.show()"
   ]
  },
  {
   "cell_type": "code",
   "execution_count": null,
   "metadata": {
    "collapsed": true
   },
   "outputs": [],
   "source": [
    "# Task: apply find_contours to the chessboard image\n",
    "\n",
    "from skimage import measure\n",
    "from skimage import filters\n",
    "\n",
    "chess = data.checkerboard()\n",
    "gauss = filters.gaussian(chess, sigma=4)\n",
    "contours = measure.find_contours(gauss, 0.7)\n",
    "\n",
    "# Display the image and plot all contours found\n",
    "fig, ax = plt.subplots()\n",
    "ax.imshow(gauss, interpolation='nearest', cmap=plt.cm.gray)\n",
    "\n",
    "for n, contour in enumerate(contours):\n",
    "    ax.plot(contour[:, 1], contour[:, 0], linewidth=2)\n",
    "\n",
    "ax.axis('image')\n",
    "ax.set_xticks([])\n",
    "ax.set_yticks([])\n",
    "plt.show()"
   ]
  },
  {
   "cell_type": "code",
   "execution_count": null,
   "metadata": {
    "collapsed": true
   },
   "outputs": [],
   "source": [
    "import matplotlib.pyplot as plt\n",
    "\n",
    "from skimage import data\n",
    "from skimage.transform import rescale, resize, downscale_local_mean\n",
    "\n",
    "image = data.camera()\n",
    "\n",
    "image_rescaled = rescale(image, 0.5)\n",
    "image_resized = resize(image, (400, 400), mode='reflect')\n",
    "image_downscaled = downscale_local_mean(image, (2, 3))\n",
    "\n",
    "fig, axes = plt.subplots(nrows=2, ncols=2,\n",
    "                         sharex=True, sharey=True)\n",
    "\n",
    "ax = axes.ravel()\n",
    "\n",
    "ax[0].imshow(image, cmap='gray')\n",
    "ax[0].set_title(\"Original image\")\n",
    "\n",
    "ax[1].imshow(image_rescaled, cmap='gray')\n",
    "ax[1].set_title(\"Rescaled image\")\n",
    "\n",
    "ax[2].imshow(image_resized, cmap='gray')\n",
    "ax[2].set_title(\"Resized image\")\n",
    "\n",
    "ax[3].imshow(image_downscaled, cmap='gray')\n",
    "ax[3].set_title(\"Image downscaled using local averaging\")\n",
    "\n",
    "ax[0].set_xlim(0, 512)\n",
    "ax[0].set_ylim(512, 0)\n",
    "plt.tight_layout()\n",
    "plt.show()"
   ]
  },
  {
   "cell_type": "code",
   "execution_count": null,
   "metadata": {
    "collapsed": true
   },
   "outputs": [],
   "source": [
    "import numpy as np\n",
    "import matplotlib.pyplot as plt\n",
    "from scipy import ndimage as ndi\n",
    "\n",
    "from skimage.morphology import watershed\n",
    "from skimage.feature import peak_local_max\n",
    "\n",
    "# Now we want to separate the two objects in image\n",
    "# Generate the markers as local maxima of the distance to the background\n",
    "distance = ndi.distance_transform_edt(gauss)\n",
    "local_maxi = peak_local_max(distance, indices=False, footprint=np.ones((7, 7)),\n",
    "                            labels=image)\n",
    "markers = ndi.label(local_maxi)[0]\n",
    "labels = watershed(-distance, markers, mask=gauss)\n",
    "\n",
    "fig, axes = plt.subplots(ncols=3, figsize=(9, 3), sharex=True, sharey=True,\n",
    "                         subplot_kw={'adjustable': 'box-forced'})\n",
    "ax = axes.ravel()\n",
    "\n",
    "ax[0].imshow(gauss, cmap=plt.cm.gray, interpolation='nearest')\n",
    "ax[0].set_title('Overlapping objects')\n",
    "ax[1].imshow(-distance, cmap=plt.cm.gray, interpolation='nearest')\n",
    "ax[1].set_title('Distances')\n",
    "ax[2].imshow(labels, cmap=plt.cm.spectral, interpolation='nearest')\n",
    "ax[2].set_title('Separated objects')\n",
    "\n",
    "for a in ax:\n",
    "    a.set_axis_off()\n",
    "\n",
    "fig.tight_layout()\n",
    "plt.show()"
   ]
  },
  {
   "cell_type": "code",
   "execution_count": null,
   "metadata": {
    "collapsed": true
   },
   "outputs": [],
   "source": [
    "# Skeletonization\n",
    "\n",
    "from skimage.morphology import skeletonize\n",
    "from skimage import data\n",
    "import matplotlib.pyplot as plt\n",
    "\n",
    "# Invert the image\n",
    "image = io.imread(\"images/tree.jpg\")\n",
    "gauss = filters.gaussian_filter(image, sigma=1)\n",
    "gauss_ = gauss.copy()\n",
    "gauss[gauss>0.62] = 255\n",
    "gauss[gauss<=0.62] = 1\n",
    "gauss[gauss==255] = 0\n",
    "\n",
    "# perform skeletonization\n",
    "skeleton = skeletonize(gauss)\n",
    "\n",
    "# display results\n",
    "fig, axes = plt.subplots(nrows=1, ncols=4, figsize=(8, 4),\n",
    "                         sharex=True, sharey=True,\n",
    "                         subplot_kw={'adjustable': 'box-forced'})\n",
    "\n",
    "ax = axes.ravel()\n",
    "\n",
    "ax[0].imshow(image, cmap=plt.cm.gray)\n",
    "ax[0].axis('off')\n",
    "ax[0].set_title('Original', fontsize=20)\n",
    "\n",
    "ax[1].imshow(gauss_, cmap=plt.cm.gray)\n",
    "ax[1].axis('off')\n",
    "ax[1].set_title('Filtered', fontsize=20)\n",
    "\n",
    "ax[2].imshow(gauss, cmap=plt.cm.gray)\n",
    "ax[2].axis('off')\n",
    "ax[2].set_title('\"Original\"', fontsize=20)\n",
    "\n",
    "ax[3].imshow(skeleton, cmap=plt.cm.gray)\n",
    "ax[3].axis('off')\n",
    "ax[3].set_title('Skeleton', fontsize=20)\n",
    "\n",
    "fig.tight_layout()\n",
    "plt.show()"
   ]
  },
  {
   "cell_type": "code",
   "execution_count": null,
   "metadata": {
    "collapsed": true
   },
   "outputs": [],
   "source": [
    "# Skeletonization\n",
    "\n",
    "from skimage.morphology import skeletonize\n",
    "from skimage import data\n",
    "import matplotlib.pyplot as plt\n",
    "\n",
    "# Invert the image\n",
    "image = io.imread(\"images/zebra.gif\")\n",
    "gauss = filters.gaussian_filter(image[:,:,0], sigma=0.5)\n",
    "gauss_ = gauss.copy()\n",
    "gauss[gauss>=0.3] = 255\n",
    "gauss[gauss<0.3] = 1\n",
    "gauss[gauss==255] = 0\n",
    "\n",
    "# perform skeletonization\n",
    "skeleton = skeletonize(gauss)\n",
    "\n",
    "# display results\n",
    "fig, axes = plt.subplots(nrows=1, ncols=4, figsize=(8, 4),\n",
    "                         sharex=True, sharey=True,\n",
    "                         subplot_kw={'adjustable': 'box-forced'})\n",
    "\n",
    "ax = axes.ravel()\n",
    "\n",
    "ax[0].imshow(image, cmap=plt.cm.gray)\n",
    "ax[0].axis('off')\n",
    "ax[0].set_title('Original', fontsize=20)\n",
    "\n",
    "ax[1].imshow(gauss_, cmap=plt.cm.gray)\n",
    "ax[1].axis('off')\n",
    "ax[1].set_title('Filtered', fontsize=20)\n",
    "\n",
    "ax[2].imshow(gauss, cmap=plt.cm.gray)\n",
    "ax[2].axis('off')\n",
    "ax[2].set_title('\"Original\"', fontsize=20)\n",
    "\n",
    "ax[3].imshow(skeleton, cmap=plt.cm.gray)\n",
    "ax[3].axis('off')\n",
    "ax[3].set_title('Skeleton', fontsize=20)\n",
    "\n",
    "fig.tight_layout()\n",
    "plt.show()"
   ]
  },
  {
   "cell_type": "markdown",
   "metadata": {},
   "source": [
    "In the next episode of Python 2...\n",
    "\n",
    "You will dive into:\n",
    "   - OpenCV 3.2.0\n",
    "   - PIL 4.1.1\n",
    "\n",
    "**IMPORTANT : Make sure you have both OpenCV and PIL installed with correct versions.**"
   ]
  },
  {
   "cell_type": "markdown",
   "metadata": {},
   "source": [
    "<h1><i><center>To be continued...</center></i></h1>"
   ]
  }
 ],
 "metadata": {
  "anaconda-cloud": {},
  "kernelspec": {
   "display_name": "Python [conda env:py3-dev]",
   "language": "python",
   "name": "conda-env-py3-dev-py"
  },
  "language_info": {
   "codemirror_mode": {
    "name": "ipython",
    "version": 3
   },
   "file_extension": ".py",
   "mimetype": "text/x-python",
   "name": "python",
   "nbconvert_exporter": "python",
   "pygments_lexer": "ipython3",
   "version": "3.5.2"
  }
 },
 "nbformat": 4,
 "nbformat_minor": 0
}
