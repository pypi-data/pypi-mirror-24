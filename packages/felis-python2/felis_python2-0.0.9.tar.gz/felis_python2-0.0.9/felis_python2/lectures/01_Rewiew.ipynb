{
 "cells": [
  {
   "cell_type": "markdown",
   "metadata": {},
   "source": [
    "# Review: let's see Numpy and Matplotlib again"
   ]
  },
  {
   "cell_type": "markdown",
   "metadata": {},
   "source": [
    "In this section we will review and remeber some basics regarding Numpy and Matplotlib. Let's get started with numpy first.  "
   ]
  },
  {
   "cell_type": "markdown",
   "metadata": {},
   "source": [
    "### Numpy"
   ]
  },
  {
   "cell_type": "code",
   "execution_count": 1,
   "metadata": {},
   "outputs": [
    {
     "name": "stdout",
     "output_type": "stream",
     "text": [
      "Numpy version: 1.11.2\n"
     ]
    }
   ],
   "source": [
    "# Let's first import numpy\n",
    "import numpy as np\n",
    "print \"Numpy version: {}\".format(np.__version__)"
   ]
  },
  {
   "cell_type": "code",
   "execution_count": 2,
   "metadata": {},
   "outputs": [
    {
     "name": "stdout",
     "output_type": "stream",
     "text": [
      "Variable type: <type 'numpy.ndarray'>\n",
      "Array shape: (5,)\n",
      "[1 2 3 4 5]\n"
     ]
    }
   ],
   "source": [
    "#Creating an array\n",
    "arr = np.array([1,2,3,4,5])\n",
    "print \"Variable type: {}\".format(type(arr))\n",
    "print \"Array shape: {}\".format(arr.shape)\n",
    "print arr"
   ]
  },
  {
   "cell_type": "code",
   "execution_count": 3,
   "metadata": {},
   "outputs": [
    {
     "name": "stdout",
     "output_type": "stream",
     "text": [
      "Variable type: <type 'numpy.ndarray'>\n",
      "Array shape: (3, 3)\n",
      "[[1 2 3]\n",
      " [4 5 6]\n",
      " [7 8 9]]\n"
     ]
    }
   ],
   "source": [
    "#Creating an array with more dimensions in a hard way\n",
    "arr = np.array([[1,2,3], [4,5,6], [7,8,9]])\n",
    "print \"Variable type: {}\".format(type(arr))\n",
    "print \"Array shape: {}\".format(arr.shape)\n",
    "print arr"
   ]
  },
  {
   "cell_type": "code",
   "execution_count": 4,
   "metadata": {},
   "outputs": [
    {
     "name": "stdout",
     "output_type": "stream",
     "text": [
      "Variable type: <type 'numpy.ndarray'>\n",
      "Array shape: (3, 3)\n",
      "[[1 2 3]\n",
      " [4 5 6]\n",
      " [7 8 9]]\n"
     ]
    }
   ],
   "source": [
    "#Creating an array with more dimensions in an easy way\n",
    "arr = np.array(range(1,10)).reshape(3,3)\n",
    "print \"Variable type: {}\".format(type(arr))\n",
    "print \"Array shape: {}\".format(arr.shape)\n",
    "print arr"
   ]
  },
  {
   "cell_type": "code",
   "execution_count": 5,
   "metadata": {},
   "outputs": [
    {
     "name": "stdout",
     "output_type": "stream",
     "text": [
      "Original:\n",
      " [[1 2 3]\n",
      " [4 5 6]\n",
      " [7 8 9]]\n",
      "Changed 10:\n",
      " [[ 1  2  3]\n",
      " [ 4  5 10]\n",
      " [ 7  8  9]]\n",
      "Changed 12:\n",
      " [[12  2  3]\n",
      " [12  5 10]\n",
      " [12  8  9]]\n",
      "Changed 0:\n",
      " [[ 0  0  0]\n",
      " [12  5 10]\n",
      " [12  8  9]]\n"
     ]
    }
   ],
   "source": [
    "# Changing values\n",
    "\n",
    "a = np.array(range(1,10)).reshape(3,3)\n",
    "print \"Original:\\n {}\".format(a)\n",
    "a[1,2] = 10\n",
    "print \"Changed 10:\\n {}\".format(a)\n",
    "a[:,0] = 12\n",
    "print \"Changed 12:\\n {}\".format(a)\n",
    "a[0,:] = 0\n",
    "print \"Changed 0:\\n {}\".format(a)"
   ]
  },
  {
   "cell_type": "code",
   "execution_count": 6,
   "metadata": {},
   "outputs": [
    {
     "name": "stdout",
     "output_type": "stream",
     "text": [
      "Array 'b':\n",
      " [[ 1  2  3]\n",
      " [ 4 10  6]\n",
      " [ 7  8  9]]\n",
      "Array 'a':\n",
      " [[ 1  2  3]\n",
      " [ 4 10  6]\n",
      " [ 7  8  9]]\n"
     ]
    }
   ],
   "source": [
    "# Dependecy\n",
    "\n",
    "a = np.array(range(1,10)).reshape(3,3)\n",
    "b = a\n",
    "b[1,1] = 10\n",
    "print \"Array 'b':\\n {}\".format(b)\n",
    "print \"Array 'a':\\n {}\".format(a)"
   ]
  },
  {
   "cell_type": "code",
   "execution_count": 7,
   "metadata": {},
   "outputs": [
    {
     "name": "stdout",
     "output_type": "stream",
     "text": [
      "Array 'b':\n",
      " [[ 1  2  3]\n",
      " [ 4 10  6]\n",
      " [ 7  8  9]]\n",
      "Array 'a':\n",
      " [[1 2 3]\n",
      " [4 5 6]\n",
      " [7 8 9]]\n"
     ]
    }
   ],
   "source": [
    "a = np.array(range(1,10)).reshape(3,3)\n",
    "b = a.copy()\n",
    "b[1,1] = 10\n",
    "print \"Array 'b':\\n {}\".format(b)\n",
    "print \"Array 'a':\\n {}\".format(a)"
   ]
  },
  {
   "cell_type": "markdown",
   "metadata": {},
   "source": [
    "#### Slicing\n",
    "<center>\n",
    "$var[lower : upper : step]$\n",
    "</center>"
   ]
  },
  {
   "cell_type": "code",
   "execution_count": 8,
   "metadata": {},
   "outputs": [
    {
     "name": "stdout",
     "output_type": "stream",
     "text": [
      "Task 1: [21 22 23]\n",
      "Task 2: [ 7  8  9 10 11 12]\n",
      "Task 3: [ 5 11 17 23 29 35]\n",
      "Task 4: [ 6 12 18 24 30 36]\n",
      "Task 5: [1, 8, 15, 22, 29, 36]\n"
     ]
    }
   ],
   "source": [
    "# Create a new array\n",
    "a = np.array(range(1,37)).reshape(6,6)\n",
    "'''\n",
    "[[ 1  2  3  4  5  6]\n",
    " [ 7  8  9 10 11 12]\n",
    " [13 14 15 16 17 18]\n",
    " [19 20 21 22 23 24]\n",
    " [25 26 27 28 29 30]\n",
    " [31 32 33 34 35 36]]\n",
    "'''\n",
    "\n",
    "# Task 1\n",
    "# Get [21,22,23]\n",
    "print \"Task 1: {}\".format(a[3,2:5])\n",
    "\n",
    "# Task 2\n",
    "# Get whole second line\n",
    "print \"Task 2: {}\".format(a[1,:])\n",
    "\n",
    "# Task 3\n",
    "# Get whole fifth column\n",
    "print \"Task 3: {}\".format(a[:,4])\n",
    "\n",
    "# Task 4\n",
    "# Get the last element of all columns\n",
    "print \"Task 4: {}\".format(a[:,-1])\n",
    "\n",
    "# Task 5\n",
    "# Get main diagonal without diagonal func\n",
    "indx = range(0,6)\n",
    "s = [a[k,k] for k in indx]\n",
    "print \"Task 5: {}\".format(s)"
   ]
  },
  {
   "cell_type": "code",
   "execution_count": 9,
   "metadata": {},
   "outputs": [
    {
     "name": "stdout",
     "output_type": "stream",
     "text": [
      "[ 1  2  3  4 10 20 30 40]\n"
     ]
    }
   ],
   "source": [
    "# Stacking\n",
    "a = np.array([1,2,3,4])\n",
    "b = np.array([10,20,30,40])\n",
    "h = np.hstack((a,b))\n",
    "print h"
   ]
  },
  {
   "cell_type": "code",
   "execution_count": 10,
   "metadata": {},
   "outputs": [
    {
     "name": "stdout",
     "output_type": "stream",
     "text": [
      "[[ 1  2  3  4]\n",
      " [10 20 30 40]]\n"
     ]
    }
   ],
   "source": [
    "v = np.vstack((a,b))\n",
    "print v"
   ]
  },
  {
   "cell_type": "code",
   "execution_count": 11,
   "metadata": {},
   "outputs": [
    {
     "name": "stdout",
     "output_type": "stream",
     "text": [
      "[[1 2 3 4]]\n",
      "[[10 20 30 40]]\n"
     ]
    }
   ],
   "source": [
    "# Split\n",
    "a,b = np.split(v,2)\n",
    "print a\n",
    "print b"
   ]
  },
  {
   "cell_type": "markdown",
   "metadata": {},
   "source": [
    "<img src=\"images/image01.jpg\" style=\"width: 300px; height: 300px\"/>"
   ]
  },
  {
   "cell_type": "code",
   "execution_count": 12,
   "metadata": {},
   "outputs": [
    {
     "name": "stdout",
     "output_type": "stream",
     "text": [
      "Orange section: [3 4]\n",
      "Blue section: []\n",
      "Red section: [ 2 12 22 32 42 52]\n",
      "Green section: \n",
      " [[20 22 24]\n",
      " [40 42 44]]\n"
     ]
    }
   ],
   "source": [
    "# Create the array shown in the image above\n",
    "numbers = np.array([_[:6] for _ in np.reshape(np.arange(0,60), (6,10))])\n",
    "a,b,c,d,e,f = np.split(numbers,6)\n",
    "arr = np.vstack((a,b,c,d,e,f))\n",
    "\n",
    "# Now slice the array b according to the colors.\n",
    "# Task orange\n",
    "print \"Orange section: {}\".format(arr[0,3:5])\n",
    "\n",
    "# Task blue\n",
    "print \"Blue section: {}\".format(a[4:,4:])\n",
    "\n",
    "# Task red\n",
    "print \"Red section: {}\".format(arr[:,2])\n",
    "\n",
    "# Task green\n",
    "print \"Green section: \\n {}\".format(arr[2::2,::2])"
   ]
  },
  {
   "cell_type": "markdown",
   "metadata": {},
   "source": [
    "<img src=\"images/image02.jpg\" style=\"width: 280px; height: 150px\"/>"
   ]
  },
  {
   "cell_type": "code",
   "execution_count": 13,
   "metadata": {},
   "outputs": [
    {
     "name": "stdout",
     "output_type": "stream",
     "text": [
      "First way: [10 20 50]\n",
      "Second way: [10 20 50]\n"
     ]
    }
   ],
   "source": [
    "# Create the \"a\" array and get \"y\" with slicing.\n",
    "a = np.arange(0,80,10)\n",
    "indices = [1, 2, -3]\n",
    "y1 = a[indices]\n",
    "print 'First way: {}'.format(y1)\n",
    "\n",
    "#In another way\n",
    "mask = np.array([0,1,1,0,0,1,0,0], dtype=bool)\n",
    "y2 = a[mask]\n",
    "print 'Second way: {}'.format(y2)"
   ]
  },
  {
   "cell_type": "markdown",
   "metadata": {},
   "source": [
    "<img src=\"images/image03.jpg\" style=\"width: 300px; height: 300px\"/>"
   ]
  },
  {
   "cell_type": "code",
   "execution_count": 14,
   "metadata": {},
   "outputs": [
    {
     "name": "stdout",
     "output_type": "stream",
     "text": [
      "Orange section: [ 1 12 23 34 45]\n",
      "Blue section: \n",
      " [[30 32 35]\n",
      " [40 42 45]\n",
      " [50 52 55]]\n",
      "Red section: [ 2 22 52]\n"
     ]
    }
   ],
   "source": [
    "# Just like the exercise before, slice the array in the image above according to the colors.\n",
    "\n",
    "# Task orange\n",
    "print \"Orange section: {}\".format(arr[(0,1,2,3,4),(1,2,3,4,5)])\n",
    "\n",
    "# Task blue\n",
    "print \"Blue section: \\n {}\".format(arr[3:,[0, 2, 5]])\n",
    "\n",
    "# Task red\n",
    "mask = np.array([1,0,1,0,0,1], dtype=bool)\n",
    "print \"Red section: {}\".format(arr[mask,2])"
   ]
  },
  {
   "cell_type": "code",
   "execution_count": 15,
   "metadata": {},
   "outputs": [
    {
     "name": "stdout",
     "output_type": "stream",
     "text": [
      "[[ 7  8  9 10 11 12]\n",
      " [13 14 15 16 17 18]\n",
      " [25 26 27 28 29 30]]\n"
     ]
    }
   ],
   "source": [
    "# Incomplete indexing\n",
    "a = np.array(range(1,37)).reshape(6,6)\n",
    "condition = np.array([0, 1, 1, 0, 1, 0], dtype=bool)\n",
    "'''\n",
    "[0] [ 1  2  3  4  5  6]\n",
    "[1] [ 7  8  9 10 11 12]\n",
    "[1] [13 14 15 16 17 18]\n",
    "[0] [19 20 21 22 23 24]\n",
    "[1] [25 26 27 28 29 30]\n",
    "[0] [31 32 33 34 35 36]\n",
    "'''\n",
    "print a[condition]"
   ]
  },
  {
   "cell_type": "code",
   "execution_count": 16,
   "metadata": {},
   "outputs": [
    {
     "name": "stdout",
     "output_type": "stream",
     "text": [
      "[[ 0.05994457  0.09958191  0.87431705  0.31320599  0.17664831  0.27579957]\n",
      " [ 0.64475018  0.00124619  0.89905018  0.60536568  0.01076785  0.74076373]\n",
      " [ 0.80915289  0.77921815  0.53118873  0.55934298  0.10725835  0.25784605]\n",
      " [ 0.53564779  0.56215627  0.30307388  0.94621787  0.00998993  0.14111878]\n",
      " [ 0.01703352  0.1997883   0.1630284   0.28298068  0.61692055  0.95745517]\n",
      " [ 0.69805154  0.09514637  0.87596132  0.73161964  0.94068272  0.77347544]]\n",
      "\n",
      "\n",
      "[[ 0.05994457  0.09958191  0.          0.31320599  0.17664831  0.27579957]\n",
      " [ 0.          0.00124619  0.          0.          0.01076785  0.        ]\n",
      " [ 0.          0.          0.          0.          0.10725835  0.25784605]\n",
      " [ 0.          0.          0.30307388  0.          0.00998993  0.14111878]\n",
      " [ 0.01703352  0.1997883   0.1630284   0.28298068  0.          0.        ]\n",
      " [ 0.          0.09514637  0.          0.          0.          0.        ]]\n"
     ]
    }
   ],
   "source": [
    "z = np.random.rand(6,6)\n",
    "print z\n",
    "print '\\n'\n",
    "z[z>0.5] = 0\n",
    "print z"
   ]
  },
  {
   "cell_type": "code",
   "execution_count": 17,
   "metadata": {},
   "outputs": [
    {
     "name": "stdout",
     "output_type": "stream",
     "text": [
      "(array([0, 0, 1, 1, 1, 1, 2, 2, 2, 3, 3, 3, 3, 4, 4, 5, 5, 5, 5, 5]), array([1, 4, 0, 2, 4, 5, 0, 2, 4, 0, 1, 4, 5, 1, 4, 0, 1, 2, 4, 5]))\n",
      "[ 0.91053273  0.98222565  0.86259638  0.81449252  0.64590045  0.72468667\n",
      "  0.58085747  0.77630957  0.72721491  0.75356716  0.58286672  0.97200637\n",
      "  0.94825624  0.84097042  0.70552995  0.84447602  0.55971189  0.75164398\n",
      "  0.6108447   0.59654047]\n"
     ]
    }
   ],
   "source": [
    "z = np.random.rand(6,6)\n",
    "mask = np.where(z>0.5)\n",
    "print mask\n",
    "print z[mask]"
   ]
  },
  {
   "cell_type": "markdown",
   "metadata": {},
   "source": [
    "<img src='images/image04.jpg'/>"
   ]
  },
  {
   "cell_type": "code",
   "execution_count": 18,
   "metadata": {},
   "outputs": [
    {
     "name": "stdout",
     "output_type": "stream",
     "text": [
      "[[[  0   1   2   3   4   5   6]\n",
      "  [  7   8   9  10  11  12  13]\n",
      "  [ 14  15  16  17  18  19  20]\n",
      "  [ 21  22  23  24  25  26  27]\n",
      "  [ 28  29  30  31  32  33  34]\n",
      "  [ 35  36  37  38  39  40  41]\n",
      "  [ 42  43  44  45  46  47  48]]\n",
      "\n",
      " [[ 49  50  51  52  53  54  55]\n",
      "  [ 56  57  58  59  60  61  62]\n",
      "  [ 63  64  65  66  67  68  69]\n",
      "  [ 70  71  72  73  74  75  76]\n",
      "  [ 77  78  79  80  81  82  83]\n",
      "  [ 84  85  86  87  88  89  90]\n",
      "  [ 91  92  93  94  95  96  97]]\n",
      "\n",
      " [[ 98  99 100 101 102 103 104]\n",
      "  [105 106 107 108 109 110 111]\n",
      "  [112 113 114 115 116 117 118]\n",
      "  [119 120 121 122 123 124 125]\n",
      "  [126 127 128 129 130 131 132]\n",
      "  [133 134 135 136 137 138 139]\n",
      "  [140 141 142 143 144 145 146]]\n",
      "\n",
      " [[147 148 149 150 151 152 153]\n",
      "  [154 155 156 157 158 159 160]\n",
      "  [161 162 163 164 165 166 167]\n",
      "  [168 169 170 171 172 173 174]\n",
      "  [175 176 177 178 179 180 181]\n",
      "  [182 183 184 185 186 187 188]\n",
      "  [189 190 191 192 193 194 195]]\n",
      "\n",
      " [[196 197 198 199 200 201 202]\n",
      "  [203 204 205 206 207 208 209]\n",
      "  [210 211 212 213 214 215 216]\n",
      "  [217 218 219 220 221 222 223]\n",
      "  [224 225 226 227 228 229 230]\n",
      "  [231 232 233 234 235 236 237]\n",
      "  [238 239 240 241 242 243 244]]\n",
      "\n",
      " [[245 246 247 248 249 250 251]\n",
      "  [252 253 254 255 256 257 258]\n",
      "  [259 260 261 262 263 264 265]\n",
      "  [266 267 268 269 270 271 272]\n",
      "  [273 274 275 276 277 278 279]\n",
      "  [280 281 282 283 284 285 286]\n",
      "  [287 288 289 290 291 292 293]]]\n",
      "\n",
      "\n",
      "[[[  2   5]\n",
      "  [  9  12]\n",
      "  [ 16  19]\n",
      "  [ 23  26]\n",
      "  [ 30  33]\n",
      "  [ 37  40]\n",
      "  [ 44  47]]\n",
      "\n",
      " [[ 51  54]\n",
      "  [ 58  61]\n",
      "  [ 65  68]\n",
      "  [ 72  75]\n",
      "  [ 79  82]\n",
      "  [ 86  89]\n",
      "  [ 93  96]]\n",
      "\n",
      " [[100 103]\n",
      "  [107 110]\n",
      "  [114 117]\n",
      "  [121 124]\n",
      "  [128 131]\n",
      "  [135 138]\n",
      "  [142 145]]\n",
      "\n",
      " [[149 152]\n",
      "  [156 159]\n",
      "  [163 166]\n",
      "  [170 173]\n",
      "  [177 180]\n",
      "  [184 187]\n",
      "  [191 194]]\n",
      "\n",
      " [[198 201]\n",
      "  [205 208]\n",
      "  [212 215]\n",
      "  [219 222]\n",
      "  [226 229]\n",
      "  [233 236]\n",
      "  [240 243]]\n",
      "\n",
      " [[247 250]\n",
      "  [254 257]\n",
      "  [261 264]\n",
      "  [268 271]\n",
      "  [275 278]\n",
      "  [282 285]\n",
      "  [289 292]]]\n"
     ]
    }
   ],
   "source": [
    "# 3D indexing\n",
    "\n",
    "a = np.array(range(0,294)).reshape(6,7,7)\n",
    "y = a[:,:,[2,-2]]\n",
    "print a # a[0]\n",
    "print '\\n'\n",
    "print y # y[0]"
   ]
  },
  {
   "cell_type": "code",
   "execution_count": 19,
   "metadata": {},
   "outputs": [
    {
     "name": "stdout",
     "output_type": "stream",
     "text": [
      "Size: 36\n",
      "Dimensions: 2\n",
      "Diagonal 0: [ 0 11 22 33 44 55]\n",
      "Flat: [ 0  1  2  3  4  5 10 11 12 13 14 15 20 21 22 23 24 25 30 31 32 33 34 35 40\n",
      " 41 42 43 44 45 50 51 52 53 54 55]\n",
      "Dimensions: 36\n",
      "0\n",
      "1\n",
      "2\n",
      "3\n",
      "4\n",
      "5\n",
      "10\n",
      "11\n",
      "12\n",
      "13\n",
      "14\n",
      "15\n",
      "20\n",
      "21\n",
      "22\n",
      "23\n",
      "24\n",
      "25\n",
      "30\n",
      "31\n",
      "32\n",
      "33\n",
      "34\n",
      "35\n",
      "40\n",
      "41\n",
      "42\n",
      "43\n",
      "44\n",
      "45\n",
      "50\n",
      "51\n",
      "52\n",
      "53\n",
      "54\n",
      "55\n"
     ]
    }
   ],
   "source": [
    "# Let's use some extra functions\n",
    "# Get the size f the array\n",
    "print \"Size: {}\".format(arr.size)\n",
    "#---------------------------------------------------------\n",
    "# Get the number of dimensions of the array\n",
    "print \"Dimensions: {}\".format(arr.ndim)\n",
    "#---------------------------------------------------------\n",
    "# Get the diagonal from different sources\n",
    "n = 0 #0, 1, 2, 3\n",
    "print \"Diagonal {}: {}\".format(n,arr.diagonal())\n",
    "#---------------------------------------------------------\n",
    "# Get a flat array (good for plotting)\n",
    "f = arr.flatten()\n",
    "print \"Flat: {}\".format(f)\n",
    "print \"Dimensions: {}\".format(f.shape[0])\n",
    "#---------------------------------------------------------\n",
    "# Interact through the whole array\n",
    "for i in np.nditer(arr):\n",
    "    print i\n",
    "#---------------------------------------------------------"
   ]
  },
  {
   "cell_type": "markdown",
   "metadata": {},
   "source": [
    "### Matplotlib"
   ]
  },
  {
   "cell_type": "code",
   "execution_count": 20,
   "metadata": {
    "collapsed": true
   },
   "outputs": [],
   "source": [
    "import matplotlib.pyplot as plt\n",
    "# Plots inside the notebook\n",
    "%matplotlib inline"
   ]
  },
  {
   "cell_type": "code",
   "execution_count": 21,
   "metadata": {},
   "outputs": [
    {
     "data": {
      "text/plain": [
       "[<matplotlib.lines.Line2D at 0x7f69b4679810>]"
      ]
     },
     "execution_count": 21,
     "metadata": {},
     "output_type": "execute_result"
    },
    {
     "data": {
      "image/png": "[encoded data removed]",
      "text/plain": [
       "<matplotlib.figure.Figure at 0x7f69b4679790>"
      ]
     },
     "metadata": {},
     "output_type": "display_data"
    }
   ],
   "source": [
    "# let's create some data\n",
    "x = np.linspace(0, 2**np.pi, 100)\n",
    "\n",
    "# and now plot it\n",
    "plt.plot(np.sin(x))\n",
    "plt.plot(np.cos(x))"
   ]
  },
  {
   "cell_type": "code",
   "execution_count": 22,
   "metadata": {},
   "outputs": [],
   "source": [
    "# now try to change the looks of the plot (change colors, aspect of the line, add markers)\n",
    "# run 'plt.plot?'"
   ]
  },
  {
   "cell_type": "code",
   "execution_count": 23,
   "metadata": {},
   "outputs": [
    {
     "data": {
      "text/plain": [
       "<matplotlib.text.Text at 0x7f69b2025c50>"
      ]
     },
     "execution_count": 23,
     "metadata": {},
     "output_type": "execute_result"
    },
    {
     "data": {
      "image/png": "[encoded data removed]",
      "text/plain": [
       "<matplotlib.figure.Figure at 0x7f69b216d9d0>"
      ]
     },
     "metadata": {},
     "output_type": "display_data"
    }
   ],
   "source": [
    "# Adding extra elements\n",
    "plt.plot(np.sin(x), label='sin') # also can use plt.xlabel\n",
    "plt.plot(np.cos(x), label='cos') # also can use plt.ylabel\n",
    "plt.legend()\n",
    "plt.grid()\n",
    "plt.suptitle('Sine and Cossine')"
   ]
  },
  {
   "cell_type": "code",
   "execution_count": 24,
   "metadata": {},
   "outputs": [
    {
     "data": {
      "image/png": "[encoded data removed]",
      "text/plain": [
       "<matplotlib.figure.Figure at 0x7f69b20b27d0>"
      ]
     },
     "metadata": {},
     "output_type": "display_data"
    }
   ],
   "source": [
    "# lets work with subplots\n",
    "plt.subplot(1,2,1)\n",
    "plt.plot(np.sin(x))\n",
    "plt.subplot(1,2,2)\n",
    "plt.plot(np.cos(x))\n",
    "plt.tight_layout() # try with this off"
   ]
  },
  {
   "cell_type": "code",
   "execution_count": 25,
   "metadata": {},
   "outputs": [
    {
     "data": {
      "text/plain": [
       "<matplotlib.text.Text at 0x7f69b19d92d0>"
      ]
     },
     "execution_count": 25,
     "metadata": {},
     "output_type": "execute_result"
    },
    {
     "data": {
      "image/png": "[encoded data removed]",
      "text/plain": [
       "<matplotlib.figure.Figure at 0x7f69b19d9310>"
      ]
     },
     "metadata": {},
     "output_type": "display_data"
    }
   ],
   "source": [
    "import matplotlib.mlab as mlab\n",
    "x = np.random.randn(1000)\n",
    "\n",
    "# example data\n",
    "mu = np.mean(x)  # mean of distribution\n",
    "sigma = np.std(x)  # standard deviation of distribution\n",
    "x = mu + sigma * np.random.randn(1000)\n",
    "\n",
    "num_bins = 50\n",
    "\n",
    "# the histogram of the data\n",
    "n, bins, patches = plt.hist(x, num_bins, normed=1)\n",
    "\n",
    "# add a 'best fit' line\n",
    "y = mlab.normpdf(bins, mu, sigma)\n",
    "plt.plot(bins, y, 'r--', linewidth=2)\n",
    "plt.xlabel('Smarts')\n",
    "plt.ylabel('Probability density')\n",
    "plt.suptitle('Histogram of IQ: $\\mu={}$, $\\sigma={}$'.format(mu.round(2), sigma.round(2)))"
   ]
  },
  {
   "cell_type": "code",
   "execution_count": 27,
   "metadata": {},
   "outputs": [
    {
     "ename": "ImportError",
     "evalue": "No module named scipy.misc",
     "traceback": [
      "\u001b[0;31m---------------------------------------------------------------------------\u001b[0m",
      "\u001b[0;31mImportError\u001b[0m                               Traceback (most recent call last)",
      "\u001b[0;32m<ipython-input-27-681c947eb18a>\u001b[0m in \u001b[0;36m<module>\u001b[0;34m()\u001b[0m\n\u001b[1;32m      1\u001b[0m \u001b[0;31m# Let's plot some images\u001b[0m\u001b[0;34m\u001b[0m\u001b[0;34m\u001b[0m\u001b[0m\n\u001b[0;32m----> 2\u001b[0;31m \u001b[0;32mfrom\u001b[0m \u001b[0mscipy\u001b[0m\u001b[0;34m.\u001b[0m\u001b[0mmisc\u001b[0m \u001b[0;32mimport\u001b[0m \u001b[0mface\u001b[0m\u001b[0;34m\u001b[0m\u001b[0m\n\u001b[0m\u001b[1;32m      3\u001b[0m \u001b[0mimg\u001b[0m \u001b[0;34m=\u001b[0m \u001b[0mface\u001b[0m\u001b[0;34m(\u001b[0m\u001b[0;34m)\u001b[0m\u001b[0;34m\u001b[0m\u001b[0m\n\u001b[1;32m      4\u001b[0m \u001b[0;34m\u001b[0m\u001b[0m\n\u001b[1;32m      5\u001b[0m \u001b[0mplt\u001b[0m\u001b[0;34m.\u001b[0m\u001b[0mimshow\u001b[0m\u001b[0;34m(\u001b[0m\u001b[0mimg\u001b[0m\u001b[0;34m)\u001b[0m\u001b[0;34m\u001b[0m\u001b[0m\n",
      "\u001b[0;31mImportError\u001b[0m: No module named scipy.misc"
     ],
     "output_type": "error"
    }
   ],
   "source": [
    "# Let's plot some images\n",
    "from scipy.misc import face\n",
    "img = face()\n",
    "\n",
    "plt.imshow(img)"
   ]
  },
  {
   "cell_type": "code",
   "execution_count": 2,
   "metadata": {},
   "outputs": [
    {
     "ename": "NameError",
     "evalue": "name 'img' is not defined",
     "traceback": [
      "\u001b[1;31m---------------------------------------------------------------------------\u001b[0m",
      "\u001b[1;31mNameError\u001b[0m                                 Traceback (most recent call last)",
      "\u001b[1;32m<ipython-input-2-0446b6b6b4ce>\u001b[0m in \u001b[0;36m<module>\u001b[1;34m()\u001b[0m\n\u001b[0;32m      7\u001b[0m \u001b[0mfig\u001b[0m \u001b[1;33m=\u001b[0m \u001b[0mplt\u001b[0m\u001b[1;33m.\u001b[0m\u001b[0mfigure\u001b[0m\u001b[1;33m(\u001b[0m\u001b[1;33m)\u001b[0m\u001b[1;33m\u001b[0m\u001b[0m\n\u001b[0;32m      8\u001b[0m \u001b[0max1\u001b[0m \u001b[1;33m=\u001b[0m \u001b[0mfig\u001b[0m\u001b[1;33m.\u001b[0m\u001b[0madd_subplot\u001b[0m\u001b[1;33m(\u001b[0m\u001b[1;36m3\u001b[0m\u001b[1;33m,\u001b[0m\u001b[1;36m1\u001b[0m\u001b[1;33m,\u001b[0m\u001b[1;36m1\u001b[0m\u001b[1;33m)\u001b[0m\u001b[1;33m\u001b[0m\u001b[0m\n\u001b[1;32m----> 9\u001b[1;33m \u001b[0max1\u001b[0m\u001b[1;33m.\u001b[0m\u001b[0mimshow\u001b[0m\u001b[1;33m(\u001b[0m\u001b[0mimg\u001b[0m\u001b[1;33m[\u001b[0m\u001b[1;33m:\u001b[0m\u001b[1;33m,\u001b[0m\u001b[1;33m:\u001b[0m\u001b[1;33m,\u001b[0m\u001b[1;36m0\u001b[0m\u001b[1;33m]\u001b[0m\u001b[1;33m,\u001b[0m \u001b[0mplt\u001b[0m\u001b[1;33m.\u001b[0m\u001b[0mcm\u001b[0m\u001b[1;33m.\u001b[0m\u001b[0mReds\u001b[0m\u001b[1;33m)\u001b[0m\u001b[1;33m\u001b[0m\u001b[0m\n\u001b[0m\u001b[0;32m     10\u001b[0m \u001b[0max1\u001b[0m\u001b[1;33m.\u001b[0m\u001b[0mset_title\u001b[0m\u001b[1;33m(\u001b[0m\u001b[1;34m'Red'\u001b[0m\u001b[1;33m)\u001b[0m\u001b[1;33m\u001b[0m\u001b[0m\n\u001b[0;32m     11\u001b[0m \u001b[0max1\u001b[0m\u001b[1;33m.\u001b[0m\u001b[0mlocator_params\u001b[0m\u001b[1;33m(\u001b[0m\u001b[0mnbins\u001b[0m\u001b[1;33m=\u001b[0m\u001b[1;36m4\u001b[0m\u001b[1;33m)\u001b[0m\u001b[1;33m\u001b[0m\u001b[0m\n",
      "\u001b[1;31mNameError\u001b[0m: name 'img' is not defined"
     ],
     "output_type": "error"
    }
   ],
   "source": [
    "# Try to separate the bands of the image in 3 different \n",
    "# arrays using slicing and then plot all three of them in a subplot setting (3 lines by 1 column)\n",
    "import matplotlib.pyplot as plt\n",
    "\n",
    "\n",
    "\n",
    "fig = plt.figure()                                                               \n",
    "ax1 = fig.add_subplot(3,1,1)\n",
    "ax1.imshow(img[:,:,0], plt.cm.Reds)\n",
    "ax1.set_title('Red')\n",
    "ax1.locator_params(nbins=4)\n",
    "\n",
    "ax2 = fig.add_subplot(3,1,2)\n",
    "ax2.imshow(img[:,:,1], plt.cm.Greens)\n",
    "ax2.set_title('Green')\n",
    "ax2.locator_params(nbins=4)\n",
    "\n",
    "ax3 = fig.add_subplot(3,1,3)\n",
    "ax3.imshow(img[:,:,2], plt.cm.Blues)\n",
    "ax3.set_title('Blue')\n",
    "ax3.locator_params(nbins=4)\n",
    "\n",
    "plt.tight_layout()"
   ]
  },
  {
   "cell_type": "code",
   "execution_count": null,
   "metadata": {},
   "outputs": [],
   "source": [
    "plt.imshow(img[:,:,0], plt.cm.gray)\n",
    "plt.colorbar()"
   ]
  },
  {
   "cell_type": "code",
   "execution_count": null,
   "metadata": {},
   "outputs": [],
   "source": [
    "# Now let's do something different. How can one add a table to the plot??\n",
    "plt.figure()\n",
    "y = np.random.randn(100)\n",
    "col_labels = ['col1','col2','col3']\n",
    "row_labels = ['row1','row2','row3']\n",
    "table_vals = [[11, 12, 13], [21, 22, 23], [28, 29, 30]]\n",
    "row_colors = ['red', 'gold', 'green']\n",
    "my_table = plt.table(cellText=table_vals,\n",
    "                     colWidths=[0.1] * 3,\n",
    "                     rowLabels=row_labels,\n",
    "                     colLabels=col_labels,\n",
    "                     rowColours=row_colors,\n",
    "                     loc='upper right')\n",
    "plt.plot(y)\n",
    "plt.tight_layout()"
   ]
  },
  {
   "cell_type": "code",
   "execution_count": null,
   "metadata": {},
   "outputs": [],
   "source": [
    "x = np.linspace(0,2**np.pi,100)\n",
    "plt.figure(0)\n",
    "axes1 = plt.subplot2grid((3, 3), (0, 0), colspan=3) #try changing colspan (e.g. 2 or 1)\n",
    "axes2 = plt.subplot2grid((3, 3), (1, 0), colspan=2)\n",
    "axes3 = plt.subplot2grid((3, 3), (1, 2))\n",
    "axes4 = plt.subplot2grid((3, 3), (2, 0))\n",
    "axes5 = plt.subplot2grid((3, 3), (2, 1), colspan=2)\n",
    "# tidy up tick labels size\n",
    "all_axes = plt.gcf().axes\n",
    "for ax in all_axes:\n",
    "    for ticklabel in ax.get_xticklabels() + ax.get_yticklabels():\n",
    "        ticklabel.set_fontsize(10)\n",
    "plt.suptitle(\"Demo of subplot2grid\")\n",
    "plt.tight_layout() # try it off"
   ]
  },
  {
   "cell_type": "code",
   "execution_count": null,
   "metadata": {},
   "outputs": [],
   "source": [
    "# Now we're going to color some plots\n",
    "from math import sqrt\n",
    "t = range(1000)\n",
    "y = [sqrt(i) for i in t]\n",
    "plt.plot(t, y, color='red', lw=2)\n",
    "plt.fill_between(t, y, color='silver')\n",
    "plt.show()"
   ]
  },
  {
   "cell_type": "code",
   "execution_count": 1,
   "metadata": {},
   "outputs": [],
   "source": [
    "x = np.arange(0.0, 2, 0.01)\n",
    "y1 = np.sin(np.pi*x)\n",
    "y2 = 1.7*np.sin(4*np.pi*x)\n",
    "fig = plt.figure()\n",
    "axes1 = fig.add_subplot(211)\n",
    "axes1.plot(x, y1, x, y2, color='grey')\n",
    "axes1.fill_between(x, y1, y2, where=y2<=y1, facecolor='blue',\n",
    "interpolate=True)\n",
    "axes1.fill_between(x, y1, y2, where=y2>=y1, facecolor='gold',\n",
    "interpolate=True)\n",
    "axes1.set_title('Blue where y2 <= y1. Gold-color where y2 >= y1.')\n",
    "axes1.set_ylim(-2,2)\n",
    "\n",
    "# Mask values in y2 with value greater than 1.0\n",
    "y2 = np.ma.masked_greater(y2, 1.0)\n",
    "axes2 = fig.add_subplot(212, sharex=axes1)\n",
    "axes2.plot(x, y1, x, y2, color='black')\n",
    "axes2.fill_between(x, y1, y2, where=y2<=y1, facecolor='blue',\n",
    "interpolate=True)\n",
    "axes2.fill_between(x, y1, y2, where=y2>=y1, facecolor='gold',\n",
    "interpolate=True)\n",
    "axes2.set_title('Same as above, but mask')\n",
    "axes2.set_ylim(-2,2)\n",
    "axes2.grid('on')\n",
    "plt.tight_layout()\n",
    "plt.show()"
   ]
  },
  {
   "cell_type": "code",
   "execution_count": null,
   "metadata": {},
   "outputs": [],
   "source": [
    "# 3D plots\n",
    "\n",
    "import random\n",
    "import matplotlib as mpl\n",
    "import matplotlib.dates as mdates\n",
    "from mpl_toolkits.mplot3d import Axes3D\n",
    "\n",
    "mpl.rcParams['font.size'] = 10\n",
    "fig = plt.figure()\n",
    "ax = fig.add_subplot(111, projection='3d')\n",
    "for z in [2011, 2012, 2013, 2014]:\n",
    "    xs = xrange(1,13)\n",
    "    ys = 1000 * np.random.rand(12)\n",
    "    color = plt.cm.Set2(random.choice(xrange(plt.cm.Set2.N)))\n",
    "    ax.bar(xs, ys, zs=z, zdir='y', color=color, alpha=0.8)\n",
    "ax.xaxis.set_major_locator(mpl.ticker.FixedLocator(xs))\n",
    "ax.yaxis.set_major_locator(mpl.ticker.FixedLocator(ys))\n",
    "ax.set_xlabel('Month')\n",
    "ax.set_ylabel('Year')\n",
    "ax.set_zlabel('Sales Net [usd]')\n",
    "plt.tight_layout()\n",
    "plt.show()"
   ]
  },
  {
   "cell_type": "code",
   "execution_count": null,
   "metadata": {},
   "outputs": [],
   "source": [
    "# flow plot\n",
    "\n",
    "Y, X = np.mgrid[0:5:100j, 0:5:100j]\n",
    "U = X # try np.sin(X)\n",
    "V = Y # try np.sin(Y)\n",
    "\n",
    "plt.streamplot(X, Y, U, V)\n",
    "plt.xlim(xmin=0, xmax=5)\n",
    "plt.ylim(ymin=0, ymax=5)\n",
    "plt.tight_layout\n",
    "plt.show()"
   ]
  },
  {
   "cell_type": "code",
   "execution_count": null,
   "metadata": {},
   "outputs": [],
   "source": [
    "# Let's play with colors\n",
    "plt.colormaps()"
   ]
  },
  {
   "cell_type": "code",
   "execution_count": null,
   "metadata": {},
   "outputs": [],
   "source": [
    "# But what should I do if I want a color that I can not find in colormaps()?\n",
    "# http://colorbrewer2.org/#type=sequential&scheme=BuGn&n=3\n",
    "\n",
    "import matplotlib as mpl\n",
    "import matplotlib.pyplot as plt\n",
    "import numpy as np\n",
    "# Red Yellow Green divergent colormap\n",
    "red_yellow_green = ['#d73027', '#f46d43', '#fdae61',\n",
    "                    '#fee08b', '#ffffbf', '#d9ef8b',\n",
    "                    '#a6d96a', '#66bd63', '#1a9850']\n",
    "sample_size = 500\n",
    "fig, ax = plt.subplots(1)\n",
    "for i in range(9):\n",
    "    y = np.random.normal(size=sample_size).cumsum()\n",
    "    x = np.arange(sample_size)\n",
    "    ax.scatter(x, \n",
    "               y, \n",
    "               label=str(i), \n",
    "               linewidth=0.1, \n",
    "               edgecolors='grey',\n",
    "               facecolor=red_yellow_green[i])\n",
    "ax.legend()\n",
    "plt.xlim(xmin=0)\n",
    "plt.tight_layout()\n",
    "plt.show()"
   ]
  },
  {
   "cell_type": "code",
   "execution_count": null,
   "metadata": {},
   "outputs": [],
   "source": [
    "# box plot\n",
    "\n",
    "# define data\n",
    "PROCESSES = {\"A\": [12, 15, 23, 24, 30, 31, 33, 36, 50, 73],\n",
    "             \"B\": [6, 22, 26, 33, 35, 47, 54, 55, 62, 63],\n",
    "             \"C\": [2, 3, 6, 8, 13, 14, 19, 23, 60, 69],\n",
    "             \"D\": [1, 22, 36, 37, 45, 47, 48, 51, 52, 69]}\n",
    "DATA = PROCESSES.values()\n",
    "LABELS = PROCESSES.keys()\n",
    "plt.boxplot(DATA, notch=False, widths=0.3)\n",
    "# set ticklabel to process name\n",
    "plt.gca().xaxis.set_ticklabels(LABELS)\n",
    "# some clean up(removing chartjunk)\n",
    "# turn the spine off\n",
    "for spine in plt.gca().spines.values():\n",
    "    spine.set_visible(False)\n",
    "# turn all ticks for x-axis off\n",
    "plt.gca().xaxis.set_ticks_position('none')\n",
    "# leave left ticks for y-axis on\n",
    "plt.gca().yaxis.set_ticks_position('left')\n",
    "# set axes labels\n",
    "plt.ylabel(\"Errors observed over defined period.\")\n",
    "plt.xlabel(\"Process observed over defined period.\")"
   ]
  },
  {
   "cell_type": "markdown",
   "metadata": {},
   "source": [
    "<img src=\"images/that.gif\"/>"
   ]
  }
 ],
 "metadata": {
  "anaconda-cloud": {},
  "kernelspec": {
   "display_name": "Python 3",
   "language": "python",
   "name": "python3"
  },
  "language_info": {
   "codemirror_mode": {
    "name": "ipython",
    "version": 3.0
   },
   "file_extension": ".py",
   "mimetype": "text/x-python",
   "name": "python",
   "nbconvert_exporter": "python",
   "pygments_lexer": "ipython3",
   "version": "3.5.3"
  }
 },
 "nbformat": 4,
 "nbformat_minor": 0
}