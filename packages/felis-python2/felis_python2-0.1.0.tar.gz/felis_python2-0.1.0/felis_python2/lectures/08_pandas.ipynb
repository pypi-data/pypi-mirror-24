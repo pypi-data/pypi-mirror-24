{
 "cells": [
  {
   "cell_type": "markdown",
   "metadata": {},
   "source": [
    "# 08 pandas"
   ]
  },
  {
   "cell_type": "markdown",
   "metadata": {
    "collapsed": true
   },
   "source": [
    "As already introduced in the Python 1 session about pandas, it's a data analysis library that goes way beyond descriptive statistics. The pandas lib combines usability performance like possibly no other Python module. A major benefit is the new introduced DataFrame structure, which can be tought of being similar to SQL database table. From this one interface a majority of scipy and numpy functions are available as instance methods. The convenient itertools package makes the DataFrame searchable and iterable at notable speeds.<br>\n",
    "In this session we will explore some real world loan data. The data is from https://datahack.analyticsvidhya.com/contest/practice-problem-loan-prediction-iii/#data_dictionary an still ongoing hackathon, so in case you want to follow this data exploration by implementing a predictive machine leraning algorithm, you could direcly upload your results there."
   ]
  },
  {
   "cell_type": "code",
   "execution_count": null,
   "metadata": {
    "collapsed": true
   },
   "outputs": [],
   "source": [
    "%matplotlib inline\n",
    "import pandas as pd\n",
    "import numpy as np\n",
    "import matplotlib.pyplot as plt"
   ]
  },
  {
   "cell_type": "code",
   "execution_count": null,
   "metadata": {
    "collapsed": false
   },
   "outputs": [],
   "source": [
    "df = pd.read_csv('data/train.csv')\n",
    "df.head(10)"
   ]
  },
  {
   "cell_type": "markdown",
   "metadata": {},
   "source": [
    "That worked quite well. Now before starting we should do some cleanup and gather some basic statistics about our dataset.<br><br>\n",
    "<div class=\"alert alert-success\">**QUESTION:** Which method can be used to produce basic statistics about all columns?</div>"
   ]
  },
  {
   "cell_type": "code",
   "execution_count": null,
   "metadata": {
    "collapsed": false,
    "scrolled": true
   },
   "outputs": [],
   "source": [
    ""
   ]
  },
  {
   "cell_type": "markdown",
   "metadata": {},
   "source": [
    "## Data Cleanup"
   ]
  },
  {
   "cell_type": "markdown",
   "metadata": {},
   "source": [
    "<div class=\"alert alert-success\">**Task:** Which of the columns does need cleanup as the statistics might have some flaws or do not show up in the description table? Remove all the flaws to create a consistent dataset. </div>"
   ]
  },
  {
   "cell_type": "markdown",
   "metadata": {},
   "source": [
    "First of all, here are the table column descriptions:\n",
    "<table class=\"table table-striped\">\n",
    "<thead>\n",
    "<tr><th>Variable</th><th>Description</th></tr>\n",
    "</thead>\n",
    "<tbody>\n",
    "<tr><td>Loan_ID</td><td>Unique Loan ID</td></tr>\n",
    "<tr><td>Gender</td><td>Male / Female</td></tr>\n",
    "<tr><td>Married</td><td>Applicant married (Y/N)</td></tr>\n",
    "<tr><td>Dependents</td><td>Number of dependents</td></tr>\n",
    "<tr><td>Education</td><td>Applicant Education (Graduate / Under Graduade)</td></tr>\n",
    "<tr><td>Self_Employed</td><td>Is the Person Selfemployed? True or False</td></tr>\n",
    "<tr><td>ApplicantIncome</td><td>Income of the Applicant</td></tr>\n",
    "<tr><td>CoapplicantIncome</td><td>Income of the Coapllicant</td></tr>\n",
    "<tr><td>LoanAmount</td><td>Loan amount in thousands</td></tr>\n",
    "<tr><td>Loan_Amount_Term</td><td>Term of loan in months</td></tr>\n",
    "<tr><td>Credit_History</td><td>Credibility of the applicant extracted from various sources. Including banks, credit card companies, collection agencies, and governments.</td></tr>\n",
    "<tr><td>Property_Area</td><td>Is the Area Urban/ Semi Urban or Rural?</td></tr>\n",
    "<tr><td>Loan_Status</td><td>Did the Person get a loan? (Y/N)</td></tr>\n",
    "</tbody></table>"
   ]
  },
  {
   "cell_type": "markdown",
   "metadata": {},
   "source": [
    "<div class=\"alert alert-info\">**STEP 1:** Check the Gender column for only valid values and clean the table. The unique instance method is a wrapper for numpy.unique and appropiate for this task.</div>"
   ]
  },
  {
   "cell_type": "code",
   "execution_count": null,
   "metadata": {
    "collapsed": false
   },
   "outputs": [],
   "source": [
    ""
   ]
  },
  {
   "cell_type": "code",
   "execution_count": null,
   "metadata": {
    "collapsed": false
   },
   "outputs": [],
   "source": [
    ""
   ]
  },
  {
   "cell_type": "markdown",
   "metadata": {},
   "source": [
    "<div class=\"alert alert-info\">**STEP 2:** Check the other columns containing classes for wrong or questionable values.</div>"
   ]
  },
  {
   "cell_type": "code",
   "execution_count": null,
   "metadata": {
    "code_folding": [],
    "collapsed": false
   },
   "outputs": [],
   "source": [
    "names = ['Married', 'Education', 'Self_Employed', 'Credit_History', 'Loan_Status']\n",
    "\n",
    "pass"
   ]
  },
  {
   "cell_type": "markdown",
   "metadata": {},
   "source": [
    "<div class=\"alert alert-info\">**STEP 3:** Remove all other NaNs and convert the columns to True and False values where appropiate.</div>"
   ]
  },
  {
   "cell_type": "code",
   "execution_count": null,
   "metadata": {
    "collapsed": false
   },
   "outputs": [],
   "source": [
    "print('before:', df.shape)\n",
    "\n",
    "\n",
    "\n",
    "\n",
    "print('after:', df.shape)"
   ]
  },
  {
   "cell_type": "code",
   "execution_count": null,
   "metadata": {
    "collapsed": false
   },
   "outputs": [],
   "source": [
    "# replace the other values with boolean values"
   ]
  },
  {
   "cell_type": "code",
   "execution_count": null,
   "metadata": {
    "collapsed": false
   },
   "outputs": [],
   "source": [
    "df.head(10)"
   ]
  },
  {
   "cell_type": "markdown",
   "metadata": {},
   "source": [
    "<div class=\"alert alert-info\">**STEP 4:** There are still some numerical columns. We should check these columns as well as for example a person without valid loan amount does not really make sense. So let's count the NaNs and remove the specific rows.</div>"
   ]
  },
  {
   "cell_type": "code",
   "execution_count": null,
   "metadata": {
    "collapsed": false
   },
   "outputs": [],
   "source": [
    ""
   ]
  },
  {
   "cell_type": "code",
   "execution_count": null,
   "metadata": {
    "collapsed": false
   },
   "outputs": [],
   "source": [
    ""
   ]
  },
  {
   "cell_type": "markdown",
   "metadata": {},
   "source": [
    "Finally we have a nice dataset now, that can be used for more in-depth analysis."
   ]
  },
  {
   "cell_type": "markdown",
   "metadata": {},
   "source": [
    "## Plot"
   ]
  },
  {
   "cell_type": "markdown",
   "metadata": {},
   "source": [
    "pandas is especially useful when some plots have to be created to add some visual inspections to your data exploration. As we are exploring a dataset for machine learning, looking into the correlations within the dataset makes some sense as well as visualizing the distribution densities as you would do that with any dataset."
   ]
  },
  {
   "cell_type": "markdown",
   "metadata": {
    "collapsed": false
   },
   "source": [
    "<div class=\"alert alert-success\">**TASK:** Calculate a correlation matrix for all variables.</div>"
   ]
  },
  {
   "cell_type": "code",
   "execution_count": null,
   "metadata": {
    "collapsed": false
   },
   "outputs": [],
   "source": [
    ""
   ]
  },
  {
   "cell_type": "code",
   "execution_count": null,
   "metadata": {
    "collapsed": false
   },
   "outputs": [],
   "source": [
    ""
   ]
  },
  {
   "cell_type": "markdown",
   "metadata": {
    "collapsed": false
   },
   "source": [
    "<div class=\"alert alert-success\">**TASK:** Plot a scatter matrix of all variables. This looks similar to the plot above, holding a scatter plot at each node for all variable combinations. The diagonal shall be filled with kernel density estimates.</div>"
   ]
  },
  {
   "cell_type": "code",
   "execution_count": null,
   "metadata": {
    "collapsed": false
   },
   "outputs": [],
   "source": [
    ""
   ]
  },
  {
   "cell_type": "markdown",
   "metadata": {},
   "source": [
    "## Aggregation"
   ]
  },
  {
   "cell_type": "markdown",
   "metadata": {},
   "source": [
    "One of the main features of a pandas.DataFrame are its grouping abilities. In has a high level groupby method that either takes a column, a combination of columns an index or multi-index to group the whole dataset based on the unique values in the index.<br>\n",
    "The returned value is an object instance of the DataFrameGroupBy class. This instance can now be aggreaged or iterated. On iteration, each element will again behave like a DataFrame. We can use these abilities to group on all the predictors and plot the distribution of our target value based on that grouping."
   ]
  },
  {
   "cell_type": "markdown",
   "metadata": {},
   "source": [
    "<div class=\"alert alert-success\">**TASK:** Generate a figure holding a subplot for each of the classified predictors (Gender, Married, Education, Self_Employed, Property_Area, Dependents, Loan_Amount_Term, ApplicantIncome  > Median, LoanAmount > Median). The subplot shoud contain a pie plot of the target variable 'Loan_Status'.</div>"
   ]
  },
  {
   "cell_type": "code",
   "execution_count": null,
   "metadata": {
    "collapsed": false
   },
   "outputs": [],
   "source": [
    "# create the two missing predictors\n",
    "df['LoanAmountMedian'] = \n",
    "df['ApplicantIncomeMedian'] ="
   ]
  },
  {
   "cell_type": "code",
   "execution_count": null,
   "metadata": {
    "collapsed": false
   },
   "outputs": [],
   "source": [
    "var = ['Gender', 'Married', 'Dependents', 'Education', 'Self_Employed', \n",
    "       'Loan_Amount_Term', 'Property_Area', 'LoanAmountMedian', 'ApplicantIncomeMedian']\n",
    "fig, axes = plt.subplots(3,3, figsize=(9,9))\n",
    "\n",
    "for i, var_name in zip(range(9), var):\n",
    "    pass"
   ]
  },
  {
   "cell_type": "markdown",
   "metadata": {
    "collapsed": true
   },
   "source": [
    "<div class=\"alert alert-success\">**TASK:** Repeat the last task for stacked bar charts.</div>"
   ]
  },
  {
   "cell_type": "code",
   "execution_count": null,
   "metadata": {
    "collapsed": false
   },
   "outputs": [],
   "source": [
    "var = ['Gender', 'Married', 'Dependents', 'Education', 'Self_Employed', \n",
    "       'Loan_Amount_Term', 'Property_Area', 'LoanAmountMedian', 'ApplicantIncomeMedian']\n",
    "fig, axes = plt.subplots(3,3, figsize=(9,9))\n",
    "\n",
    "for i, var_name in zip(range(9), var):\n",
    "    pass"
   ]
  },
  {
   "cell_type": "markdown",
   "metadata": {},
   "source": [
    "Especially from the bar charts, one could conclude that if you are male and educated you'll get the Loan, otherwise not. Maybe, the number of dependants is also an indicator. Nevertheless, we have to be careful as the group of educated is notably bigger than the uneducated people and so is the group of males."
   ]
  },
  {
   "cell_type": "markdown",
   "metadata": {},
   "source": [
    "<div class=\"alert alert-success\">**TASK:** In order to get better insight of these two predictors, plot a figure with two rows. Gender and eduaction go into a individual row and plot a pie chart subplot for each group. </div>"
   ]
  },
  {
   "cell_type": "code",
   "execution_count": null,
   "metadata": {
    "collapsed": false
   },
   "outputs": [],
   "source": [
    "f, axes = plt.subplots(2,2, figsize=(9,9))\n",
    "\n",
    "pass"
   ]
  }
 ],
 "metadata": {
  "anaconda-cloud": {},
  "kernelspec": {
   "display_name": "Python [conda env:py3-dev]",
   "language": "python",
   "name": "conda-env-py3-dev-py"
  },
  "language_info": {
   "codemirror_mode": {
    "name": "ipython",
    "version": 3.0
   },
   "file_extension": ".py",
   "mimetype": "text/x-python",
   "name": "python",
   "nbconvert_exporter": "python",
   "pygments_lexer": "ipython3",
   "version": "3.5.2"
  }
 },
 "nbformat": 4,
 "nbformat_minor": 0
}