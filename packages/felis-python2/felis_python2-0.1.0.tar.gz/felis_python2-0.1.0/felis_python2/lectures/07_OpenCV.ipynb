{
 "cells": [
  {
   "cell_type": "markdown",
   "metadata": {},
   "source": [
    "<h1><center>Python 2"
   ]
  },
  {
   "cell_type": "markdown",
   "metadata": {},
   "source": [
    "## 0.1 Section 7 - Image Processing"
   ]
  },
  {
   "cell_type": "markdown",
   "metadata": {},
   "source": [
    "### 0.1.1 OpenCV"
   ]
  },
  {
   "cell_type": "markdown",
   "metadata": {
    "collapsed": true
   },
   "source": [
    "<img src='images/opencv.png', style='width: 120px; height: 150px'/>"
   ]
  },
  {
   "cell_type": "markdown",
   "metadata": {},
   "source": [
    "OpenCV is probably one of the most famous image processing library available, due to the huge collection of algorithms for Computer Vision and Machine Learning. Originally developed in Intel, OpenCV got it big push after being implemented in the Stanley autonomous vehicle (see below) that won the 2005 DARPA Grand Challenge.\n",
    "\n",
    "Due to its importance, OpenCV is originally developed in C++, however, has APIs (Application program interface) for several different programming languages and supports all common OS (Windows, Linux, OS X, Android, and iOS).\n",
    "\n",
    "Since Python is considered a slow programming language, OpenCV was developed in a combination between Python and C++. THis way it was possible to combine the simplicity of Python and the speed of C++."
   ]
  },
  {
   "cell_type": "markdown",
   "metadata": {},
   "source": [
    "<img src='images/stanley.jpg', style='width:400px; height:250px'/>"
   ]
  },
  {
   "cell_type": "code",
   "execution_count": 1,
   "metadata": {
    "collapsed": false,
    "format": "row"
   },
   "outputs": [
    {
     "name": "stdout",
     "output_type": "stream",
     "text": [
      "OpenCV version is 3.2.0.\n"
     ]
    }
   ],
   "source": [
    "# Let's first import and check OpenCV's version\n",
    "# Pay attention to the way to import OpenCV\n",
    "import cv2\n",
    "print(\"OpenCV version is {}.\".format(cv2.__version__))"
   ]
  },
  {
   "cell_type": "code",
   "execution_count": 2,
   "metadata": {
    "collapsed": true,
    "format": "row"
   },
   "outputs": [],
   "source": [
    "# Now let's try to import the Stanley image with OpenCV\n",
    "img = cv2.imread('images/stanley.jpg',1)\n",
    "cv2.imshow('image',img)\n",
    "cv2.waitKey(0)\n",
    "cv2.destroyAllWindows()"
   ]
  },
  {
   "cell_type": "code",
   "execution_count": 3,
   "metadata": {
    "collapsed": true,
    "format": "row"
   },
   "outputs": [],
   "source": [
    "# It is possible to plot multiple images at the same time\n",
    "img1 = cv2.imread('images/stanley.jpg',1)  # Normal color\n",
    "img2 = cv2.imread('images/stanley.jpg',0)  # Gray image\n",
    "img3 = cv2.imread('images/stanley.jpg',-1) # Alpha image\n",
    "cv2.imshow('image1',img1)\n",
    "cv2.imshow('image2',img2)\n",
    "cv2.imshow('image3',img3)\n",
    "cv2.waitKey(0)\n",
    "cv2.destroyAllWindows()"
   ]
  },
  {
   "cell_type": "code",
   "execution_count": 4,
   "metadata": {
    "collapsed": true,
    "format": "row"
   },
   "outputs": [],
   "source": [
    "# How would we do in Matplotlib\n",
    "import cv2\n",
    "import numpy as np\n",
    "from matplotlib import pyplot as plt\n",
    "plt.switch_backend('Qt5Agg') \n",
    "img = cv2.imread('images/stanley.jpg',1) #BGR\n",
    "plt.imshow(img)\n",
    "plt.xticks([]), plt.yticks([])  # to hide tick values on X and Y axis\n",
    "plt.show()"
   ]
  },
  {
   "cell_type": "code",
   "execution_count": 5,
   "metadata": {
    "collapsed": true,
    "format": "row"
   },
   "outputs": [],
   "source": [
    "import numpy as np\n",
    "import cv2\n",
    "\n",
    "img = cv2.imread('images/stanley.jpg',0)\n",
    "cv2.imshow('image',img)\n",
    "k = cv2.waitKey(0)#& 0xFF\n",
    "if k == 27:         # wait for ESC key to exit\n",
    "    cv2.destroyAllWindows()\n",
    "elif k == ord('s'): # wait for 's' key to save and exit\n",
    "    cv2.imwrite('stanley_gray.png',img)\n",
    "    cv2.destroyAllWindows()"
   ]
  },
  {
   "cell_type": "markdown",
   "metadata": {
    "collapsed": true
   },
   "source": [
    "For every key in your keyboard, there is a number attached to it. Normally, we do not care too much about that, since everything happens in the background. However, when it comes to programming, it is important to know how to handle each on of the components in your computer. This means, it is quite useful to know how to access your webcam, for example, using a python code. Perhaps a printer, scanner or even your cellphone connected via bluetooth. For the keyboard, you can check the numbers in the link below.\n",
    "<h4><center>https://www.cambiaresearch.com/articles/15/javascript-char-codes-key-codes"
   ]
  },
  {
   "cell_type": "markdown",
   "metadata": {},
   "source": [
    "Just like Scikit-image, you can also draw lines. However, there are some extra functionalities that can be explored."
   ]
  },
  {
   "cell_type": "code",
   "execution_count": 6,
   "metadata": {
    "collapsed": true
   },
   "outputs": [],
   "source": [
    "# Let's start with lines\n",
    "import numpy as np\n",
    "import cv2\n",
    "\n",
    "# Create a black image\n",
    "img = np.zeros((512,512,3), np.uint8)\n",
    "\n",
    "# Draw a diagonal blue line with thickness of 5 px\n",
    "# first tuple = origin.\n",
    "# second tuple = end point.\n",
    "# third tuple = color (BGR)\n",
    "# integer = line thickness\n",
    "lines = cv2.line(img,(0,0),(511,511),(255,0,0),5)\n",
    "\n",
    "cv2.imshow('lines', lines)\n",
    "cv2.waitKey(0)\n",
    "cv2.destroyAllWindows()"
   ]
  },
  {
   "cell_type": "code",
   "execution_count": 7,
   "metadata": {
    "collapsed": true
   },
   "outputs": [],
   "source": [
    "# Rectangles\n",
    "\n",
    "img = np.zeros((512,512,3), np.uint8)\n",
    "\n",
    "# first tuple = upper-left corner coordinate\n",
    "# second tuple = lower-right corner coordinate\n",
    "# third tuple = color (BGR)\n",
    "# integer = line thickness. If negative, filled\n",
    "rectangles = cv2.rectangle(img,(350,0),(510,128),(0,255,0),1)\n",
    "\n",
    "cv2.imshow('Rectangles', rectangles)\n",
    "cv2.waitKey(0)\n",
    "cv2.destroyAllWindows()"
   ]
  },
  {
   "cell_type": "code",
   "execution_count": 8,
   "metadata": {
    "collapsed": true
   },
   "outputs": [],
   "source": [
    "# Circle\n",
    "img = np.zeros((512,512,3), np.uint8)\n",
    "\n",
    "# first tuple = center of the circle\n",
    "# first integer = radius\n",
    "# third tuple = color (BGR)\n",
    "# second integer = line thickness. If negative, filled\n",
    "circle = cv2.circle(img,(447,63), 63, (0,0,255), -1)\n",
    "\n",
    "cv2.imshow('Circle', circle)\n",
    "cv2.waitKey(0)\n",
    "cv2.destroyAllWindows()"
   ]
  },
  {
   "cell_type": "code",
   "execution_count": 9,
   "metadata": {
    "collapsed": true
   },
   "outputs": [],
   "source": [
    "# Ellipse\n",
    "import numpy as np\n",
    "import cv2\n",
    "img = np.zeros((512,512,3), np.uint8)\n",
    "\n",
    "# first tuple = center of the ellipse\n",
    "# second tuple = major and minor length\n",
    "# first integer = angle of rotation\n",
    "# second integer = start angle\n",
    "# third integer = end angle\n",
    "# third tuple = color (BGR)\n",
    "# second integer = line thickness. If negative, filled\n",
    "ellipse = cv2.ellipse(img,(256,256),(100,50),45,20,360,(255,0,0),-1)\n",
    "\n",
    "cv2.imshow('Ellipse', ellipse)\n",
    "cv2.waitKey(0)\n",
    "cv2.destroyAllWindows()"
   ]
  },
  {
   "cell_type": "code",
   "execution_count": 10,
   "metadata": {
    "collapsed": true
   },
   "outputs": [],
   "source": [
    "# Polygons\n",
    "img = np.zeros((512,512,3), np.uint8)\n",
    "pts = np.array([[100,50],[200,300],[400,200],[500,100]], np.int32)\n",
    "pts = pts.reshape((-1,1,2))\n",
    "poly = cv2.polylines(img,[pts],True,(0,255,255))\n",
    "\n",
    "cv2.imshow('Polygons', poly)\n",
    "cv2.waitKey(0)\n",
    "cv2.destroyAllWindows()"
   ]
  },
  {
   "cell_type": "code",
   "execution_count": 11,
   "metadata": {
    "collapsed": true
   },
   "outputs": [],
   "source": [
    "# Adding text\n",
    "img = np.zeros((512,512,3), np.uint8)\n",
    "font = cv2.FONT_HERSHEY_SIMPLEX\n",
    "\n",
    "# first tuple = origin\n",
    "# first variable = font element\n",
    "# first integer = font size\n",
    "# second tuple = color (BGR)\n",
    "# second integer = line thickness\n",
    "# cv2.LINE_AA provides smother lines\n",
    "text = cv2.putText(img,\n",
    "                   'Python II',\n",
    "                   (0,500), \n",
    "                   font, \n",
    "                   2,\n",
    "                   (255,255,255),\n",
    "                   5,\n",
    "                   cv2.LINE_AA)\n",
    "\n",
    "cv2.imshow('Text', text)\n",
    "cv2.waitKey(0)\n",
    "cv2.destroyAllWindows()"
   ]
  },
  {
   "cell_type": "code",
   "execution_count": 12,
   "metadata": {
    "collapsed": true
   },
   "outputs": [],
   "source": [
    "# Now go back to where we created the line and go code by code\n",
    "# removing the line img = np.zeros((512,512,3), np.uint8) and the\n",
    "# plot function. Plot everything here at the very end.\n",
    "img = np.zeros((512,512,3), np.uint8)\n",
    "lines = cv2.line(img,(0,0),(511,511),(255,0,0),5)\n",
    "rectangles = cv2.rectangle(img,(350,0),(510,128),(0,255,0),1)\n",
    "circle = cv2.circle(img,(447,63), 63, (0,0,255), -1)\n",
    "ellipse = cv2.ellipse(img,(256,256),(100,50),0,0,180,(255,0,0),-1)\n",
    "poly = cv2.polylines(img,[pts],True,(0,255,255))\n",
    "text = cv2.putText(img,\n",
    "                   'Python II',\n",
    "                   (0,500), \n",
    "                   font, \n",
    "                   2,\n",
    "                   (255,255,255),\n",
    "                   0,\n",
    "                   cv2.LINE_AA)\n",
    "\n",
    "cv2.imshow('Geometry', circle)\n",
    "cv2.waitKey(0)\n",
    "cv2.destroyAllWindows()"
   ]
  },
  {
   "cell_type": "markdown",
   "metadata": {},
   "source": [
    "Remember when we discussed earlier that when programming, it is very important to control not only your code, but also the components connected to your PC. Let's start playing with the mouse.\n",
    "\n",
    "Everything you do with your mouse generates and action, which in programming context is called **event**. For every event, an action can be executed. But first, we need to know what events we can control."
   ]
  },
  {
   "cell_type": "code",
   "execution_count": 13,
   "metadata": {
    "collapsed": false
   },
   "outputs": [
    {
     "data": {
      "text/plain": [
       "['EVENT_FLAG_ALTKEY',\n",
       " 'EVENT_FLAG_CTRLKEY',\n",
       " 'EVENT_FLAG_LBUTTON',\n",
       " 'EVENT_FLAG_MBUTTON',\n",
       " 'EVENT_FLAG_RBUTTON',\n",
       " 'EVENT_FLAG_SHIFTKEY',\n",
       " 'EVENT_LBUTTONDBLCLK',\n",
       " 'EVENT_LBUTTONDOWN',\n",
       " 'EVENT_LBUTTONUP',\n",
       " 'EVENT_MBUTTONDBLCLK',\n",
       " 'EVENT_MBUTTONDOWN',\n",
       " 'EVENT_MBUTTONUP',\n",
       " 'EVENT_MOUSEHWHEEL',\n",
       " 'EVENT_MOUSEMOVE',\n",
       " 'EVENT_MOUSEWHEEL',\n",
       " 'EVENT_RBUTTONDBLCLK',\n",
       " 'EVENT_RBUTTONDOWN',\n",
       " 'EVENT_RBUTTONUP']"
      ]
     },
     "execution_count": 13,
     "metadata": {},
     "output_type": "execute_result"
    }
   ],
   "source": [
    "[i for i in dir(cv2) if 'EVENT' in i]"
   ]
  },
  {
   "cell_type": "markdown",
   "metadata": {},
   "source": [
    "Now that we know the events related to the mouse, let's create a simple example on how to use this feature. "
   ]
  },
  {
   "cell_type": "code",
   "execution_count": 14,
   "metadata": {
    "collapsed": true
   },
   "outputs": [],
   "source": [
    "import cv2\n",
    "import numpy as np\n",
    "\n",
    "# mouse callback function\n",
    "def draw_circle(event,x,y,flags,param):\n",
    "    if event == cv2.EVENT_LBUTTONDBLCLK:\n",
    "        cv2.circle(img,(x,y),100,(255,0,0),-1)\n",
    "\n",
    "# Create a black image, a window and bind the function to window\n",
    "img = np.zeros((512,512,3), np.uint8)\n",
    "cv2.namedWindow('image')\n",
    "cv2.setMouseCallback('image',draw_circle)\n",
    "\n",
    "while True:\n",
    "    cv2.imshow('image',img)\n",
    "    if cv2.waitKey(20) & 0xFF == 27:\n",
    "        break\n",
    "cv2.destroyAllWindows()"
   ]
  },
  {
   "cell_type": "code",
   "execution_count": 15,
   "metadata": {
    "collapsed": true,
    "scrolled": true
   },
   "outputs": [],
   "source": [
    "# Now is time to do something more fun!!\n",
    "\n",
    "import cv2\n",
    "import numpy as np\n",
    "\n",
    "drawing = False # true if mouse is pressed\n",
    "mode = True # if True, draw rectangle. Press 'm' to toggle to curve\n",
    "ix,iy = -1,-1\n",
    "\n",
    "# mouse callback function\n",
    "def draw_circle(event,x,y,flags,param):\n",
    "    global ix,iy,drawing,mode\n",
    "\n",
    "    if event == cv2.EVENT_LBUTTONDOWN:\n",
    "        drawing = True\n",
    "        ix,iy = x,y\n",
    "\n",
    "    elif event == cv2.EVENT_MOUSEMOVE:\n",
    "        if drawing == True:\n",
    "            if mode == True:\n",
    "                cv2.rectangle(img,(ix,iy),(x,y),(0,255,0),-1)\n",
    "            else:\n",
    "                cv2.circle(img,(x,y),5,(0,0,255),-1)\n",
    "\n",
    "    elif event == cv2.EVENT_LBUTTONUP:\n",
    "        drawing = False\n",
    "        if mode == True:\n",
    "            cv2.rectangle(img,(ix,iy),(x,y),(0,255,0),-1)\n",
    "        else:\n",
    "            cv2.circle(img,(x,y),5,(0,0,255),-1)\n",
    "            \n",
    "img = np.zeros((512,512,3), np.uint8)\n",
    "cv2.namedWindow('image')\n",
    "cv2.setMouseCallback('image',draw_circle)\n",
    "\n",
    "while(1):\n",
    "    cv2.imshow('image',img)\n",
    "    k = cv2.waitKey(1) & 0xFF\n",
    "    if k == ord('m'):\n",
    "        mode = not mode\n",
    "    elif k == 27:\n",
    "        break\n",
    "\n",
    "cv2.destroyAllWindows()"
   ]
  },
  {
   "cell_type": "code",
   "execution_count": 16,
   "metadata": {
    "collapsed": true
   },
   "outputs": [],
   "source": [
    "# Task: improve the example from before adding a command to drawn circles as well\n",
    "# using the commands 'c'.\n",
    "\n",
    "import cv2\n",
    "import numpy as np\n",
    "import math\n",
    "\n",
    "drawing = False # true if mouse is pressed\n",
    "mode = 'r' # 'r' rectangle, 'l' line and 'c' circle\n",
    "ix,iy = -1,-1\n",
    "\n",
    "# mouse callback function\n",
    "def draw_circle(event,x,y,flags,param):\n",
    "    global ix,iy,drawing,mode\n",
    "\n",
    "    if event == cv2.EVENT_LBUTTONDOWN:\n",
    "        drawing = True\n",
    "        ix,iy = x,y\n",
    "\n",
    "    elif event == cv2.EVENT_MOUSEMOVE:\n",
    "        if drawing == True:\n",
    "            if mode == 'r':\n",
    "                cv2.rectangle(img,(ix,iy),(x,y),(0,255,0),-1)\n",
    "            elif mode == 'c':\n",
    "                r = int(math.sqrt((ix-x)**2 + (iy-y)**2))\n",
    "                cv2.circle(img,(x,y),r,(255,0,0),-1)\n",
    "            elif mode == 'l':\n",
    "                cv2.circle(img,(x,y),5,(0,0,255),-1)\n",
    "                \n",
    "\n",
    "    elif event == cv2.EVENT_LBUTTONUP:\n",
    "        drawing = False\n",
    "        if mode == 'r':\n",
    "            cv2.rectangle(img,(ix,iy),(x,y),(0,255,0),-1)\n",
    "        elif mode == 'c':\n",
    "            r = int(math.sqrt((ix-x)**2 + (iy-y)**2))\n",
    "            cv2.circle(img,(x,y),r,(255,0,0),-1)\n",
    "        elif mode == 'l':\n",
    "            cv2.circle(img,(x,y),5,(0,0,255),-1)\n",
    "            \n",
    "img = np.zeros((512,512,3), np.uint8)\n",
    "cv2.namedWindow('image')\n",
    "cv2.setMouseCallback('image',draw_circle)\n",
    "\n",
    "while(1):\n",
    "    cv2.imshow('image',img)\n",
    "    k = cv2.waitKey(1) & 0xFF\n",
    "    if k == ord('r'):\n",
    "        mode = 'r'\n",
    "    elif k == ord('l'):\n",
    "        mode = 'l'\n",
    "    elif k == ord('c'):\n",
    "        mode = 'c'\n",
    "    elif k == 27:\n",
    "        break\n",
    "\n",
    "cv2.destroyAllWindows()"
   ]
  },
  {
   "cell_type": "code",
   "execution_count": 17,
   "metadata": {
    "collapsed": true
   },
   "outputs": [],
   "source": [
    "# Now let's pay with some colors. We will see how the colors can interacts when changing\n",
    "# different levels in red, green and blue.\n",
    "\n",
    "import cv2\n",
    "import numpy as np\n",
    "\n",
    "def nothing(x):\n",
    "    pass\n",
    "\n",
    "# Create a black image, a window\n",
    "img = np.zeros((300,512,3), np.uint8)\n",
    "cv2.namedWindow('image')\n",
    "\n",
    "# create trackbars for color change\n",
    "cv2.createTrackbar('R','image',0,255,nothing)\n",
    "cv2.createTrackbar('G','image',0,255,nothing)\n",
    "cv2.createTrackbar('B','image',0,255,nothing)\n",
    "\n",
    "# create switch for ON/OFF functionality\n",
    "switch = '0=OFF 1=ON'\n",
    "cv2.createTrackbar(switch, 'image',0,1,nothing)\n",
    "\n",
    "while(1):\n",
    "    cv2.imshow('image',img)\n",
    "    k = cv2.waitKey(1) & 0xFF\n",
    "    if k == 27:\n",
    "        break\n",
    "\n",
    "    # get current positions of four trackbars\n",
    "    r = cv2.getTrackbarPos('R','image')\n",
    "    g = cv2.getTrackbarPos('G','image')\n",
    "    b = cv2.getTrackbarPos('B','image')\n",
    "    s = cv2.getTrackbarPos(switch,'image')\n",
    "\n",
    "    if s == 0:\n",
    "        img[:] = 0\n",
    "    else:\n",
    "        img[:] = [b,g,r]\n",
    "\n",
    "cv2.destroyAllWindows()"
   ]
  },
  {
   "cell_type": "code",
   "execution_count": 18,
   "metadata": {
    "collapsed": true
   },
   "outputs": [],
   "source": [
    "# TASK: add a text to the image showing the current values of blue, green and red.\n",
    "# The final result should look like: background with the combination of colors\n",
    "# with a text like this > (62,255,12)\n",
    "\n",
    "import cv2\n",
    "import numpy as np\n",
    "\n",
    "def nothing(x):\n",
    "    pass\n",
    "\n",
    "# Create a black image, a window\n",
    "img = np.zeros((300,512,3), np.uint8)\n",
    "cv2.namedWindow('image')\n",
    "\n",
    "# create trackbars for color change\n",
    "cv2.createTrackbar('R','image',0,255,nothing)\n",
    "cv2.createTrackbar('G','image',0,255,nothing)\n",
    "cv2.createTrackbar('B','image',0,255,nothing)\n",
    "\n",
    "# create switch for ON/OFF functionality\n",
    "switch = '0=OFF 1=ON'\n",
    "cv2.createTrackbar(switch, 'image',0,1,nothing)\n",
    "\n",
    "while(1):\n",
    "    cv2.imshow('image',img)\n",
    "    k = cv2.waitKey(1) & 0xFF\n",
    "    if k == 27:\n",
    "        break\n",
    "\n",
    "    # get current positions of four trackbars\n",
    "    r = cv2.getTrackbarPos('R','image')\n",
    "    g = cv2.getTrackbarPos('G','image')\n",
    "    b = cv2.getTrackbarPos('B','image')\n",
    "    s = cv2.getTrackbarPos(switch,'image')\n",
    "\n",
    "    if s == 0:\n",
    "        img[:] = 0\n",
    "    else:\n",
    "        img[:] = [b,g,r]\n",
    "        font = cv2.FONT_HERSHEY_SIMPLEX\n",
    "        string = '(' + str(b) + ', ' + str(g)+ ', ' + str(r) + ')'\n",
    "        text = cv2.putText(img,\n",
    "                       string,\n",
    "                       (0,150), \n",
    "                       font, \n",
    "                       2,\n",
    "                       (255,255,255),\n",
    "                       0,\n",
    "                       cv2.LINE_AA)\n",
    "        cv2.imshow('image', text)\n",
    "\n",
    "cv2.destroyAllWindows()"
   ]
  },
  {
   "cell_type": "markdown",
   "metadata": {},
   "source": [
    "When working with images, quite often, some calculations are required. For instance, if you want to merge to images together, you can easily add both images. Let's take a look at the example below by putting an egg on top of a stool."
   ]
  },
  {
   "cell_type": "code",
   "execution_count": 19,
   "metadata": {
    "collapsed": true
   },
   "outputs": [],
   "source": [
    "stool = cv2.imread('images/stool.jpg',1)\n",
    "egg = cv2.imread('images/egg.jpg',1)\n",
    "sum_ = stool + egg\n",
    "\n",
    "cv2.imshow('Sum', sum_)\n",
    "cv2.waitKey(0)\n",
    "cv2.destroyAllWindows()"
   ]
  },
  {
   "cell_type": "markdown",
   "metadata": {},
   "source": [
    "Despite the fact that we actually merged them together, the final result sometimes might not look nice. To solve that, we can use comething called blending. Blending is nothing more than a weighted addition that normally uses the equation below\n",
    "\n",
    "<center>$$g(x) = (1-\\alpha)f_0(x) + \\alpha f_1(x)$$\n",
    "\n",
    "However, OpenCV uses a slightly different equation to calculate the weighted sum, which in this case it uses this equation below\n",
    "\n",
    "<center>$$dst=\\alpha*img1+\\beta*img2+\\gamma$$.\n",
    "\n",
    "Now, lets take a look how this weighted addition, or blending, works."
   ]
  },
  {
   "cell_type": "code",
   "execution_count": 20,
   "metadata": {
    "collapsed": true
   },
   "outputs": [],
   "source": [
    "# The parameters are: first image, weight, second image, weight and gamma index.\n",
    "blend = cv2.addWeighted(stool, 0.6, egg, 0.4, 0)\n",
    "\n",
    "cv2.imshow('Blend', blend)\n",
    "cv2.waitKey(0)\n",
    "cv2.destroyAllWindows()"
   ]
  },
  {
   "cell_type": "markdown",
   "metadata": {},
   "source": [
    "Sometimes we need to perform some heavy calculations. When image processing is considered, that happens all the time. Memory consumption goes sky high and often the code crashes due to processing or memory insufficiency. However, OpenCV has some tools that can make our code faster when using OpenCV functions. Let's see the example below."
   ]
  },
  {
   "cell_type": "code",
   "execution_count": 21,
   "metadata": {
    "collapsed": false
   },
   "outputs": [
    {
     "data": {
      "text/plain": [
       "True"
      ]
     },
     "execution_count": 21,
     "metadata": {},
     "output_type": "execute_result"
    }
   ],
   "source": [
    "# First, let's make sure that the optimization option is active\n",
    "cv2.useOptimized()"
   ]
  },
  {
   "cell_type": "code",
   "execution_count": 22,
   "metadata": {
    "collapsed": false
   },
   "outputs": [
    {
     "name": "stdout",
     "output_type": "stream",
     "text": [
      "627 µs ± 23.7 µs per loop (mean ± std. dev. of 7 runs, 1000 loops each)\n"
     ]
    }
   ],
   "source": [
    "# If it is not, then we can activate the optimization using the function setUseOptimzed()\n",
    "cv2.setUseOptimized(True)\n",
    "# we can use the magic %timeit to check how much it takes to run the code.\n",
    "%timeit blend = cv2.addWeighted(stool, 0.6, egg, 0.4, 0)"
   ]
  },
  {
   "cell_type": "code",
   "execution_count": 23,
   "metadata": {
    "collapsed": false
   },
   "outputs": [
    {
     "name": "stdout",
     "output_type": "stream",
     "text": [
      "1.64 ms ± 40.3 µs per loop (mean ± std. dev. of 7 runs, 1000 loops each)\n"
     ]
    }
   ],
   "source": [
    "# Now let's turn it off to see how much time does it take now\n",
    "cv2.setUseOptimized(False)\n",
    "%timeit blend = cv2.addWeighted(stool, 0.6, egg, 0.4, 0)"
   ]
  },
  {
   "cell_type": "markdown",
   "metadata": {},
   "source": [
    "Since we already saw image manipulation, transformations and filtering, here we will try to focus on the new stuff. Let's talk more about image filtering, discussing Morphological Filters.\n",
    "If you already work with image processing, you might have heard about it at some point before.\n",
    "\n",
    "\"Morphological transformations are some simple operations based on the image shape. It is normally performed on binary images. It needs two inputs, one is our original image, second one is called structuring element or kernel which decides the nature of operation. Two basic morphological operators are Erosion and Dilation. Then its variant forms like Opening, Closing, Gradient etc also comes into play\" **(OpenCV documentation).**"
   ]
  },
  {
   "cell_type": "code",
   "execution_count": 24,
   "metadata": {
    "collapsed": true
   },
   "outputs": [],
   "source": [
    "import cv2\n",
    "import numpy as np\n",
    "\n",
    "img = cv2.imread('images/G.jpg',0)\n",
    "kernel = np.ones((5,5),np.uint8)\n",
    "\n",
    "erosion = cv2.erode(img,kernel,iterations = 1)\n",
    "dilation = cv2.dilate(img,kernel,iterations = 1)\n",
    "\n",
    "img_noise = img.copy()\n",
    "for i,j in zip(range(0,100),range(0,100)):\n",
    "    x = np.random.randint(0,800)\n",
    "    y = np.random.randint(0,600)\n",
    "    cv2.circle(img_noise,(x,y), 2, (255,255,255), -1)\n",
    "opening = cv2.morphologyEx(img_noise, cv2.MORPH_OPEN, kernel)\n",
    "\n",
    "img_ = cv2.imread('images/G_noise.jpg',0)\n",
    "closing = cv2.morphologyEx(img_, cv2.MORPH_CLOSE, kernel)\n",
    "\n",
    "final_1 = cv2.resize(np.hstack((img,erosion,dilation)),\n",
    "                     None,\n",
    "                     fx=0.5, \n",
    "                     fy=0.5, \n",
    "                     interpolation = cv2.INTER_CUBIC)\n",
    "\n",
    "final_2 = cv2.resize(np.hstack((img_noise,opening)),\n",
    "                     None,\n",
    "                     fx=0.5, \n",
    "                     fy=0.5, \n",
    "                     interpolation = cv2.INTER_CUBIC)\n",
    "\n",
    "final_3 = cv2.resize(np.hstack((img_,closing)),\n",
    "                     None,\n",
    "                     fx=0.5, \n",
    "                     fy=0.5, \n",
    "                     interpolation = cv2.INTER_CUBIC)\n",
    "\n",
    "cv2.imshow('Erosion and Dilation', final_1)\n",
    "cv2.imshow('Opening', final_2)\n",
    "cv2.imshow('Closing', final_3)\n",
    "cv2.waitKey(0)\n",
    "cv2.destroyAllWindows()"
   ]
  },
  {
   "cell_type": "code",
   "execution_count": 25,
   "metadata": {
    "collapsed": true
   },
   "outputs": [],
   "source": [
    "# Canny edge\n",
    "import cv2\n",
    "import numpy as np\n",
    "from matplotlib import pyplot as plt\n",
    "\n",
    "img = cv2.imread('images/dave.jpg',0)\n",
    "edges = cv2.Canny(img,100,200) # could be better\n",
    "plt.switch_backend('Qt5Agg') \n",
    "plt.subplot(121)\n",
    "plt.imshow(img, plt.cm.gray)\n",
    "plt.title('Original Image')\n",
    "plt.xticks([]), plt.yticks([])\n",
    "plt.subplot(122)\n",
    "plt.imshow(edges,cmap = 'gray')\n",
    "plt.title('Edge Image')\n",
    "plt.xticks([])\n",
    "plt.yticks([])\n",
    "plt.show()"
   ]
  },
  {
   "cell_type": "code",
   "execution_count": 26,
   "metadata": {
    "collapsed": true
   },
   "outputs": [],
   "source": [
    "# Convex Hull\n",
    "\n",
    "import cv2\n",
    "import numpy as np\n",
    "\n",
    "img = cv2.imread('images/star.jpg')\n",
    "img_gray = cv2.cvtColor(img,cv2.COLOR_BGR2GRAY)\n",
    "ret, thresh = cv2.threshold(img_gray, 127, 255,0)\n",
    "hierarchy, contours, intensity = cv2.findContours(thresh,2,1)\n",
    "cnt = contours[0]\n",
    "\n",
    "hull = cv2.convexHull(cnt,returnPoints = False)\n",
    "defects = cv2.convexityDefects(cnt,hull)\n",
    "\n",
    "for i in range(defects.shape[0]):\n",
    "    s,e,f,d = defects[i,0]\n",
    "    start = tuple(cnt[s][0])\n",
    "    end = tuple(cnt[e][0])\n",
    "    far = tuple(cnt[f][0])\n",
    "    cv2.line(img,start,end,[0,255,0],2)\n",
    "    cv2.circle(img,far,5,[0,0,255],-1)\n",
    "\n",
    "cv2.imshow('img',img)\n",
    "cv2.waitKey(0)\n",
    "cv2.destroyAllWindows()"
   ]
  },
  {
   "cell_type": "code",
   "execution_count": 27,
   "metadata": {
    "collapsed": true
   },
   "outputs": [],
   "source": [
    "# Template Matching\n",
    "\n",
    "import cv2\n",
    "import numpy as np\n",
    "from matplotlib import pyplot as plt\n",
    "\n",
    "img_rgb = cv2.imread('images/mario.png')\n",
    "img_gray = cv2.cvtColor(img_rgb, cv2.COLOR_BGR2GRAY)\n",
    "template = cv2.imread('images/mario_coin.png',0)\n",
    "\n",
    "cv2.imshow('Image',img_rgb)\n",
    "cv2.imshow('Template', template)\n",
    "cv2.waitKey(0)\n",
    "cv2.destroyAllWindows()"
   ]
  },
  {
   "cell_type": "code",
   "execution_count": 28,
   "metadata": {
    "collapsed": true
   },
   "outputs": [],
   "source": [
    "import cv2\n",
    "import numpy as np\n",
    "from matplotlib import pyplot as plt\n",
    "\n",
    "img_rgb = cv2.imread('images/mario.png')\n",
    "img_gray = cv2.cvtColor(img_rgb, cv2.COLOR_BGR2GRAY)\n",
    "template = cv2.imread('images/mario_coin.png',0)\n",
    "w, h = template.shape[::-1]\n",
    "\n",
    "res = cv2.matchTemplate(img_gray,template,cv2.TM_CCOEFF_NORMED)\n",
    "threshold = 0.7\n",
    "loc = np.where(res >= threshold)\n",
    "for pt in zip(*loc[::-1]):\n",
    "    cv2.rectangle(img_rgb, pt, (pt[0] + w, pt[1] + h), (0,0,255), 2)\n",
    "\n",
    "    cv2.imshow('img',cv2.resize(img_rgb,None,fx=2,fy=2))\n",
    "cv2.waitKey(0)\n",
    "cv2.destroyAllWindows()"
   ]
  },
  {
   "cell_type": "code",
   "execution_count": 29,
   "metadata": {
    "collapsed": true
   },
   "outputs": [],
   "source": [
    "# Task: use the image beach.jpg in the images folder and try to detect each of the umbrellas\n",
    "# employing template matching.\n",
    "\n",
    "img = cv2.imread('images/beach.jpg')\n",
    "img_rgb = img[:,:,2]\n",
    "img_rgb[img_rgb<=218]=0\n",
    "img_gauss = cv2.GaussianBlur(img_rgb,(3,3),5)\n",
    "template = img_gauss[87:116, 20:54]\n",
    "w, h = template.shape[::-1]\n",
    "\n",
    "res = cv2.matchTemplate(img_gauss,template,cv2.TM_CCOEFF_NORMED)\n",
    "threshold = 0.5\n",
    "loc = np.where(res >= threshold)\n",
    "for pt in zip(*loc[::-1]):\n",
    "    cv2.rectangle(img, pt, (pt[0] + w, pt[1] + h), (0,0,255), 1)\n",
    "    cv2.imshow('img',cv2.resize(img, None,fx=1,fy=1))\n",
    "cv2.waitKey(0)\n",
    "cv2.destroyAllWindows()"
   ]
  },
  {
   "cell_type": "markdown",
   "metadata": {},
   "source": [
    "<img src=\"images/that.gif\"/>"
   ]
  }
 ],
 "metadata": {
  "anaconda-cloud": {},
  "kernelspec": {
   "display_name": "Python [conda env:py3-dev]",
   "language": "python",
   "name": "conda-env-py3-dev-py"
  },
  "language_info": {
   "codemirror_mode": {
    "name": "ipython",
    "version": 3
   },
   "file_extension": ".py",
   "mimetype": "text/x-python",
   "name": "python",
   "nbconvert_exporter": "python",
   "pygments_lexer": "ipython3",
   "version": "3.5.2"
  }
 },
 "nbformat": 4,
 "nbformat_minor": 0
}
