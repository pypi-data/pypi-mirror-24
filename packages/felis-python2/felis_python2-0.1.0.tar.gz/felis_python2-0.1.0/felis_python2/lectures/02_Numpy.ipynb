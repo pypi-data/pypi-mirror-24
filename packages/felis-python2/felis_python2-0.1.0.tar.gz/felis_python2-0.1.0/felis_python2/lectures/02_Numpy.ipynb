{
 "cells": [
  {
   "cell_type": "markdown",
   "metadata": {},
   "source": [
    "<h1><center>Python 2"
   ]
  },
  {
   "cell_type": "markdown",
   "metadata": {
    "collapsed": true
   },
   "source": [
    "## Numpy Topics"
   ]
  },
  {
   "cell_type": "markdown",
   "metadata": {},
   "source": [
    "In this section we will cover intermediate and advanced topics in numpy. However, since Numpy has so many details, we will not cover the topic in its totality."
   ]
  },
  {
   "cell_type": "code",
   "execution_count": 1,
   "metadata": {
    "collapsed": false
   },
   "outputs": [
    {
     "name": "stdout",
     "output_type": "stream",
     "text": [
      "Numpy version: 1.11.0\n",
      "Matplotlib version: 1.5.1\n"
     ]
    }
   ],
   "source": [
    "# First we need to import the basic libraries we will use\n",
    "import numpy as np\n",
    "import matplotlib\n",
    "import matplotlib.pyplot as plt\n",
    "#%matplotlib inline\n",
    "print 'Numpy version: {}'.format(np.__version__)\n",
    "print 'Matplotlib version: {}'.format(matplotlib.__version__)"
   ]
  },
  {
   "cell_type": "markdown",
   "metadata": {},
   "source": [
    "### Advanced indexing and slicing"
   ]
  },
  {
   "cell_type": "code",
   "execution_count": 10,
   "metadata": {
    "collapsed": false
   },
   "outputs": [],
   "source": [
    "# How can we flip image using only numpy indexing? Let's see...\n",
    "from scipy.misc import ascent\n",
    "img = ascent()\n",
    "\n",
    "# Plot the original array\n",
    "plt.subplot(221)\n",
    "plt.imshow(img, plt.cm.gray)\n",
    "\n",
    "# plot the flipped array\n",
    "plt.subplot(222)\n",
    "plt.imshow(img[:,::-1], plt.cm.gray) #try to play with the -1\n",
    "\n",
    "# plot a slice array\n",
    "plt.subplot(223)\n",
    "plt.imshow(img[:img.shape[0]/2, :img.shape[1]/2], plt.cm.gray)\n",
    "\n",
    "# Apply a mask\n",
    "mask = img % 2 == 0\n",
    "masked_img = img.copy()\n",
    "masked_img[mask] = 0\n",
    "plt.subplot(224)\n",
    "plt.imshow(masked_img, plt.cm.gray)\n",
    "plt.show()"
   ]
  },
  {
   "cell_type": "code",
   "execution_count": 11,
   "metadata": {
    "collapsed": false
   },
   "outputs": [],
   "source": [
    "# Some more fancy indexing\n",
    "\n",
    "# This script demonstrates fancy indexing by setting values on the diagonal to 0\n",
    "\n",
    "# Get data\n",
    "img = ascent()\n",
    "xmax = img.shape[0]\n",
    "ymax = img.shape[1]\n",
    "\n",
    "# Fancy Indexing\n",
    "# Set values on diagonal to 0\n",
    "img[range(xmax), range(ymax)] = 0\n",
    "\n",
    "# Set values on other diagonal to 0\n",
    "img[range(xmax-1,-1,-1), range(ymax)] = 0\n",
    "\n",
    "# Plot image with digonal lines set to 0\n",
    "plt.imshow(img, plt.cm.gray)\n",
    "plt.show()"
   ]
  },
  {
   "cell_type": "markdown",
   "metadata": {},
   "source": [
    "### Manipulating arrays"
   ]
  },
  {
   "cell_type": "code",
   "execution_count": 19,
   "metadata": {
    "collapsed": false
   },
   "outputs": [],
   "source": [
    "# Now, let's try to shuffle an array\n",
    "\n",
    "# Get data \n",
    "img = ascent()\n",
    "xmax = img.shape[0]\n",
    "ymax = img.shape[1]\n",
    "\n",
    "def shuffle_indices(size):\n",
    "    arr = np.arange(size)\n",
    "    np.random.shuffle(arr)\n",
    "    return arr\n",
    "\n",
    "xindices = shuffle_indices(xmax)\n",
    "np.testing.assert_equal(len(xindices), xmax)\n",
    "yindices = shuffle_indices(ymax)\n",
    "np.testing.assert_equal(len(yindices), ymax)\n",
    "\n",
    "#Plot lena\n",
    "plt.imshow(img[np.ix_(xindices, yindices)], plt.cm.gray)\n",
    "plt.show()"
   ]
  },
  {
   "cell_type": "code",
   "execution_count": 21,
   "metadata": {
    "collapsed": false
   },
   "outputs": [],
   "source": [
    "# Indexing with booleans\n",
    "\n",
    "def get_indices(size):\n",
    "    \"\"\"\n",
    "    return indexes that are multipleof 4\n",
    "    \"\"\"\n",
    "    arr = np.arange(size)\n",
    "    return arr % 4 == 0\n",
    "\n",
    "# Plot image\n",
    "img_ = img.copy()\n",
    "xindices = get_indices(img.shape[0])\n",
    "yindices = get_indices(img.shape[1])\n",
    "img_[xindices, yindices] = 0\n",
    "plt.subplot(211)\n",
    "plt.imshow(img_, plt.cm.gray)\n",
    "\n",
    "img__ = img.copy()\n",
    "# Between quarter and 3 quarters of the max value\n",
    "img__[(img > img.max()/4) & (img < 3 * img.max()/4)] = 0\n",
    "plt.subplot(212)\n",
    "plt.imshow(img__, plt.cm.gray)\n",
    "plt.show()"
   ]
  },
  {
   "cell_type": "markdown",
   "metadata": {},
   "source": [
    "### Broadcasting"
   ]
  },
  {
   "cell_type": "code",
   "execution_count": 27,
   "metadata": {
    "collapsed": false,
    "scrolled": true
   },
   "outputs": [
    {
     "name": "stdout",
     "output_type": "stream",
     "text": [
      "Content-Type: audio/wav\n",
      "Last-Modified: Tue, 12 Aug 2014 15:53:38 GMT\n",
      "Accept-Ranges: bytes\n",
      "ETag: \"ac20ba9445b6cf1:0\"\n",
      "Server: Microsoft-IIS/7.5\n",
      "X-Powered-By: ASP.NET\n",
      "Date: Thu, 04 May 2017 15:58:06 GMT\n",
      "Connection: close\n",
      "Content-Length: 43642\n",
      "\n",
      "Data type uint8 Shape (43584L,)\n",
      "Data type uint8 Shape (43584L,)\n"
     ]
    }
   ],
   "source": [
    "# Time to see how Numpy can be used to work with audio\n",
    "import scipy.io.wavfile\n",
    "import urllib2\n",
    "\n",
    "# First we need to download a sample audio file\n",
    "response = urllib2.urlopen('http://www.thesoundarchive.com/austinpowers/smashingbaby.wav')\n",
    "print response.info()\n",
    "WAV_FILE = 'smashingbaby.wav'\n",
    "filehandle = open(WAV_FILE, 'w')\n",
    "filehandle.write(response.read())\n",
    "filehandle.close()\n",
    "\n",
    "# Now with the WAV file, time to import it as a numpy array\n",
    "sample_rate, data = scipy.io.wavfile.read(WAV_FILE) # sample_rate = samples/sec\n",
    "print \"Data type\", data.dtype, \"Shape\", data.shape\n",
    "\n",
    "# Let's see how the original data looks like\n",
    "plt.subplot(2, 1, 1)\n",
    "plt.title(\"Original\")\n",
    "plt.plot(data)\n",
    "\n",
    "# Now let's make the audio a bit quieter by multipling the audio by 0.2\n",
    "newdata = data * 0.2 #This will be float\n",
    "newdata = newdata.astype(np.uint8)\n",
    "print \"Data type\", newdata.dtype, \"Shape\", newdata.shape\n",
    "\n",
    "scipy.io.wavfile.write(\"quiet.wav\", sample_rate, newdata) #let's try sample rate = 2\n",
    "\n",
    "# Let's see how the data looks like now\n",
    "plt.subplot(2, 1, 2)\n",
    "plt.title(\"Quiet\")\n",
    "plt.plot(newdata)\n",
    "plt.tight_layout()\n",
    "plt.show()"
   ]
  },
  {
   "cell_type": "markdown",
   "metadata": {},
   "source": [
    "### Out of memory process"
   ]
  },
  {
   "cell_type": "code",
   "execution_count": null,
   "metadata": {
    "collapsed": false
   },
   "outputs": [],
   "source": [
    "N = 10000\n",
    "\n",
    "NSQUARES = 50\n",
    "\n",
    "# Initialize\n",
    "img = np.zeros((N, N), np.uint8)\n",
    "centers = np.random.random_integers(0, N, size=(NSQUARES, 2))\n",
    "radii = np.random.randint(0, N/9, size=NSQUARES)\n",
    "colors = np.random.randint(100, 255, size=NSQUARES)\n",
    "\n",
    "# Generate squares\n",
    "for i in xrange(NSQUARES):\n",
    "   xindices = range(centers[i][0] - radii[i], centers[i][0] + radii[i])\n",
    "   xindices = np.clip(xindices, 0, N - 1)\n",
    "   yindices = range(centers[i][1] - radii[i], centers[i][1] + radii[i])\n",
    "   yindices = np.clip(yindices, 0, N - 1)\n",
    "\n",
    "   if len(xindices) == 0 or len(yindices) == 0:\n",
    "      continue\n",
    "\n",
    "   coordinates = np.meshgrid(xindices, yindices)\n",
    "   img[coordinates] = colors[i]\n",
    "\n",
    "# Load into memory map\n",
    "img.tofile('random_squares0.raw')\n",
    "img_memmap = np.memmap('random_squares0.raw', shape=img.shape)\n",
    "\n",
    "# Display image\n",
    "plt.imshow(img_memmap)\n",
    "plt.axis('off')"
   ]
  },
  {
   "cell_type": "markdown",
   "metadata": {
    "collapsed": false
   },
   "source": [
    "<h1><i><center>To be continued..."
   ]
  }
 ],
 "metadata": {
  "anaconda-cloud": {},
  "kernelspec": {
   "display_name": "Python [Root]",
   "language": "python",
   "name": "Python [Root]"
  },
  "language_info": {
   "codemirror_mode": {
    "name": "ipython",
    "version": 2.0
   },
   "file_extension": ".py",
   "mimetype": "text/x-python",
   "name": "python",
   "nbconvert_exporter": "python",
   "pygments_lexer": "ipython2",
   "version": "2.7.11"
  }
 },
 "nbformat": 4,
 "nbformat_minor": 0
}