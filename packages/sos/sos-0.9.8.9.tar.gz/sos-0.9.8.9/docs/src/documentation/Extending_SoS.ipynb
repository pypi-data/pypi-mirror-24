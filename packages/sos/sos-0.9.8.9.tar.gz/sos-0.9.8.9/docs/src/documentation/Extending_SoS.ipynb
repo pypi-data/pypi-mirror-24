{
 "cells": [
  {
   "cell_type": "markdown",
   "metadata": {},
   "source": [
    "# Extending SoS"
   ]
  },
  {
   "cell_type": "markdown",
   "metadata": {},
   "source": [
    "SoS can be easily extended with new actions, targets, converters, file previewers, and support for new languages. To make the extension available to other users, you can either create and distribute a separate package, or extend SoS and send us a [pull request](https://help.github.com/articles/about-pull-requests/)."
   ]
  },
  {
   "cell_type": "markdown",
   "metadata": {},
   "source": [
    "## Understanding `entry_points`"
   ]
  },
  {
   "cell_type": "markdown",
   "metadata": {},
   "source": [
    "SoS makes extensive use of [**entry points**](http://setuptools.readthedocs.io/en/latest/setuptools.html#dynamic-discovery-of-services-and-plugins), which allows external modules to register their features in the file system to make them available to other modules. It can be confusing initially but [this stack overflow ticket](http://stackoverflow.com/questions/774824/explain-python-entry-points) explains it quite well.\n",
    "\n",
    "To register additional feature with SoS, you either need to extend `entry_points` of the [`setup.py` script](https://github.com/vatlab/SOS/blob/master/setup.py) of SoS, or create your own package with these `entry_points`. Option `extras_require` can be used to specify additional dependent packages for these features. For example, you can create a package with the following entry_points to provide support for ruby.\n",
    "\n",
    "```\n",
    "    entry_points='''\n",
    "[sos-language]\n",
    "ruby = sos-ruby.kernel:sos_ruby\n",
    "\n",
    "[sos-targets]\n",
    "Ruby_Library = sos-ruby.target:Ruby-Library\n",
    "'''\n",
    "```\n",
    "\n",
    "With the installation of this package, `sos` would be able to obtain a class `sos_ruby` from module `sos-ruby.kernel`, and use it to work with the `ruby` language."
   ]
  },
  {
   "cell_type": "markdown",
   "metadata": {},
   "source": [
    "## Defining your own actions"
   ]
  },
  {
   "cell_type": "markdown",
   "metadata": {},
   "source": [
    "Under the hood an action is a normal Python function that is decorated as `SoS_Action`. The `decorator` defines the common interface of actions and calls the actual function. To define your own action, you generally need to \n",
    "\n",
    "```\n",
    "from sos.actions import SoS_Action\n",
    "\n",
    "@SoS_Action()\n",
    "def my_action(*args, **kwargs):\n",
    "    pass\n",
    "```\n",
    "\n",
    "The decorator accepts two optional parameters:\n",
    "\n",
    "* `run_mode=['interactive', 'run']` meaning the action will be executable in batch and interactive (Jupyter kernel) mode, and not in `dryrun` mode. An action usually behave the same in both modes but can be tailered for the environment in which it runs. \n",
    "* `acceptable_args=['*']` which can be used to specify a list of acceptable parameter (`*` matches all keyword args). An exception will be raised if an action is defined with a list of `acceptable_args` and is called with an unrecognized argument."
   ]
  },
  {
   "cell_type": "markdown",
   "metadata": {},
   "source": [
    "You then need to add an entry to `entry_points` as\n",
    "\n",
    "```\n",
    "[sos-actions]\n",
    "my_action = mypackage.mymodule:my_action\n",
    "```\n",
    "\n",
    "If the execution of action depends on some other targets, you can raise an `UnknownTarget` with the target so that the target can be obtained. For example, if your action depends on a particular `R_library`, you can test the existence of the target as follows:\n",
    "\n",
    "```\n",
    "from sos.target import UnknownTarget\n",
    "from sos.R.target import R_library\n",
    "\n",
    "@SoS_Action()\n",
    "def my_action(script, *args, **kwargs):\n",
    "    if not R_library('somelib').exists():\n",
    "        raise UnknownTarget(R_library('somelib'))\n",
    "    # ...\n",
    "```"
   ]
  },
  {
   "cell_type": "markdown",
   "metadata": {},
   "source": [
    "## Additional targets"
   ]
  },
  {
   "cell_type": "markdown",
   "metadata": {},
   "source": [
    "Adding additional target is similar with a class derived from [`BaseTarget`](https://github.com/vatlab/SOS/blob/master/src/sos/target.py).\n",
    "\n",
    "```\n",
    "from sos.target import BaseTarget\n",
    "\n",
    "class my_target(BaseTarget):\n",
    "    def __init__(self, *args, **kwargs):\n",
    "        pass\n",
    "```\n",
    "\n",
    "You will need to define several member functions for this class, most notably `exists` that checks the existence of the target. This function accept a parameter `mode`, which can be `target`, `signature`, or `any`. Like a file target, a target can be considered exist as long as its signature exists, and if the real target is not needed for the execution of the workflow.\n",
    "\n",
    "\n",
    "The details of this class can be found at the source code of [`BaseTarget`](https://github.com/vatlab/SOS/blob/master/src/sos/target.py). The [`R_Library`](https://github.com/vatlab/SOS/blob/master/src/sos/R/target.py) provides a good example of a **virtual target** that do not have a fixed corresponding file, can be checked for existence, and actually attempts to obtain (install a R library) the target when it is checked.\n",
    "\n",
    "After you defined your target, you can make it available to SOS by adding an appropriate entry point\n",
    "\n",
    "```\n",
    "[sos-targets]\n",
    "my_target = mypackage.mymodule:my_target\n",
    "```"
   ]
  },
  {
   "cell_type": "markdown",
   "metadata": {},
   "source": [
    "## File format conversion"
   ]
  },
  {
   "cell_type": "markdown",
   "metadata": {},
   "source": [
    "To convert between sos and another file format, you would need to define two function, one returnning an [`argparse.ArgumentParser`](https://docs.python.org/3/library/argparse.html) that parse converter arguments, and one performing real file conversion.\n",
    "\n",
    "Suppose you would like to convert `.sos` to a `.xp` format, you can define these two functions as follows\n",
    "\n",
    "```\n",
    "import argparse\n",
    "from sos.sos_script import SoS_Script\n",
    "\n",
    "def get_my_converter_parser():\n",
    "    parser = argparse.ArgumentParser('sos_xp')\n",
    "    parser.add_argument('--theme', \n",
    "        help='Style of output format')\n",
    "    return parser\n",
    "\n",
    "def my_converter(source_file, dest_file, args=None, unknown_args=[]):\n",
    "    # parse additional_args to obtain converter-specific options\n",
    "    # then convert from source_file to dest_file\n",
    "    script = SoS_Script(source_file)\n",
    "    for section in script.sections:\n",
    "        # do something\n",
    "\n",
    "if __name__ == '__main__':\n",
    "    parser = get_my_converter_parser()\n",
    "    args, unknown_args = parser.parse_known_args(sys.argv[3:])\n",
    "    my_converter(sys.argv[1], sys.argv[2], args, unknown_args)\n",
    "\n",
    "```\n",
    "\n",
    "You can then register the converter in `setup.py` as\n",
    "\n",
    "```\n",
    "[sos-converters]\n",
    "fromExt-toExt.parser: mypackage.mymodule:get_my_converter_parser\n",
    "fromExt-toExt.func: mypackage.mymodule:my_converter\n",
    "```\n",
    "\n",
    "Here `fromExt` is file extension without leading dot, `toExt` is destination file extension without leading dot, or a format specified by the `--to` parameter of command `sos convert`. If `dest_file` is unspecified, the output should be written to standard output.\n",
    "\n",
    "This example uses `if __name__ == '__main__'` section so that the converter can be used as a standandalone program, which is not needed but a great way for testing purposes. Note that the input and output files are handled by `sos convert` so the parser only needs to parse converter-specific options."
   ]
  },
  {
   "cell_type": "markdown",
   "metadata": {},
   "source": [
    "## Preview additional formats\n",
    "\n",
    "Adding a preview function is very simple. All you need to is to define a function that returns preview information, and add an entry point to link the function to certain file format.\n",
    "\n",
    "More specifically, a previewer should be specified as\n",
    "\n",
    "```\n",
    "pattern,priority = preview_module:func\n",
    "```\n",
    "\n",
    "or\n",
    "\n",
    "```\n",
    "module:func,priority = preview_module:func\n",
    "```\n",
    "\n",
    "where\n",
    "\n",
    "1. `pattern` is a pattern that matches incoming filename (see module fnmatch.fnmatch for details)\n",
    "2. `module:func` specifies a function in module that detects the type of input file.\n",
    "3. `priority` is an integer number that indicates the priority of previewer in case multiple pattern or function matches the  same file. Developers of third-party previewer can override an existing previewer by specifying a higher priority number.\n",
    "4. `preview_module:func` points to a function in a module. The function should accept a filename as the only parameter, and  returns either\n",
    "\n",
    "   * A string that will be displayed as plain text to standard output.\n",
    "   * A dictionary that will be returned as `data` field of `display_data` (see [Jupyter documentation](http://jupyter-client.readthedocs.io/en/latest/messaging.html) for details). The dictionary typically has `text/html` for HTML output, \"text/plain\" for plain text, and \"text/png\" for image presentation of the file."
   ]
  },
  {
   "cell_type": "markdown",
   "metadata": {},
   "source": [
    "## Support for a language.\n",
    "\n",
    "SoS needs to know a few things before it can support a language properly,\n",
    "\n",
    "1. The Jupyter kernel this language uses to work with Jupyer, which is a `ir` kernel for language `R`.\n",
    "2. How to translate a Python object to a **similar** object in this language\n",
    "3. How to translate an object in this language to a **similar** object in Python.\n",
    "4. The color of the prompt of cells executed by this language.\n",
    "5. (Optional but recommend). Information of a running session.\n",
    "6. Optional options for interacting with the language on frontend.\n",
    "\n",
    "It is important to understand that, instead of providing object that is native to the **sender** language (e.g. use [`rpy2`](http://rpy2.bitbucket.org/) to wrap R objects in Python), SoS tries to provide object that is native to the **recipient** language. That is to say, although objects\n",
    "\n",
    "```\n",
    "a = 1\n",
    "b = c(1, 2)\n",
    "```\n",
    "\n",
    "are of the same type `numeric` in R, they are translated to Python in different types\n",
    "\n",
    "```\n",
    "a = 1\n",
    "b = [1, 2]\n",
    "```"
   ]
  },
  {
   "cell_type": "markdown",
   "metadata": {},
   "source": [
    "To support a new language, you will need to write a Python package that defines a class, say `mylanguage`, that should provide the following class attributes:\n",
    "\n",
    "1. `supported_kernels`: a dictionary of language and names of the kernels that the language supports, such as `{'R': ['ir']}`. If multiple kernels are supported, SoS will look for a kernel with matched name in the order that is specified (e.g. `{'JavaScript': ['ijavascript', 'inodejs']}`). Multiple languages can be specified if a language module supports multiple languages (e.g. `Matlab` and `Octave`).\n",
    "2. `background_color`: a name or `#XXXXXX` value for a color that will be used in the prompt area of cells that are executed by the subkernel. An empty string can be used for using default notebook color.\n",
    "3. `options`: A Python dictionary with options that will be passed to the frontend. Currently two options `variable_pattern` and `assignment_pattern` are supported. Both options should be regular expressions in JS style. \n",
    "   * Option `variable_pattern` is used to identify if a statement is a simple variable (nothing else). If this option is defined and the input text (if executed at the side panel) matches the pattern, SoS will prepend `%preview` to the code. This option is useful only when `%preview var` displays more information than `var`.\n",
    "   * Option `assignment_pattern` is used to identify if a statement is an assignment operation. If this option is defined and the input text matches the pattern, SoS will prepend `%preview var` to the code where `var` should be the first matched portion of the pattern (use `( )`). This mechanism allows SoS to automatically display result of an assignment when you step through the code.\n",
    "   \n",
    "An instance of the class would be initialized with the sos kernel and the name of the subkernel, which does not have to be one of the `supported_kernels` (could be self-defined) and should provide the following attributes and functions:\n",
    "\n",
    "1. `init_statements`: a statement that will be executed by the sub-kernel when the kernel starts. This statement usually defines functions to convert object to Python.\n",
    "2. `get_vars`: a Python function that transfer a Python variable to the subkernel.\n",
    "3. `put_vars`: a Python function that put one or more variables in the subkernel to SoS or another subkernel.\n",
    "4. `sessioninfo`: a Python function that returns information of the running kernel, usually including version of the language, the kernel, and currently used packages and their versions. For `R`, this means a call to `sessionInfo()` function. The return value of this function can be a string, a list of strings or `(key, value)` pairs, or a dictinary. The function will be called by the `%sessioninfo` magic of SoS.\n"
   ]
  },
  {
   "cell_type": "markdown",
   "metadata": {},
   "source": [
    "### Obtain variable from SoS\n",
    "\n",
    "The `get_vars` function should be defined as\n",
    "\n",
    "```\n",
    "def get_vars(self, var_names)\n",
    "```\n",
    "where \n",
    "\n",
    "* `self` is the language instance with access to the SoS kernel, and\n",
    "* `var_names` are names in the sos dictionary.\n",
    "\n",
    "This function is responsible for probing the type of Python variable and create a similar object in the subkernel."
   ]
  },
  {
   "cell_type": "markdown",
   "metadata": {},
   "source": [
    "For example, to create a Python object `b = [1, 2]` in `R` (magic `%get`), this function could\n",
    "\n",
    "1. Obtain a R expression to create this variable (e.g. `b <- c(1, 2)`)\n",
    "2. Execute the expression in the subkernel to create variable `b` in it.\n",
    "\n",
    "Note that the function `get_vars` can change the variable name because a valid variable name in Python might not be a valid variable name in another language. The function should give a warning if this happens."
   ]
  },
  {
   "cell_type": "markdown",
   "metadata": {},
   "source": [
    "### Send variables to other kernels\n",
    "\n",
    "The `put_vars` function should be defined as\n",
    "\n",
    "```\n",
    "def put_vars(self, var_names, to_kernel=None)\n",
    "```\n",
    "where\n",
    "\n",
    "1. `self` is the language instance with access to the SoS kernel\n",
    "2. `var_name` is a list of variables that should exist in the subkernel. Because a subkernel is responsible for sharing variables with names starting with `sos` to SoS automatically, this function should be called to pass these variables even when `var_names` is empty.\n",
    "3. `to_kernel` is the destination kernel to which the variables should be passed.\n",
    "\n",
    "Depending on destination kernel, this function can:\n",
    "\n",
    "* If the destination kernel is `sos`, the function should return a dictionary of variables that will be merged to the SoS dictionary.\n",
    "* If direct variable transfer is not supported by the language, the function can return a Python dictionary, in which case the language transfers the variables to SoS and let SoS pass along to the destination kernel.\n",
    "* If direct variable transfer is supported, the function should return a string. SoS will evaluate the string in the destination kernel to pass variables directly to the destination kernel.\n",
    "  \n",
    "So basically, a language can start with an implementation of `put_vars(to_kernel='sos')` and let SoS handle the rest. If need arises, it can\n",
    "\n",
    "* Implement variable exchanges between instances of the same language. This can be useful because there are usually lossness and more efficient methods in this case.\n",
    "* Put variable to another languages where direct varable transfer is much more efficient than transferring through SoS."
   ]
  },
  {
   "cell_type": "markdown",
   "metadata": {},
   "source": [
    "For example, to send a `R` object `b <- c(1, 2)` from subkernel `R` to `SoS` (magic `%put`), this function can\n",
    "\n",
    "1. Execute an statement in the subkernel to get the value(s) of variable(s) in some format, for example, a string `\"{'b': [1, 2]}\"`.\n",
    "2. Post-process these varibles to return a dictionary to SoS.\n",
    "\n",
    "The [`R` sos extension](https://github.com/vatlab/SOS/blob/master/src/sos/R/kernel.py) provides a good example to get you started."
   ]
  },
  {
   "cell_type": "markdown",
   "metadata": {},
   "source": [
    "**NOTE**: Unlike other language extension mechanisms in which the python module can get hold of the \"engine\" of the interpreter (e.g. `saspy` and matlab's Python extension start the interpreter for direct communication) or have access to lower level API of the language (e.g. `rpy2`), SoS only have access to the interface of the language and perform all conversions by executing commands in the subkernels and intercepting their response. Consequently,\n",
    "\n",
    "1. Data exchange can be slower than other methods.\n",
    "2. Data exchange is less dependent on version of the interpreter.\n",
    "2. Data exchange can happen between a local and a remote kernel.\n",
    "\n",
    "Also, although it can be more efficient to save large datasets to disk files and load in another kernel, this method does not work for kernels that do not share the same filesystem. We currently ignore this issue and assume all kernels have access to the same file system."
   ]
  },
  {
   "cell_type": "markdown",
   "metadata": {
    "collapsed": true
   },
   "source": [
    "## Adding a subcommad (addon)"
   ]
  },
  {
   "cell_type": "markdown",
   "metadata": {},
   "source": [
    "If you would like to add a complete subcommand as an addon to SoS, you will need to define two functions and add them to `setup.py` as two entry points, one with suffix `.args` and one with suffix `.func`.\n",
    "\n",
    "```\n",
    "[sos_addons]\n",
    "myaddon.args = yourpackage.module:addon_parser\n",
    "myaddon.func = yourpackage.module:addon_func\n",
    "```\n",
    "\n",
    "The `addon_parser` function should use module `argparse` to return an `ArgumentParser` object. SoS would obtain this parser and add it as a subparse of the SoS main parser so that the options can be parsed as\n",
    "\n",
    "```\n",
    "sos myaddon options\n",
    "```\n",
    "\n",
    "The `addon_func` should be defined as\n",
    "\n",
    "```\n",
    "def addon_func(args, unknown_args)\n",
    "```\n",
    "\n",
    "with `args` being the parsed known arguments, and `unknown_args` being a list of unknown arguments that you can process by youself."
   ]
  }
 ],
 "metadata": {
  "anaconda-cloud": {},
  "kernelspec": {
   "display_name": "SoS",
   "language": "sos",
   "name": "sos"
  },
  "language_info": {
   "codemirror_mode": "sos",
   "file_extension": ".sos",
   "mimetype": "text/x-sos",
   "name": "sos",
   "nbconvert_exporter": "sos.jupyter.converter.SoS_Exporter",
   "pygments_lexer": "sos"
  },
  "sos": {
   "kernels": [
    [
     "Bash",
     "bash",
     "Bash",
     "#E6EEFF"
    ],
    [
     "JavaScript",
     "javascript",
     "JavaScript",
     "#00ff80"
    ],
    [
     "Python2",
     "python2",
     "Python2",
     "#F6FAEA"
    ],
    [
     "rik_local_remote",
     "rik_local_remote",
     "",
     ""
    ],
    [
     "R",
     "ir",
     "R",
     "#FDEDEC"
    ],
    [
     "Python3",
     "python3",
     "Python3",
     "#EAFAF1"
    ],
    [
     "SoS",
     "sos",
     "",
     ""
    ]
   ],
   "panel": {
    "displayed": true,
    "height": 0,
    "style": "side"
   }
  },
  "toc": {
   "colors": {
    "hover_highlight": "#DAA520",
    "running_highlight": "#FF0000",
    "selected_highlight": "#FFD700"
   },
   "moveMenuLeft": true,
   "nav_menu": {
    "height": "141px",
    "width": "252px"
   },
   "navigate_menu": true,
   "number_sections": true,
   "sideBar": true,
   "threshold": 4,
   "toc_cell": false,
   "toc_section_display": "block",
   "toc_window_display": true
  }
 },
 "nbformat": 4,
 "nbformat_minor": 1
}
