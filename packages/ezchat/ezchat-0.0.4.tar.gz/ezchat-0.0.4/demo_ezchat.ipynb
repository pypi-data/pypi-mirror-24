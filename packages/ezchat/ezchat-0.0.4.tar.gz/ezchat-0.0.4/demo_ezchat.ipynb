{
 "cells": [
  {
   "cell_type": "markdown",
   "metadata": {},
   "source": [
    "# ezchat\n",
    "+ A no-frill easy chat\n",
    "+ Instant setup"
   ]
  },
  {
   "cell_type": "code",
   "execution_count": 1,
   "metadata": {
    "collapsed": true
   },
   "outputs": [],
   "source": [
    "# convient during dev\n",
    "%load_ext autoreload\n",
    "%autoreload 2"
   ]
  },
  {
   "cell_type": "code",
   "execution_count": 2,
   "metadata": {
    "collapsed": true
   },
   "outputs": [],
   "source": [
    "from ezchat.servers import hub, client, kill"
   ]
  },
  {
   "cell_type": "markdown",
   "metadata": {},
   "source": [
    "## Launch Hub and Client servers"
   ]
  },
  {
   "cell_type": "code",
   "execution_count": 3,
   "metadata": {},
   "outputs": [
    {
     "name": "stdout",
     "output_type": "stream",
     "text": [
      "Script /Users/Olivier/Documents/vuejs/ezchat/ezchat/hub.command created\n",
      "Web server \"chat hub\" started\n",
      "To check it is running, look for its terminal window\n",
      "Open browser to http://localhost:5001\n",
      "Note: The server will crash upon start if the port is being used\n"
     ]
    },
    {
     "data": {
      "text/plain": [
       "['9211', '9208']"
      ]
     },
     "execution_count": 3,
     "metadata": {},
     "output_type": "execute_result"
    }
   ],
   "source": [
    "h = hub(port=5001, detached=True)\n",
    "h"
   ]
  },
  {
   "cell_type": "code",
   "execution_count": 4,
   "metadata": {},
   "outputs": [
    {
     "name": "stdout",
     "output_type": "stream",
     "text": [
      "Script /Users/Olivier/Documents/vuejs/ezchat/ezchat/client.command created\n",
      "Web server \"ezchat client\" started\n",
      "To check it is running, look for its terminal window\n",
      "Open browser to http://localhost:5002\n",
      "Note: The server will crash upon start if the port is being used\n"
     ]
    },
    {
     "data": {
      "text/plain": [
       "['9344', '9341']"
      ]
     },
     "execution_count": 4,
     "metadata": {},
     "output_type": "execute_result"
    }
   ],
   "source": [
    "c = client(port=5002, detached=True)\n",
    "c"
   ]
  },
  {
   "cell_type": "markdown",
   "metadata": {},
   "source": [
    "## Kill servers"
   ]
  },
  {
   "cell_type": "code",
   "execution_count": 5,
   "metadata": {},
   "outputs": [
    {
     "name": "stdout",
     "output_type": "stream",
     "text": [
      "Killing pids: ['9211', '9208']\n",
      "Server killed\n"
     ]
    }
   ],
   "source": [
    "kill(h)"
   ]
  },
  {
   "cell_type": "code",
   "execution_count": 6,
   "metadata": {},
   "outputs": [
    {
     "name": "stdout",
     "output_type": "stream",
     "text": [
      "Killing pids: ['9344', '9341']\n",
      "Server killed\n"
     ]
    }
   ],
   "source": [
    "kill(c)"
   ]
  }
 ],
 "metadata": {
  "kernelspec": {
   "display_name": "Python 3",
   "language": "python",
   "name": "python3"
  },
  "language_info": {
   "codemirror_mode": {
    "name": "ipython",
    "version": 3
   },
   "file_extension": ".py",
   "mimetype": "text/x-python",
   "name": "python",
   "nbconvert_exporter": "python",
   "pygments_lexer": "ipython3",
   "version": "3.6.0"
  }
 },
 "nbformat": 4,
 "nbformat_minor": 2
}
