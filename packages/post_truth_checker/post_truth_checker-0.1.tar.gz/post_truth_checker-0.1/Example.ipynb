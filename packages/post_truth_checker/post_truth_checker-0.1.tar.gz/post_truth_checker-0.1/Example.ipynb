{
 "cells": [
  {
   "cell_type": "markdown",
   "metadata": {},
   "source": [
    "This program was created in order to help distinguish fake news/clickbait article from reliable one. It is based on:\n",
    "  - blacklist sites which have poor reputation\n",
    "  - title expressions generally considered as clickbaits\n",
    "  - opinion expressions, which is non-neutral and creates a special view on issue\n",
    "\n",
    "It won't clearly show you forbidden sites, but as a result it returns top websites links with indexes of untrust.\n",
    "Indexes starts at 0 which means that in the article was not found any suspected expressions.\n",
    "The higher returned index is, the more untrusted site it is. You should think twice before you click on them."
   ]
  },
  {
   "cell_type": "markdown",
   "metadata": {},
   "source": [
    "First install post_truth_checker:"
   ]
  },
  {
   "cell_type": "code",
   "execution_count": null,
   "metadata": {},
   "outputs": [],
   "source": [
    "!pip3 install --upgrade git+https://github.com/AGHPythonCourse2017/zad3-detori"
   ]
  },
  {
   "cell_type": "code",
   "execution_count": null,
   "metadata": {},
   "outputs": [],
   "source": [
    "from post_truth_checker.main import run\n"
   ]
  },
  {
   "cell_type": "code",
   "execution_count": null,
   "metadata": {},
   "outputs": [],
   "source": [
    "run('Earth is flat')"
   ]
  }
 ],
 "metadata": {
  "kernelspec": {
   "display_name": "Python 3",
   "language": "python",
   "name": "python3"
  },
  "language_info": {
   "codemirror_mode": {
    "name": "ipython",
    "version": 3
   },
   "file_extension": ".py",
   "mimetype": "text/x-python",
   "name": "python",
   "nbconvert_exporter": "python",
   "pygments_lexer": "ipython3",
   "version": "3.6.1"
  }
 },
 "nbformat": 4,
 "nbformat_minor": 1
}
