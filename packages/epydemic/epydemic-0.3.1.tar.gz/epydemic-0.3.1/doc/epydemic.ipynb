{
 "cells": [
  {
   "cell_type": "markdown",
   "metadata": {},
   "source": [
    "# `epydemic`: Epidemic simulations on networks in Python\n",
    "\n",
    "[Simon Dobson](mailto:simon.dobosn@computer.,org)<br>\n",
    "School of Computer Science, University of St Andrews UK"
   ]
  },
  {
   "cell_type": "markdown",
   "metadata": {},
   "source": [
    "## Motivation"
   ]
  },
  {
   "cell_type": "markdown",
   "metadata": {},
   "source": [
    "Epidemic simulation is an important technique within network science, both abstractly and for its applications in medicine, physics, social science, and other domains. The basic notion is that a \"disease\" (which might be meatn to represent an actual disease, or might be representative of some other property) \"spreads\" through a network as \"infected\" nodes infected neighbouring nodes. Depending on the structure of the system, the disease may die out, of may infect all or a sizeable proportion of the network. The disease may be very simple &ndash; an abstracted mathematical model simplified for the purposes of analysis &ndash; or may represent a real-world phenomenon.\n",
    "\n",
    "Epidemic simulations are stochastic processes in which the progression of a disease is often described using a \"compartmented\" model consisting of several compartments and probabilistic transitions between them. Common examples include disease models where infection confers immunity (the SIR model), models where infection is transient and can be followed by fresh infection (SIS), and more complex configurations including modelling asymptomatic infectious latency and maternally-conferred partial foetal immunity: Hethcote [[Het00]](#Het00) provides a detailed survey. \n",
    "\n",
    "Because processes are stochastic, coding a simulation generally requires dealing with drawing events from probability distributions. `epydemic` provides the basic simulation machinery needed to perform simulations of epidemic (and other) oprocesses running over networks represented using Python's `networkx` library. It integrates with [`epyc`](https://pypi.python.org/pypi/epyc), a library for performing reproducible experimental protocols on single machines and compute clusters. The goal of `epydemic` is to provide a base for libraries of network process simulators than can be shared and debugged collectively."
   ]
  },
  {
   "cell_type": "markdown",
   "metadata": {},
   "source": [
    "## Installation"
   ]
  },
  {
   "cell_type": "markdown",
   "metadata": {},
   "source": [
    "You can install ``epydemic`` directly from PyPi using ``pip``:\n",
    "\n",
    "<pre>\n",
    "   pip install epydemic\n",
    "</pre>\n",
    "\n",
    "The [master distribution of ``epydemic``](https://github.com/simoninireland/epydemic) is hosted on GitHub. To obtain a\n",
    "copy, just clone the repo:\n",
    "\n",
    "<pre>\n",
    "   git clone git@github.com:simoninireland/epydemic.git\n",
    "   cd epydemic\n",
    "   python setup.py install\n",
    "</pre>"
   ]
  },
  {
   "cell_type": "markdown",
   "metadata": {},
   "source": [
    "## A simple simulation of a simple disease"
   ]
  },
  {
   "cell_type": "markdown",
   "metadata": {},
   "source": [
    "TBD"
   ]
  },
  {
   "cell_type": "markdown",
   "metadata": {},
   "source": [
    "## Synchronous dynamics"
   ]
  },
  {
   "cell_type": "markdown",
   "metadata": {},
   "source": [
    "TBD"
   ]
  },
  {
   "cell_type": "markdown",
   "metadata": {},
   "source": [
    "## Stochastic (Gillespie) dynamics"
   ]
  },
  {
   "cell_type": "markdown",
   "metadata": {},
   "source": [
    "TBD"
   ]
  },
  {
   "cell_type": "markdown",
   "metadata": {},
   "source": [
    "## References"
   ]
  },
  {
   "cell_type": "markdown",
   "metadata": {},
   "source": [
    "<a id=\"Gil76\">[Gil76]</a> Daniel Gillespie. A general method for numerically simulating the stochastic time evolution of coupled chemical reactions. Journal of Computational Physics **22**, pp.40&ndash;434. 1976.\n",
    "\n",
    "<a id=\"Gil77\">[Gil77]</a> Daniel Gillespie. Exact stochastic simulation of coupled chemical reactions. Journal of Physical Chemistry **81**(25), pp.2340&ndash;2361. 1977.\n",
    "\n",
    "<a id=\"Het00\">[Het00]</a> Herbert Hethcote. [The mathematics of infectious diseases](http://dx.doi.org//10.1137/S0036144500371907>). SIAM Review **42**(4), pp.599&ndash;653\". December 2000.\n",
    "\n",
    "<a id=\"KMcK27\">[KMcK27</a> W.O. Kermack and A.G. McKendrick. [A contribution to the mathematical\n",
    "theory of epidemics](http://dx.doi.org/10.1098/rspa.1927.0118). Proceedings of the Royal Society A **115** (772). 1927.\n",
    "\n",
    "<a id=\"New02\">[New02]</a> M.E.J. Newman. [Spread of epidemic disease on networks](<http://dx.doi.org/10.1103/PhysRevE.66.016128>). Physical Review E **66**. July 2002."
   ]
  }
 ],
 "metadata": {
  "kernelspec": {
   "display_name": "Python 2",
   "language": "python",
   "name": "python2"
  },
  "language_info": {
   "codemirror_mode": {
    "name": "ipython",
    "version": 2
   },
   "file_extension": ".py",
   "mimetype": "text/x-python",
   "name": "python",
   "nbconvert_exporter": "python",
   "pygments_lexer": "ipython2",
   "version": "2.7.13"
  }
 },
 "nbformat": 4,
 "nbformat_minor": 2
}
