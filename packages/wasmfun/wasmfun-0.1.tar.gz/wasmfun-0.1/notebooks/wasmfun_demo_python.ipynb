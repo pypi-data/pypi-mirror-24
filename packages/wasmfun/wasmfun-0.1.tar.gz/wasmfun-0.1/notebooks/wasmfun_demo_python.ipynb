{
 "cells": [
  {
   "cell_type": "markdown",
   "metadata": {},
   "source": [
    "# WASM demo - Python\n",
    "Making a full Python to WASM compiler will be *a lot* of work, and would not necessarily result in a faster interpreter than CPython. But we can implement a subset of Python in which all values are floats."
   ]
  },
  {
   "cell_type": "markdown",
   "metadata": {},
   "source": [
    "## Example code - Fibonacci sequence\n"
   ]
  },
  {
   "cell_type": "code",
   "execution_count": null,
   "metadata": {
    "collapsed": true
   },
   "outputs": [],
   "source": [
    "EXAMPLE = \"\"\"\n",
    "a = 0\n",
    "b = 1\n",
    "for i in range(10):\n",
    "    print(a)\n",
    "    c = b\n",
    "    b = a + b\n",
    "    a = c\n",
    "\"\"\"\n",
    "exec(EXAMPLE)"
   ]
  },
  {
   "cell_type": "markdown",
   "metadata": {},
   "source": [
    "## From code to AST\n",
    "With Python itself we can easily generate an Abstract Syntax Tree from Python code"
   ]
  },
  {
   "cell_type": "code",
   "execution_count": null,
   "metadata": {
    "collapsed": true
   },
   "outputs": [],
   "source": [
    "import ast\n",
    "root = ast.parse(EXAMPLE)\n",
    "root"
   ]
  },
  {
   "cell_type": "markdown",
   "metadata": {},
   "source": [
    "AST is a tree structure that reprsents the code:"
   ]
  },
  {
   "cell_type": "code",
   "execution_count": null,
   "metadata": {
    "collapsed": true
   },
   "outputs": [],
   "source": [
    "root.body"
   ]
  },
  {
   "cell_type": "markdown",
   "metadata": {},
   "source": [
    "## From AST to WASM\n",
    "In a nutshell: walk over the tree and generate WASM instructions."
   ]
  },
  {
   "cell_type": "code",
   "execution_count": null,
   "metadata": {
    "collapsed": true
   },
   "outputs": [],
   "source": [
    "import wasmfun as wf"
   ]
  },
  {
   "cell_type": "code",
   "execution_count": null,
   "metadata": {
    "collapsed": true
   },
   "outputs": [],
   "source": [
    "class Context:\n",
    "    \n",
    "    def __init__(self):\n",
    "        self.instructions = []\n",
    "        self.names = {}\n",
    "        self._name_counter = 0\n",
    "        self._block_stack = []\n",
    "    \n",
    "    def name_idx(self, name):\n",
    "        if name not in self.names:\n",
    "            self.names[name] = self._name_counter\n",
    "            self._name_counter += 1\n",
    "        return self.names[name]\n",
    "    \n",
    "    def new_stub(self):\n",
    "        name = 'stub' + str(self._name_counter)\n",
    "        return self.name_idx(name)\n",
    "    \n",
    "    def push_block(self, kind):\n",
    "        assert kind in ('if', 'for', 'while')\n",
    "        self._block_stack.append(kind)\n",
    "    \n",
    "    def pop_block(self, kind):\n",
    "        assert self._block_stack.pop(-1) == kind\n",
    "    \n",
    "    def get_block_level(self):\n",
    "        for i, kind in enumerate(reversed(self._block_stack)):\n",
    "            if kind in ('for', 'while'):\n",
    "                return i"
   ]
  },
  {
   "cell_type": "code",
   "execution_count": null,
   "metadata": {
    "collapsed": true
   },
   "outputs": [],
   "source": [
    "def _compile_expr(node, ctx, push_stack):\n",
    "    \n",
    "    if isinstance(node, ast.Expr):\n",
    "        _compile_expr(node.value, ctx, push_stack)\n",
    "    \n",
    "    elif isinstance(node, ast.Assign):\n",
    "        if not (len(node.targets) == 1 and isinstance(node.targets[0], ast.Name)):\n",
    "            raise SyntaxError('Unsupported assignment at line', node.lineno)\n",
    "        idx = ctx.name_idx(node.targets[0].id)\n",
    "        _compile_expr(node.value, ctx, True)\n",
    "        ctx.instructions.append(('set_local', idx))\n",
    "        assert not push_stack\n",
    "    \n",
    "    elif isinstance(node, ast.Name):\n",
    "        assert push_stack\n",
    "        ctx.instructions.append(('get_local', ctx.name_idx(node.id)))\n",
    "    \n",
    "    elif isinstance(node, ast.Num):\n",
    "        ctx.instructions.append(('f64.const', node.n))\n",
    "    \n",
    "    elif isinstance(node, ast.UnaryOp):\n",
    "        _compile_expr(node.operand, ctx, True)\n",
    "        if isinstance(node.op, ast.USub):\n",
    "            ctx.instructions.append(('f64.neg'))\n",
    "        else:\n",
    "            raise SyntaxError('Unsupported unary operator: %s' % node.op.__class__.__name__)\n",
    "    \n",
    "    elif isinstance(node, ast.BinOp):\n",
    "        _compile_expr(node.left, ctx, True)\n",
    "        _compile_expr(node.right, ctx, True)\n",
    "        if isinstance(node.op, ast.Add):\n",
    "            ctx.instructions.append(('f64.add'))\n",
    "        elif isinstance(node.op, ast.Sub):\n",
    "            ctx.instructions.append(('f64.sub'))\n",
    "        elif isinstance(node.op, ast.Mult):\n",
    "            ctx.instructions.append(('f64.mul'))\n",
    "        elif isinstance(node.op, ast.Div):\n",
    "            ctx.instructions.append(('f64.div'))\n",
    "        elif isinstance(node.op, ast.Mod):\n",
    "            # todo: this is fragile. E.g. for negative numbers\n",
    "            _compile_expr(node.left, ctx, True)  # push again\n",
    "            _compile_expr(node.right, ctx, True)\n",
    "            ctx.instructions.append(('f64.div'))\n",
    "            ctx.instructions.append(('f64.floor'))\n",
    "            ctx.instructions.append(('f64.mul'))  # consumes last right\n",
    "            ctx.instructions.append(('f64.sub'))  # consumes last left\n",
    "        elif isinstance(node.op, ast.FloorDiv):\n",
    "            ctx.instructions.append(('f64.div'))\n",
    "            ctx.instructions.append(('f64.floor'))  # not trunc\n",
    "        else:\n",
    "            raise SyntaxError('Unsuppored binary op: %s' % node.op.__class__.__name__)\n",
    "        if not push_stack:\n",
    "            ctx.instructions.append(('drop'))\n",
    "    \n",
    "    elif isinstance(node, ast.Compare):\n",
    "        if len(node.ops) != 1:\n",
    "            raise SyntaxError('Only supports binary comparators (one operand).')\n",
    "        _compile_expr(node.left, ctx, True)\n",
    "        _compile_expr(node.comparators[0], ctx, True)\n",
    "        op = node.ops[0]\n",
    "        if isinstance(op, ast.Eq):\n",
    "            ctx.instructions.append(('f64.eq'))\n",
    "        elif isinstance(op, ast.NotEq):\n",
    "            ctx.instructions.append(('f64.ne'))\n",
    "        elif isinstance(op, ast.Gt):\n",
    "            ctx.instructions.append(('f64.qt'))\n",
    "        elif isinstance(op, ast.Lt):\n",
    "            ctx.instructions.append(('f64.lt'))\n",
    "        elif isinstance(op, ast.GtE):\n",
    "            ctx.instructions.append(('f64.qe'))\n",
    "        elif isinstance(op, ast.LtE):\n",
    "            ctx.instructions.append(('f64.le'))\n",
    "        else:\n",
    "            raise SyntaxError('Unsupported operand: %s' % op)\n",
    "    \n",
    "    elif isinstance(node, ast.If):\n",
    "        _compile_expr(node.test, ctx, True)\n",
    "        assert not push_stack  # Python is not an expression lang\n",
    "        ctx.push_block('if')\n",
    "        ctx.instructions.append(('if', 'emptyblock'))\n",
    "        for e in node.body:\n",
    "            _compile_expr(e, ctx, False)\n",
    "        if node.orelse:\n",
    "            ctx.instructions.append(('else', ))\n",
    "            for e in node.orelse:\n",
    "                _compile_expr(e, ctx, False)\n",
    "        ctx.instructions.append(('end', ))\n",
    "        ctx.pop_block('if')\n",
    "    \n",
    "    elif isinstance(node, ast.For):\n",
    "        # Check whether this is the kind of simple for-loop that we support\n",
    "        if not (isinstance(node.iter, ast.Call) and node.iter.func.id == 'range'):\n",
    "            raise SyntaxError('For-loops are limited to range().')\n",
    "        if node.orelse:\n",
    "            raise SyntaxError('For-loops do not support orelse.')\n",
    "        if not isinstance(node.target, ast.Name):\n",
    "            raise SyntaxError('For-loops support just one iterable.')\n",
    "        # Prepare start, stop, step\n",
    "        start_stub = ctx.new_stub()\n",
    "        end_stub = ctx.new_stub()\n",
    "        step_stub = ctx.new_stub()\n",
    "        if len(node.iter.args) == 1:\n",
    "            ctx.instructions.append(('f64.const', 0))\n",
    "            _compile_expr(node.iter.args[0], ctx, True)\n",
    "            ctx.instructions.append(('f64.const', 1))\n",
    "        elif len(node.iter.args) == 2:\n",
    "            _compile_expr(node.iter.args[0], ctx, True)\n",
    "            _compile_expr(node.iter.args[1], ctx, True)\n",
    "            ctx.instructions.append(('f64.const', 1))\n",
    "        elif len(node.iter.args) == 3:\n",
    "            _compile_expr(node.iter.args[0], ctx, True)\n",
    "            _compile_expr(node.iter.args[1], ctx, True)\n",
    "            _compile_expr(node.iter.args[2], ctx, True)\n",
    "        else:\n",
    "            raise SyntaxError('range() should have 1, 2, or 3 args')\n",
    "        ctx.instructions.append(('set_local', step_stub))  # reversed order, pop from stack\n",
    "        ctx.instructions.append(('set_local', end_stub))\n",
    "        ctx.instructions.append(('set_local', start_stub))\n",
    "        # Body\n",
    "        target = ctx.name_idx(node.target.id)\n",
    "        ctx.push_block('for')\n",
    "        for i in [('get_local', start_stub), ('set_local', target), # Init target\n",
    "                  ('block', 'emptyblock'), ('loop', 'emptyblock'),  # enter loop\n",
    "                  ('get_local', target), ('get_local', end_stub), ('f64.ge'), ('br_if', 1),  # break (level 2)\n",
    "                  ]:\n",
    "            ctx.instructions.append(i)\n",
    "        for subnode in node.body:\n",
    "            _compile_expr(subnode, ctx, False)\n",
    "        for i in [('get_local', target), ('get_local', step_stub), ('f64.add'), ('set_local', target),  # next iter\n",
    "                  ('br', 0),  # loop\n",
    "                  ('end'), ('end'),  # end of loop and outer block\n",
    "                  ]:\n",
    "            ctx.instructions.append(i)\n",
    "        ctx.pop_block('for')\n",
    "    \n",
    "    elif isinstance(node, ast.While):\n",
    "        # Check whether this is the kind of simple for-loop that we support\n",
    "        if node.orelse:\n",
    "            raise SyntaxError('While-loops do not support orelse.')\n",
    "        # Body\n",
    "        ctx.push_block('while')\n",
    "        for i in [('block', 'emptyblock'), ('loop', 'emptyblock'),  # enter loop (outer block for break)\n",
    "                  ]:\n",
    "            ctx.instructions.append(i)\n",
    "        for subnode in node.body:\n",
    "            _compile_expr(subnode, ctx, False)\n",
    "        _compile_expr(node.test, ctx, True)\n",
    "        for i in [('br_if', 0),  # loop\n",
    "                  ('end'), ('end'),  # end of loop\n",
    "                  ]:\n",
    "            ctx.instructions.append(i)\n",
    "        ctx.pop_block('while')\n",
    "    \n",
    "    elif isinstance(node, ast.Continue):\n",
    "        ctx.instructions.append(('br', ctx.get_block_level()))\n",
    "    \n",
    "    elif isinstance(node, ast.Break):\n",
    "        ctx.instructions.append(('br', ctx.get_block_level() + 1))\n",
    "    \n",
    "    elif isinstance(node, ast.Call):\n",
    "        if not isinstance(node.func, ast.Name):\n",
    "            raise SyntaxError('Only support simple function names')\n",
    "        if node.keywords:\n",
    "            raise SyntaxError('No support for keyword args')\n",
    "        name = node.func.id\n",
    "        if name == 'print':\n",
    "            assert len(node.args) == 1, 'print() accepts exactly one argument'\n",
    "            _compile_expr(node.args[0], ctx, True)\n",
    "            ctx.instructions.append(('call', 0))\n",
    "        elif name == 'perf_counter':\n",
    "            assert len(node.args) == 0, 'perf_counter() accepts exactly zero arguments'\n",
    "            ctx.instructions.append(('call', 1))\n",
    "        else:\n",
    "            raise SyntaxError('Not a supported function: %s' % name)\n",
    "    else:\n",
    "        raise SyntaxError('Unsupported syntax: %s' % node.__class__.__name__)"
   ]
  },
  {
   "cell_type": "code",
   "execution_count": null,
   "metadata": {
    "collapsed": true
   },
   "outputs": [],
   "source": [
    "def simplepy2wasm(code):\n",
    "    # Convert to AST\n",
    "    root = ast.parse(code)\n",
    "    \n",
    "    # Compile to instructions\n",
    "    ctx = Context()\n",
    "    for node in root.body:\n",
    "        _compile_expr(node, ctx, False)\n",
    "    locals = ['f64' for i in ctx.names]\n",
    "    \n",
    "    # Produce wasm module\n",
    "    return wf.Module(\n",
    "        wf.ImportedFuncion('print_ln', ['f64'], [], 'js', 'print_ln'),\n",
    "        wf.ImportedFuncion('perf_counter', [], ['f64'], 'js', 'perf_counter'),\n",
    "        wf.Function('$main', [], [], locals, ctx.instructions),\n",
    "        )"
   ]
  },
  {
   "cell_type": "code",
   "execution_count": null,
   "metadata": {
    "collapsed": true
   },
   "outputs": [],
   "source": [
    "m = simplepy2wasm(EXAMPLE)"
   ]
  },
  {
   "cell_type": "code",
   "execution_count": null,
   "metadata": {
    "collapsed": true
   },
   "outputs": [],
   "source": [
    "len(m.to_bytes())"
   ]
  },
  {
   "cell_type": "code",
   "execution_count": null,
   "metadata": {
    "collapsed": true
   },
   "outputs": [],
   "source": [
    "wf.run_wasm_in_notebook(m)"
   ]
  },
  {
   "cell_type": "markdown",
   "metadata": {},
   "source": [
    "## Prime numbers example"
   ]
  },
  {
   "cell_type": "code",
   "execution_count": null,
   "metadata": {
    "collapsed": true
   },
   "outputs": [],
   "source": [
    "EXAMPLE = \"\"\"\n",
    "max = 4000\n",
    "n = 0\n",
    "i = -1\n",
    "t0 = perf_counter()\n",
    "\n",
    "while n < max:\n",
    "    i = i + 1\n",
    "    \n",
    "    if i <= 1:\n",
    "        continue  # nope\n",
    "    elif i == 2:\n",
    "        n = n + 1\n",
    "    else:\n",
    "        gotit = 1\n",
    "        for j in range(2, i//2 + 1):\n",
    "            if i % j == 0:\n",
    "                gotit = 0\n",
    "                break\n",
    "        if gotit == 1:\n",
    "            n = n + 1\n",
    "\n",
    "print(perf_counter() - t0)\n",
    "print(i)\n",
    "\"\"\""
   ]
  },
  {
   "cell_type": "code",
   "execution_count": null,
   "metadata": {
    "collapsed": true
   },
   "outputs": [],
   "source": [
    "from time import perf_counter\n",
    "exec(EXAMPLE)"
   ]
  },
  {
   "cell_type": "code",
   "execution_count": null,
   "metadata": {
    "collapsed": true
   },
   "outputs": [],
   "source": [
    "wf.run_wasm_in_notebook(simplepy2wasm(EXAMPLE))"
   ]
  },
  {
   "cell_type": "code",
   "execution_count": null,
   "metadata": {
    "collapsed": true
   },
   "outputs": [],
   "source": [
    "wf.run_wasm_in_node(simplepy2wasm(EXAMPLE))"
   ]
  },
  {
   "cell_type": "code",
   "execution_count": null,
   "metadata": {
    "collapsed": true
   },
   "outputs": [],
   "source": []
  }
 ],
 "metadata": {
  "anaconda-cloud": {},
  "kernelspec": {
   "display_name": "Python [default]",
   "language": "python",
   "name": "python3"
  },
  "language_info": {
   "codemirror_mode": {
    "name": "ipython",
    "version": 3
   },
   "file_extension": ".py",
   "mimetype": "text/x-python",
   "name": "python",
   "nbconvert_exporter": "python",
   "pygments_lexer": "ipython3",
   "version": "3.6.1"
  }
 },
 "nbformat": 4,
 "nbformat_minor": 2
}
