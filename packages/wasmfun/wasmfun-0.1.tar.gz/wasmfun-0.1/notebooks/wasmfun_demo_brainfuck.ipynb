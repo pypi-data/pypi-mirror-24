{
 "cells": [
  {
   "cell_type": "markdown",
   "metadata": {},
   "source": [
    "# WASM demo - brainfuck\n",
    "Brainfuck is an esoteric language that consists of only eight simple commands:\n",
    "\n",
    "* `>` &nbsp;&nbsp; increment the data pointer (to point to the next cell to the right).\n",
    "* `<` &nbsp;&nbsp; decrement the data pointer (to point to the next cell to the left).\n",
    "* `+` &nbsp;&nbsp; increment (increase by one) the byte at the data pointer.\n",
    "* `-` &nbsp;&nbsp; decrement (decrease by one) the byte at the data pointer.\n",
    "* `.` &nbsp;&nbsp; output the byte at the data pointer.\n",
    "* `,` &nbsp;&nbsp; accept one byte of input, storing its value in the byte at the data pointer.\n",
    "* `[` &nbsp;&nbsp; if the byte at the data pointer is zero, then instead of moving the instruction pointer forward to the next command, jump it forward to the command after the matching ] command.\n",
    "* `]` &nbsp;&nbsp; if the byte at the data pointer is nonzero, then instead of moving the instruction pointer forward to the next command, jump it back to the command after the matching [ command\n",
    "\n",
    "Brainfuck is a simple language, but that does not mean that programming Brainfuck is easy!"
   ]
  },
  {
   "cell_type": "code",
   "execution_count": null,
   "metadata": {
    "collapsed": true
   },
   "outputs": [],
   "source": [
    "import wasmfun as wf"
   ]
  },
  {
   "cell_type": "code",
   "execution_count": null,
   "metadata": {
    "collapsed": true
   },
   "outputs": [],
   "source": [
    "def _commands2instructions(commands):\n",
    "    \"\"\" Compile brainfuck commands to WASM instructions (as tuples).\n",
    "    \"\"\"    \n",
    "    instructions = []\n",
    "    while commands:\n",
    "        c = commands.pop(0)\n",
    "        if c == '>':\n",
    "            instructions += [('get_local', 0), ('i32.const', 1), ('i32.add'), ('set_local', 0)]\n",
    "        elif c == '<':\n",
    "            instructions += [('get_local', 0), ('i32.const', 1), ('i32.sub'), ('set_local', 0)]\n",
    "        elif c == '+':\n",
    "            instructions += [('get_local', 0), ('get_local', 0),  # once for the read, once for the write\n",
    "                             ('i32.load8_u', 0, 0),\n",
    "                             ('i32.const', 1), ('i32.add'), ('i32.store8', 0, 0)]\n",
    "        elif c == '-':\n",
    "            instructions += [('get_local', 0), ('get_local', 0),  # once for the read, once for the write\n",
    "                             ('i32.load8_u', 0, 0),\n",
    "                             ('i32.const', 1), ('i32.sub'), ('i32.store8', 0, 0)]\n",
    "        elif c == '.':\n",
    "            instructions += [('get_local', 0), ('i32.load8_u', 0, 0), ('call', 0)]\n",
    "        elif c == ',':\n",
    "            # We don't support input, just set to zero\n",
    "            instructions += [('get_local', 0), ('i32.const', 0), ('i32.store8', 0, 0)]\n",
    "        elif c == '[':\n",
    "            instructions += [('block', 'emptyblock'),\n",
    "                                # if current data point == 0 goto end of block\n",
    "                                ('get_local', 0), ('i32.load8_u', 0, 0), ('i32.const', 0), ('i32.eq'), ('br_if', 0),\n",
    "                                ('loop', 'emptyblock'),\n",
    "                                    ] + _commands2instructions(commands ) + [\n",
    "                                    # if current data point > 0 goto start of block\n",
    "                                    ('get_local', 0), ('i32.load8_u', 0, 0), ('i32.const', 0), ('i32.ne'), ('br_if', 0),\n",
    "                                ('end'),\n",
    "                             ('end')]\n",
    "        elif c == ']':\n",
    "            break\n",
    "        else:\n",
    "            raise ValueError('Unknown Brainfuck command: %r' % c)\n",
    "    \n",
    "    return instructions"
   ]
  },
  {
   "cell_type": "markdown",
   "metadata": {},
   "source": [
    "## Hello world example"
   ]
  },
  {
   "cell_type": "code",
   "execution_count": null,
   "metadata": {
    "collapsed": true
   },
   "outputs": [],
   "source": [
    "EXAMPLE1 = \"\"\"\n",
    "[This program prints \"Hello World!\" and a newline to the screen]\n",
    "++++++++[>++++[>++>+++>+++>+<<<<-]>+>+>->>+[<]<-]>>.\n",
    ">---.+++++++..+++.>>.<-.<.+++.------.--------.>>+.>++.\n",
    "\"\"\""
   ]
  },
  {
   "cell_type": "code",
   "execution_count": null,
   "metadata": {
    "collapsed": true
   },
   "outputs": [],
   "source": [
    "instructions = _commands2instructions([c for c in EXAMPLE1 if c in '><+-.,[]'])"
   ]
  },
  {
   "cell_type": "code",
   "execution_count": null,
   "metadata": {
    "collapsed": true
   },
   "outputs": [],
   "source": [
    "m = wf.Module(\n",
    "    wf.ImportedFuncion('print_charcode', ['i32'], [], 'js', 'print_charcode'),\n",
    "    wf.Function('$main', [], [], ['i32'], instructions),\n",
    "    wf.MemorySection((1, 1)),\n",
    "    wf.DataSection(),\n",
    "    )"
   ]
  },
  {
   "cell_type": "code",
   "execution_count": null,
   "metadata": {},
   "outputs": [],
   "source": [
    "len(m.to_bytes())"
   ]
  },
  {
   "cell_type": "code",
   "execution_count": null,
   "metadata": {},
   "outputs": [],
   "source": [
    "wf.run_wasm_in_notebook(m)"
   ]
  },
  {
   "cell_type": "markdown",
   "metadata": {},
   "source": [
    "# Fibonacci example"
   ]
  },
  {
   "cell_type": "code",
   "execution_count": null,
   "metadata": {
    "collapsed": true
   },
   "outputs": [],
   "source": [
    "EXAMPLE2 = \"\"\"\n",
    "[Generate the fibonacci number sequence, (for numbers under 100). Taken from\n",
    "http://esoteric.sange.fi/brainfuck/bf-source/prog/fibonacci.txt\n",
    "]\n",
    "+++++++++++>+>>>>++++++++++++++++++++++++++++++++++++++++++++>\n",
    "++++++++++++++++++++++++++++++++<<<<<<[>[>>>>>>+>+<<<<<<<-]>>>>>>>\n",
    "[<<<<<<<+>>>>>>>-]<[>++++++++++[-<-[>>+>+<<<-]>>>[<<<+>>>-]+<[>[-]\n",
    "<[-]]>[<<[>>>+<<<-]>>[-]]<<]>>>[>>+>+<<<-]>>>[<<<+>>>-]+<[>[-]<[-]]>\n",
    "[<<+>>[-]]<<<<<<<]>>>>>[++++++++++++++++++++++++++++++++++++++++++++++++.\n",
    "[-]]++++++++++<[->-<]>++++++++++++++++++++++++++++++++++++++++++++++++.[-]\n",
    "<<<<<<<<<<<<[>>>+>+<<<<-]>>>>[<<<<+>>>>-]<-[>>.>.<<<[-]]<<[>>+>+<<<-]>>>\n",
    "[<<<+>>>-]<<[<+>-]>[<+>-]<<<-]\n",
    "\"\"\""
   ]
  },
  {
   "cell_type": "code",
   "execution_count": null,
   "metadata": {
    "collapsed": true
   },
   "outputs": [],
   "source": [
    "instructions = _commands2instructions([c for c in EXAMPLE2 if c in '><+-.,[]'])"
   ]
  },
  {
   "cell_type": "code",
   "execution_count": null,
   "metadata": {
    "collapsed": true
   },
   "outputs": [],
   "source": [
    "m = wf.Module(\n",
    "    wf.ImportedFuncion('print_charcode', ['i32'], [], 'js', 'print_charcode'),\n",
    "    wf.Function('$main', [], [], ['i32'], instructions),\n",
    "    wf.MemorySection((1, 1)),\n",
    "    wf.DataSection(),\n",
    "    )"
   ]
  },
  {
   "cell_type": "code",
   "execution_count": null,
   "metadata": {},
   "outputs": [],
   "source": [
    "wf.run_wasm_in_notebook(m)"
   ]
  },
  {
   "cell_type": "code",
   "execution_count": null,
   "metadata": {},
   "outputs": [],
   "source": [
    "wf.run_wasm_in_node(m)"
   ]
  },
  {
   "cell_type": "code",
   "execution_count": null,
   "metadata": {
    "collapsed": true
   },
   "outputs": [],
   "source": []
  }
 ],
 "metadata": {
  "anaconda-cloud": {},
  "kernelspec": {
   "display_name": "Python [default]",
   "language": "python",
   "name": "python3"
  },
  "language_info": {
   "codemirror_mode": {
    "name": "ipython",
    "version": 3
   },
   "file_extension": ".py",
   "mimetype": "text/x-python",
   "name": "python",
   "nbconvert_exporter": "python",
   "pygments_lexer": "ipython3",
   "version": "3.6.1"
  }
 },
 "nbformat": 4,
 "nbformat_minor": 2
}
