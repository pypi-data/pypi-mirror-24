{
 "cells": [
  {
   "cell_type": "markdown",
   "metadata": {},
   "source": [
    "# WASM demo - manual"
   ]
  },
  {
   "cell_type": "code",
   "execution_count": null,
   "metadata": {
    "collapsed": true
   },
   "outputs": [],
   "source": [
    "import wasmfun as wf"
   ]
  },
  {
   "cell_type": "markdown",
   "metadata": {},
   "source": [
    "## Let's start with a simple example"
   ]
  },
  {
   "cell_type": "code",
   "execution_count": null,
   "metadata": {
    "collapsed": true
   },
   "outputs": [],
   "source": [
    "instructions = [('f64.const', 42), ('call', 'print_ln'),\n",
    "                ('call', 'make_background_blue')]"
   ]
  },
  {
   "cell_type": "markdown",
   "metadata": {},
   "source": [
    "Wrap these in a function, and in a module"
   ]
  },
  {
   "cell_type": "code",
   "execution_count": null,
   "metadata": {
    "collapsed": true
   },
   "outputs": [],
   "source": [
    "m = wf.Module(\n",
    "    wf.ImportedFuncion('print_ln', ['f64'], [], 'js', 'print_ln'),\n",
    "    wf.ImportedFuncion('make_background_blue', [], [], 'js', 'make_background_blue'),\n",
    "    wf.Function('$main', params=[], returns=[], locals=[], instructions=instructions),\n",
    "    )"
   ]
  },
  {
   "cell_type": "markdown",
   "metadata": {},
   "source": [
    "A module contains of a series of sections"
   ]
  },
  {
   "cell_type": "code",
   "execution_count": null,
   "metadata": {
    "collapsed": true
   },
   "outputs": [],
   "source": [
    "m.show()"
   ]
  },
  {
   "cell_type": "markdown",
   "metadata": {},
   "source": [
    "WASM is a compact binary format. Note the `\\x00asm` at the start:"
   ]
  },
  {
   "cell_type": "code",
   "execution_count": null,
   "metadata": {
    "collapsed": true
   },
   "outputs": [],
   "source": [
    "print(m.to_bytes())\n",
    "print(len(m.to_bytes()))"
   ]
  },
  {
   "cell_type": "markdown",
   "metadata": {},
   "source": [
    "## Prepare the browser for running our WASM module\n",
    "The host environment (in this case JavaScript can provide functions that WASM can call"
   ]
  },
  {
   "cell_type": "code",
   "execution_count": null,
   "metadata": {
    "collapsed": true
   },
   "outputs": [],
   "source": [
    "JS = \"\"\"\n",
    "function print_ln(x) {\n",
    "    var el = document.getElementById('wasm_output');\n",
    "    el.innerHTML += String(x).replace('\\\\n', '<br>') + '<br>';\n",
    "}\n",
    "\n",
    "function make_background_blue () {\n",
    "    document.body.style = 'background:#5AF;'\n",
    "}\n",
    "\n",
    "var providedfuncs = {\n",
    "    print_ln: print_ln,\n",
    "    make_background_blue: make_background_blue,\n",
    "    alert: window.alert,\n",
    "};\n",
    "\n",
    "function compile_my_wasm(wasm_data) {\n",
    "    var m = new WebAssembly.Module(wasm_data);\n",
    "    var i = new WebAssembly.Instance(m, {js: providedfuncs});\n",
    "}\n",
    "\"\"\""
   ]
  },
  {
   "cell_type": "markdown",
   "metadata": {},
   "source": [
    "Define a Python funtion to transfer the module to JS and run it"
   ]
  },
  {
   "cell_type": "code",
   "execution_count": null,
   "metadata": {
    "collapsed": true
   },
   "outputs": [],
   "source": [
    "from IPython.display import display, HTML, Javascript\n",
    "import uuid\n",
    "\n",
    "def run_wasm(m):\n",
    "    id = uuid.uuid1().hex\n",
    "    js = JS.replace('wasm_output', 'wasm_output_' + id)\n",
    "    js += \"compile_my_wasm(new Uint8Array(%s));\" % str(list(m.to_bytes()))\n",
    "    \n",
    "    display(HTML(\"<div style='border: 2px solid blue;' id='wasm_output_%s'>WASM output goes here<br></div>\" % id))\n",
    "    display(Javascript(js))"
   ]
  },
  {
   "cell_type": "markdown",
   "metadata": {},
   "source": [
    "## Now we can run our module"
   ]
  },
  {
   "cell_type": "code",
   "execution_count": null,
   "metadata": {
    "collapsed": true
   },
   "outputs": [],
   "source": [
    "run_wasm(m)"
   ]
  },
  {
   "cell_type": "markdown",
   "metadata": {},
   "source": [
    "## Next, let's write a loop"
   ]
  },
  {
   "cell_type": "code",
   "execution_count": null,
   "metadata": {
    "collapsed": true
   },
   "outputs": [],
   "source": [
    "instructions = [\n",
    "    ('loop', 'emptyblock'),\n",
    "        # write iter\n",
    "        ('get_local', 0), ('call', 'print_ln'),\n",
    "        # Increase iter\n",
    "        ('f64.const', 1), ('get_local', 0), ('f64.add'),\n",
    "        ('tee_local', 0), ('f64.const', 10),\n",
    "        ('f64.lt'), ('br_if', 0),\n",
    "    ('end'),\n",
    "    ]"
   ]
  },
  {
   "cell_type": "code",
   "execution_count": null,
   "metadata": {
    "collapsed": true
   },
   "outputs": [],
   "source": [
    "m = wf.Module(\n",
    "    wf.ImportedFuncion('print_ln', ['f64'], [], 'js', 'print_ln'),\n",
    "    wf.Function('$main', params=[], returns=[], locals=['f64'], instructions=instructions),\n",
    "    )"
   ]
  },
  {
   "cell_type": "code",
   "execution_count": null,
   "metadata": {
    "collapsed": true
   },
   "outputs": [],
   "source": [
    "m.to_bytes()"
   ]
  },
  {
   "cell_type": "code",
   "execution_count": null,
   "metadata": {
    "collapsed": true
   },
   "outputs": [],
   "source": [
    "run_wasm(m)"
   ]
  },
  {
   "cell_type": "markdown",
   "metadata": {},
   "source": [
    "## We can also execute our module on the desktop (via Node)"
   ]
  },
  {
   "cell_type": "code",
   "execution_count": null,
   "metadata": {
    "collapsed": true
   },
   "outputs": [],
   "source": [
    "wf.run_wasm_in_node(m)"
   ]
  },
  {
   "cell_type": "code",
   "execution_count": null,
   "metadata": {
    "collapsed": true
   },
   "outputs": [],
   "source": []
  }
 ],
 "metadata": {
  "anaconda-cloud": {},
  "kernelspec": {
   "display_name": "Python [default]",
   "language": "python",
   "name": "python3"
  },
  "language_info": {
   "codemirror_mode": {
    "name": "ipython",
    "version": 3
   },
   "file_extension": ".py",
   "mimetype": "text/x-python",
   "name": "python",
   "nbconvert_exporter": "python",
   "pygments_lexer": "ipython3",
   "version": "3.6.1"
  }
 },
 "nbformat": 4,
 "nbformat_minor": 2
}
