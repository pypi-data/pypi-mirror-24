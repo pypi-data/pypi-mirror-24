{
 "cells": [
  {
   "cell_type": "markdown",
   "metadata": {},
   "source": [
    "** This notebook assumes ... **\n",
    "\n",
    "1) Basic familiarity with gwsurrogate as covered in basics.ipynb \n",
    "\n",
    "2) You've downloaded a numerical relativity surrogate. To see all available surrogates, check the surrogate repository with the command \"gws.surrogate_repo.list()\""
   ]
  },
  {
   "cell_type": "code",
   "execution_count": null,
   "metadata": {},
   "outputs": [],
   "source": [
    "### setup paths used throughout this notebook ###\n",
    "import sys\n",
    "path_to_gws = '/home/balzani57/Repo/GitRepos/Codes/gwsurrogate/'\n",
    "sys.path.append(path_to_gws)\n",
    "\n",
    "%matplotlib inline\n",
    "import numpy as np, matplotlib.pyplot as plt\n",
    "import gwsurrogate as gws\n",
    "import gwsurrogate.gwtools as gwtools"
   ]
  },
  {
   "cell_type": "code",
   "execution_count": null,
   "metadata": {
    "scrolled": true
   },
   "outputs": [],
   "source": [
    "### load the surrogate data ###\n",
    "path_to_surrogate = path_to_gws+'surrogate_downloads/SpEC_q1_10_NoSpin_nu5thDegPoly_exclude_2_0.h5'\n",
    "spec = gws.EvaluateSurrogate(path_to_surrogate, ell_m=[(2,2), (3,3)]) # load two modes only"
   ]
  },
  {
   "cell_type": "markdown",
   "metadata": {},
   "source": [
    "# Lesson 1: Simple evaluations"
   ]
  },
  {
   "cell_type": "code",
   "execution_count": null,
   "metadata": {},
   "outputs": [],
   "source": [
    "# Evaluate and plot the 2,2 mode. \n",
    "# By default, the modes are evaluated on the sphere, and negative modes are generated from \n",
    "# known relationships. So we need to set both options to false to get only the (2,2) mode.\n",
    "modes, times, hp, hc = spec(q=1.7, ell=[2], m=[2], mode_sum=False, fake_neg_modes=False)\n",
    "print('You have evaluated the (%i,%i) mode'%(modes[0][0],modes[0][1]))\n",
    "\n",
    "gwtools.plot_pretty(times, [hp, hc],fignum=1)\n",
    "plt.plot(times,gwtools.amp(hp+1j*hc),'r')\n",
    "plt.title('The (%i,%i) mode'%(modes[0][0],modes[0][1]))\n",
    "plt.xlabel('t/M ')\n",
    "plt.show()"
   ]
  },
  {
   "cell_type": "code",
   "execution_count": null,
   "metadata": {},
   "outputs": [],
   "source": [
    "# generating both the (3,3) and (3,-3) modes is easy!\n",
    "modes, times, hp, hc = spec(q=1.7, ell=[3], m=[3], mode_sum=False)\n",
    "print(\"Evaluated modes =\", modes)\n",
    "\n",
    "gwtools.plot_pretty(times, [hp[:,0], hc[:,0]],fignum=2)\n",
    "plt.plot(times,gwtools.amp(hp[:,0]+1j*hc[:,0]),'r')\n",
    "plt.xlabel('t/M ')\n",
    "plt.title('The (%i,%i) mode'%(modes[0][0],modes[0][1]))\n",
    "\n",
    "gwtools.plot_pretty(times, [hp[:,1], hc[:,1]],fignum=3)\n",
    "plt.plot(times,gwtools.amp(hp[:,1]+1j*hc[:,1]),'r')\n",
    "plt.title('The (%i,%i) mode'%(modes[1][0],modes[1][1]))\n",
    "plt.xlabel('t/M ')\n",
    "plt.show()"
   ]
  },
  {
   "cell_type": "code",
   "execution_count": null,
   "metadata": {},
   "outputs": [],
   "source": [
    "# Trying to evaluate a mode which doesn't exist throws a warning\n",
    "spec(q=1.7, ell=[3], m=[2], mode_sum=False, fake_neg_modes=False)"
   ]
  },
  {
   "cell_type": "markdown",
   "metadata": {},
   "source": [
    "# Lesson 2: Physical waveforms"
   ]
  },
  {
   "cell_type": "code",
   "execution_count": null,
   "metadata": {},
   "outputs": [],
   "source": [
    "# load all the modes except the 2,0 mode, which is excluded by default (See http://arxiv.org/abs/1502.07758 for why)\n",
    "spec = gws.EvaluateSurrogate(path_to_surrogate)"
   ]
  },
  {
   "cell_type": "code",
   "execution_count": null,
   "metadata": {},
   "outputs": [],
   "source": [
    "# Evaluate the (2,2) mode for physical input values\n",
    "M     = 115.0 # units of solar masses \n",
    "q     = 1.0\n",
    "theta = np.pi/3.0\n",
    "phi   = np.pi/3.0\n",
    "dist  = 1.0 # units of megaparsecs\n",
    "fmin  = 10.0 # units of hz\n",
    "\n",
    "# The surrogate evaluation is NOT long enough to achieve a starting frequency of 10hz\n",
    "modes,times,hp,hc = spec(M=M,q=q,dist=dist,theta=theta,phi=phi,ell=[2],m=[2],mode_sum=False,fake_neg_modes=False,f_low=fmin)"
   ]
  },
  {
   "cell_type": "code",
   "execution_count": null,
   "metadata": {},
   "outputs": [],
   "source": [
    "# We'll be safer with 15 hz \n",
    "fmin = 15\n",
    "modes,times,hp,hc = spec(M=M,q=q,dist=dist,theta=theta,phi=phi,ell=[2],m=[2],mode_sum=False,fake_neg_modes=False,f_low=fmin)\n",
    "\n",
    "gwtools.plot_pretty(times, [hp, hc])\n",
    "plt.plot(times,gwtools.amp(hp+1j*hc),'r')\n",
    "plt.xlabel('t (seconds)')\n",
    "plt.title('The (%i,%i) mode'%(modes[0][0],modes[0][1]))\n",
    "plt.show()"
   ]
  },
  {
   "cell_type": "code",
   "execution_count": null,
   "metadata": {},
   "outputs": [],
   "source": [
    "# Lets evaluate the (2,2) and (2,-2) at phi = theta = pi/3 on the sphere\n",
    "times,hp,hc = spec(M=M,q=q,dist=dist,theta=theta,phi=phi,ell=[2],m=[2],f_low=fmin)\n",
    "\n",
    "gwtools.plot_pretty(times, [hp, hc])\n",
    "plt.plot(times,gwtools.amp(hp+1j*hc),'r')\n",
    "plt.xlabel('t (seconds)')\n",
    "plt.show()"
   ]
  },
  {
   "cell_type": "code",
   "execution_count": null,
   "metadata": {
    "collapsed": true
   },
   "outputs": [],
   "source": []
  }
 ],
 "metadata": {
  "kernelspec": {
   "display_name": "Python 3",
   "language": "python",
   "name": "python3"
  },
  "language_info": {
   "codemirror_mode": {
    "name": "ipython",
    "version": 3
   },
   "file_extension": ".py",
   "mimetype": "text/x-python",
   "name": "python",
   "nbconvert_exporter": "python",
   "pygments_lexer": "ipython3",
   "version": "3.6.1"
  }
 },
 "nbformat": 4,
 "nbformat_minor": 1
}
