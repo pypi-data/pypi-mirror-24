{
  "cells": [
    {
      "cell_type": "code",
      "execution_count": null,
      "metadata": {
        "collapsed": false
      },
      "outputs": [],
      "source": [
        "%matplotlib inline"
      ]
    },
    {
      "cell_type": "markdown",
      "metadata": {},
      "source": [
        "\n==================\nzt-plots.\n==================\n\nThis example shows how to create a zt-plot of a given DU and event ID.\n\n"
      ]
    },
    {
      "cell_type": "code",
      "execution_count": null,
      "metadata": {
        "collapsed": false
      },
      "outputs": [],
      "source": [
        "# Author: Tamas Gal <tgal@km3net.de>\n# License: BSD-3\n\nimport pandas as pd\nimport matplotlib.pyplot as plt\nimport km3pipe as kp\nimport km3pipe.style\nkm3pipe.style.use('default')\n\n\nDU = 26\nEVENT_ID = 23\nfilename = \"data/km3net_jul13_90m_muatm50T655.km3_v5r1.JTE_r2356.root.0-499.h5\"\ngeometry = kp.Geometry(filename=\"data/km3net_jul13_90m_r1494_corrected.detx\")\n\nall_hits = pd.read_hdf(filename, 'hits')\nhits = all_hits[all_hits.event_id == EVENT_ID].copy()\ngeometry.apply(hits)\n\nfig, ax = plt.subplots()\n\nhits[hits['du'] == DU].plot('time', 'pos_z', style='.', ax=ax, label='hits')\ntriggered_hits = hits[(hits['du'] == DU) & (hits['triggered'] == True)]\ntriggered_hits.plot('time', 'pos_z', style='.', ax=ax, label='triggered hits')\n\nax.set_title(\"zt-plot of event {0} on DU{1}\".format(EVENT_ID, DU))\nax.set_xlabel(\"time [ns]\")\nax.set_ylabel(\"z [m]\")"
      ]
    }
  ],
  "metadata": {
    "kernelspec": {
      "display_name": "Python 3",
      "language": "python",
      "name": "python3"
    },
    "language_info": {
      "codemirror_mode": {
        "name": "ipython",
        "version": 3
      },
      "file_extension": ".py",
      "mimetype": "text/x-python",
      "name": "python",
      "nbconvert_exporter": "python",
      "pygments_lexer": "ipython3",
      "version": "3.6.0"
    }
  },
  "nbformat": 4,
  "nbformat_minor": 0
}