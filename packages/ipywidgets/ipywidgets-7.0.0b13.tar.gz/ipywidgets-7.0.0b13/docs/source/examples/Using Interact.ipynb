{
 "cells": [
  {
   "cell_type": "markdown",
   "metadata": {},
   "source": [
    "# Using Interact"
   ]
  },
  {
   "cell_type": "markdown",
   "metadata": {},
   "source": [
    "The `interact` function (`ipywidgets.interact`) automatically creates user interface (UI) controls for exploring code and data interactively. It is the easiest way to get started using IPython's widgets."
   ]
  },
  {
   "cell_type": "code",
   "execution_count": 1,
   "metadata": {
    "collapsed": true
   },
   "outputs": [],
   "source": [
    "from __future__ import print_function\n",
    "from ipywidgets import interact, interactive, fixed, interact_manual\n",
    "import ipywidgets as widgets"
   ]
  },
  {
   "cell_type": "markdown",
   "metadata": {},
   "source": [
    "## Basic `interact`"
   ]
  },
  {
   "cell_type": "markdown",
   "metadata": {},
   "source": [
    "At the most basic level, `interact` autogenerates UI controls for function arguments, and then calls the function with those arguments when you manipulate the controls interactively. To use `interact`, you need to define a function that you want to explore. Here is a function that prints its only argument `x`."
   ]
  },
  {
   "cell_type": "code",
   "execution_count": 2,
   "metadata": {
    "collapsed": true
   },
   "outputs": [],
   "source": [
    "def f(x):\n",
    "    return x"
   ]
  },
  {
   "cell_type": "markdown",
   "metadata": {},
   "source": [
    "When you pass this function as the first argument to `interact` along with an integer keyword argument (`x=10`), a slider is generated and bound to the function parameter."
   ]
  },
  {
   "cell_type": "code",
   "execution_count": 3,
   "metadata": {},
   "outputs": [
    {
     "data": {
      "application/vnd.jupyter.widget-view+json": {
       "model_id": "d936abcfc28042d19555c3659c99cc65",
       "version_major": 2,
       "version_minor": 0
      },
      "text/plain": [
       "A Jupyter Widget"
      ]
     },
     "metadata": {},
     "output_type": "display_data"
    }
   ],
   "source": [
    "interact(f, x=10);"
   ]
  },
  {
   "cell_type": "markdown",
   "metadata": {},
   "source": [
    "When you move the slider, the function is called, which prints the current value of `x`.\n",
    "\n",
    "If you pass `True` or `False`, `interact` will generate a checkbox:"
   ]
  },
  {
   "cell_type": "code",
   "execution_count": 4,
   "metadata": {},
   "outputs": [
    {
     "data": {
      "application/vnd.jupyter.widget-view+json": {
       "model_id": "e201985d0d454b2f90486a8385ab117e",
       "version_major": 2,
       "version_minor": 0
      },
      "text/plain": [
       "A Jupyter Widget"
      ]
     },
     "metadata": {},
     "output_type": "display_data"
    }
   ],
   "source": [
    "interact(f, x=True);"
   ]
  },
  {
   "cell_type": "markdown",
   "metadata": {},
   "source": [
    "If you pass a string, `interact` will generate a text area."
   ]
  },
  {
   "cell_type": "code",
   "execution_count": 5,
   "metadata": {},
   "outputs": [
    {
     "data": {
      "application/vnd.jupyter.widget-view+json": {
       "model_id": "9c8e7b76469f4c9886a82f682a41d571",
       "version_major": 2,
       "version_minor": 0
      },
      "text/plain": [
       "A Jupyter Widget"
      ]
     },
     "metadata": {},
     "output_type": "display_data"
    }
   ],
   "source": [
    "interact(f, x='Hi there!');"
   ]
  },
  {
   "cell_type": "markdown",
   "metadata": {},
   "source": [
    "`interact` can also be used as a decorator. This allows you to define a function and interact with it in a single shot. As this example shows, `interact` also works with functions that have multiple arguments."
   ]
  },
  {
   "cell_type": "code",
   "execution_count": 6,
   "metadata": {},
   "outputs": [
    {
     "data": {
      "application/vnd.jupyter.widget-view+json": {
       "model_id": "494d6b6fbe7a4c198e068e4847b27ee9",
       "version_major": 2,
       "version_minor": 0
      },
      "text/plain": [
       "A Jupyter Widget"
      ]
     },
     "metadata": {},
     "output_type": "display_data"
    }
   ],
   "source": [
    "@interact(x=True, y=1.0)\n",
    "def g(x, y):\n",
    "    return (x, y)"
   ]
  },
  {
   "cell_type": "markdown",
   "metadata": {},
   "source": [
    "## Fixing arguments using `fixed`"
   ]
  },
  {
   "cell_type": "markdown",
   "metadata": {},
   "source": [
    "There are times when you may want to explore a function using `interact`, but fix one or more of its arguments to specific values. This can be accomplished by wrapping values with the `fixed` function."
   ]
  },
  {
   "cell_type": "code",
   "execution_count": 7,
   "metadata": {
    "collapsed": true
   },
   "outputs": [],
   "source": [
    "def h(p, q):\n",
    "    return (p, q)"
   ]
  },
  {
   "cell_type": "markdown",
   "metadata": {},
   "source": [
    "When we call `interact`, we pass `fixed(20)` for q to hold it fixed at a value of `20`."
   ]
  },
  {
   "cell_type": "code",
   "execution_count": 8,
   "metadata": {},
   "outputs": [
    {
     "data": {
      "application/vnd.jupyter.widget-view+json": {
       "model_id": "df5d12b0e48d439ba0a4a8633a52dc52",
       "version_major": 2,
       "version_minor": 0
      },
      "text/plain": [
       "A Jupyter Widget"
      ]
     },
     "metadata": {},
     "output_type": "display_data"
    }
   ],
   "source": [
    "interact(h, p=5, q=fixed(20));"
   ]
  },
  {
   "cell_type": "markdown",
   "metadata": {},
   "source": [
    "Notice that a slider is only produced for `p` as the value of `q` is fixed."
   ]
  },
  {
   "cell_type": "markdown",
   "metadata": {},
   "source": [
    "## Widget abbreviations"
   ]
  },
  {
   "cell_type": "markdown",
   "metadata": {},
   "source": [
    "When you pass an integer-valued keyword argument of `10` (`x=10`) to `interact`, it generates an integer-valued slider control with a range of `[-10,+3*10]`. In this case, `10` is an *abbreviation* for an actual slider widget:\n",
    "\n",
    "```python\n",
    "IntSlider(min=-10,max=30,step=1,value=10)\n",
    "```\n",
    "\n",
    "In fact, we can get the same result if we pass this `IntSlider` as the keyword argument for `x`:"
   ]
  },
  {
   "cell_type": "code",
   "execution_count": 9,
   "metadata": {},
   "outputs": [
    {
     "data": {
      "application/vnd.jupyter.widget-view+json": {
       "model_id": "4feef8408648411c95a040b57048aac2",
       "version_major": 2,
       "version_minor": 0
      },
      "text/plain": [
       "A Jupyter Widget"
      ]
     },
     "metadata": {},
     "output_type": "display_data"
    }
   ],
   "source": [
    "interact(f, x=widgets.IntSlider(min=-10,max=30,step=1,value=10));"
   ]
  },
  {
   "cell_type": "markdown",
   "metadata": {},
   "source": [
    "This examples clarifies how `interact` proceses its keyword arguments:\n",
    "\n",
    "1. If the keyword argument is a `Widget` instance with a `value` attribute, that widget is used. Any widget with a `value` attribute can be used, even custom ones.\n",
    "2. Otherwise, the value is treated as a *widget abbreviation* that is converted to a widget before it is used.\n",
    "\n",
    "The following table gives an overview of different widget abbreviations:\n",
    "\n",
    "<table class=\"table table-condensed table-bordered\">\n",
    "  <tr><td><strong>Keyword argument</strong></td><td><strong>Widget</strong></td></tr>  \n",
    "  <tr><td>`True` or `False`</td><td>Checkbox</td></tr>  \n",
    "  <tr><td>`'Hi there'`</td><td>Text</td></tr>\n",
    "  <tr><td>`value` or `(min,max)` or `(min,max,step)` if integers are passed</td><td>IntSlider</td></tr>\n",
    "  <tr><td>`value` or `(min,max)` or `(min,max,step)` if floats are passed</td><td>FloatSlider</td></tr>\n",
    "  <tr><td>`['orange','apple']` or `{'one':1,'two':2}`</td><td>Dropdown</td></tr>\n",
    "</table>\n",
    "Note that a dropdown is used if a list or a dict is given (signifying discrete choices), and a slider is used if a tuple is given (signifying a range)."
   ]
  },
  {
   "cell_type": "markdown",
   "metadata": {},
   "source": [
    "You have seen how the checkbox and textarea widgets work above. Here, more details about the different abbreviations for sliders and dropdowns are given.\n",
    "\n",
    "If a 2-tuple of integers is passed `(min,max)`, an integer-valued slider is produced with those minimum and maximum values (inclusively). In this case, the default step size of `1` is used."
   ]
  },
  {
   "cell_type": "code",
   "execution_count": 10,
   "metadata": {},
   "outputs": [
    {
     "data": {
      "application/vnd.jupyter.widget-view+json": {
       "model_id": "6420d107e1044e9cb965edc2c62e5bcb",
       "version_major": 2,
       "version_minor": 0
      },
      "text/plain": [
       "A Jupyter Widget"
      ]
     },
     "metadata": {},
     "output_type": "display_data"
    }
   ],
   "source": [
    "interact(f, x=(0,4));"
   ]
  },
  {
   "cell_type": "markdown",
   "metadata": {},
   "source": [
    "If a 3-tuple of integers is passed `(min,max,step)`, the step size can also be set."
   ]
  },
  {
   "cell_type": "code",
   "execution_count": 11,
   "metadata": {},
   "outputs": [
    {
     "data": {
      "application/vnd.jupyter.widget-view+json": {
       "model_id": "c3ea8fd3b8cb427ca8037bd089eaf083",
       "version_major": 2,
       "version_minor": 0
      },
      "text/plain": [
       "A Jupyter Widget"
      ]
     },
     "metadata": {},
     "output_type": "display_data"
    }
   ],
   "source": [
    "interact(f, x=(0,8,2));"
   ]
  },
  {
   "cell_type": "markdown",
   "metadata": {},
   "source": [
    "A float-valued slider is produced if the elements of the tuples are floats. Here the minimum is `0.0`, the maximum is `10.0` and step size is `0.1` (the default)."
   ]
  },
  {
   "cell_type": "code",
   "execution_count": 12,
   "metadata": {},
   "outputs": [
    {
     "data": {
      "application/vnd.jupyter.widget-view+json": {
       "model_id": "855fdd0ea6aa4485a79c5de422843032",
       "version_major": 2,
       "version_minor": 0
      },
      "text/plain": [
       "A Jupyter Widget"
      ]
     },
     "metadata": {},
     "output_type": "display_data"
    }
   ],
   "source": [
    "interact(f, x=(0.0,10.0));"
   ]
  },
  {
   "cell_type": "markdown",
   "metadata": {},
   "source": [
    "The step size can be changed by passing a third element in the tuple."
   ]
  },
  {
   "cell_type": "code",
   "execution_count": 13,
   "metadata": {},
   "outputs": [
    {
     "data": {
      "application/vnd.jupyter.widget-view+json": {
       "model_id": "d7c8d53f8a614e949c12fc992bb6c5ec",
       "version_major": 2,
       "version_minor": 0
      },
      "text/plain": [
       "A Jupyter Widget"
      ]
     },
     "metadata": {},
     "output_type": "display_data"
    }
   ],
   "source": [
    "interact(f, x=(0.0,10.0,0.01));"
   ]
  },
  {
   "cell_type": "markdown",
   "metadata": {},
   "source": [
    "For both integer and float-valued sliders, you can pick the initial value of the widget by passing a default keyword argument to the underlying Python function. Here we set the initial value of a float slider to `5.5`."
   ]
  },
  {
   "cell_type": "code",
   "execution_count": 14,
   "metadata": {},
   "outputs": [
    {
     "data": {
      "application/vnd.jupyter.widget-view+json": {
       "model_id": "b1644bfa51f84ce5b80690fa15e6e390",
       "version_major": 2,
       "version_minor": 0
      },
      "text/plain": [
       "A Jupyter Widget"
      ]
     },
     "metadata": {},
     "output_type": "display_data"
    }
   ],
   "source": [
    "@interact(x=(0.0,20.0,0.5))\n",
    "def h(x=5.5):\n",
    "    return x"
   ]
  },
  {
   "cell_type": "markdown",
   "metadata": {},
   "source": [
    "Dropdown menus are constructed by passing a list of strings. In this case, the strings are both used as the names in the dropdown menu UI and passed to the underlying Python function."
   ]
  },
  {
   "cell_type": "code",
   "execution_count": 15,
   "metadata": {},
   "outputs": [
    {
     "data": {
      "application/vnd.jupyter.widget-view+json": {
       "model_id": "39318eb0e13b44c5891cc1814b521c22",
       "version_major": 2,
       "version_minor": 0
      },
      "text/plain": [
       "A Jupyter Widget"
      ]
     },
     "metadata": {},
     "output_type": "display_data"
    }
   ],
   "source": [
    "interact(f, x=['apples','oranges']);"
   ]
  },
  {
   "cell_type": "markdown",
   "metadata": {},
   "source": [
    "If you want a dropdown menu that passes non-string values to the Python function, you can pass a dictionary. The keys in the dictionary are used for the names in the dropdown menu UI and the values are the arguments that are passed to the underlying Python function."
   ]
  },
  {
   "cell_type": "code",
   "execution_count": 16,
   "metadata": {},
   "outputs": [
    {
     "data": {
      "application/vnd.jupyter.widget-view+json": {
       "model_id": "fbaa1b1b7aec45e6b5efccb88c32bb1b",
       "version_major": 2,
       "version_minor": 0
      },
      "text/plain": [
       "A Jupyter Widget"
      ]
     },
     "metadata": {},
     "output_type": "display_data"
    }
   ],
   "source": [
    "interact(f, x={'one': 10, 'two': 20});"
   ]
  },
  {
   "cell_type": "markdown",
   "metadata": {},
   "source": [
    "## `interactive`"
   ]
  },
  {
   "cell_type": "markdown",
   "metadata": {},
   "source": [
    "In addition to `interact`, IPython provides another function, `interactive`, that is useful when you want to reuse the widgets that are produced or access the data that is bound to the UI controls.\n",
    "\n",
    "Note that unlike `interact`, the return value of the function will not be displayed automatically, but you can display a value inside the function with `IPython.display.display`."
   ]
  },
  {
   "cell_type": "markdown",
   "metadata": {},
   "source": [
    "Here is a function that returns the sum of its two arguments and displays them. The display line may be omitted if you don't want to show the result of the function."
   ]
  },
  {
   "cell_type": "code",
   "execution_count": 17,
   "metadata": {
    "collapsed": true
   },
   "outputs": [],
   "source": [
    "from IPython.display import display\n",
    "def f(a, b):\n",
    "    display(a + b)\n",
    "    return a+b"
   ]
  },
  {
   "cell_type": "markdown",
   "metadata": {},
   "source": [
    "Unlike `interact`, `interactive` returns a `Widget` instance rather than immediately displaying the widget."
   ]
  },
  {
   "cell_type": "code",
   "execution_count": 18,
   "metadata": {
    "collapsed": true
   },
   "outputs": [],
   "source": [
    "w = interactive(f, a=10, b=20)"
   ]
  },
  {
   "cell_type": "markdown",
   "metadata": {},
   "source": [
    "The widget is an `interactive`, a subclass of `VBox`, which is a container for other widgets."
   ]
  },
  {
   "cell_type": "code",
   "execution_count": 19,
   "metadata": {},
   "outputs": [
    {
     "data": {
      "text/plain": [
       "ipywidgets.widgets.interaction.interactive"
      ]
     },
     "execution_count": 19,
     "metadata": {},
     "output_type": "execute_result"
    }
   ],
   "source": [
    "type(w)"
   ]
  },
  {
   "cell_type": "markdown",
   "metadata": {},
   "source": [
    "The children of the `interactive` are two integer-valued sliders and an output widget, produced by the widget abbreviations above."
   ]
  },
  {
   "cell_type": "code",
   "execution_count": 20,
   "metadata": {},
   "outputs": [
    {
     "data": {
      "text/plain": [
       "(IntSlider(value=10, description='a', max=30, min=-10),\n",
       " IntSlider(value=20, description='b', max=60, min=-20),\n",
       " Output())"
      ]
     },
     "execution_count": 20,
     "metadata": {},
     "output_type": "execute_result"
    }
   ],
   "source": [
    "w.children"
   ]
  },
  {
   "cell_type": "markdown",
   "metadata": {},
   "source": [
    "To actually display the widgets, you can use IPython's `display` function."
   ]
  },
  {
   "cell_type": "code",
   "execution_count": 21,
   "metadata": {},
   "outputs": [
    {
     "data": {
      "application/vnd.jupyter.widget-view+json": {
       "model_id": "9be08f78478840c293d94fc8be8854a7",
       "version_major": 2,
       "version_minor": 0
      },
      "text/plain": [
       "A Jupyter Widget"
      ]
     },
     "metadata": {},
     "output_type": "display_data"
    }
   ],
   "source": [
    "display(w)"
   ]
  },
  {
   "cell_type": "markdown",
   "metadata": {},
   "source": [
    "At this point, the UI controls work just like they would if `interact` had been used. You can manipulate them interactively and the function will be called. However, the widget instance returned by `interactive` also gives you access to the current keyword arguments and return value of the underlying Python function. \n",
    "\n",
    "Here are the current keyword arguments. If you rerun this cell after manipulating the sliders, the values will have changed."
   ]
  },
  {
   "cell_type": "code",
   "execution_count": 22,
   "metadata": {},
   "outputs": [
    {
     "data": {
      "text/plain": [
       "{'a': 10, 'b': 20}"
      ]
     },
     "execution_count": 22,
     "metadata": {},
     "output_type": "execute_result"
    }
   ],
   "source": [
    "w.kwargs"
   ]
  },
  {
   "cell_type": "markdown",
   "metadata": {},
   "source": [
    "Here is the current return value of the function."
   ]
  },
  {
   "cell_type": "code",
   "execution_count": 23,
   "metadata": {},
   "outputs": [
    {
     "data": {
      "text/plain": [
       "30"
      ]
     },
     "execution_count": 23,
     "metadata": {},
     "output_type": "execute_result"
    }
   ],
   "source": [
    "w.result"
   ]
  },
  {
   "cell_type": "markdown",
   "metadata": {},
   "source": [
    "## Disabling continuous updates"
   ]
  },
  {
   "cell_type": "markdown",
   "metadata": {},
   "source": [
    "When interacting with long running functions, realtime feedback is a burden instead of being helpful.  See the following example:"
   ]
  },
  {
   "cell_type": "code",
   "execution_count": 24,
   "metadata": {
    "collapsed": true
   },
   "outputs": [],
   "source": [
    "def slow_function(i):\n",
    "    print(int(i),list(x for x in range(int(i)) if \n",
    "                str(x)==str(x)[::-1] and \n",
    "                str(x**2)==str(x**2)[::-1]))\n",
    "    return"
   ]
  },
  {
   "cell_type": "code",
   "execution_count": 25,
   "metadata": {},
   "outputs": [
    {
     "name": "stdout",
     "output_type": "stream",
     "text": [
      "1000000 [0, 1, 2, 3, 11, 22, 101, 111, 121, 202, 212, 1001, 1111, 2002, 10001, 10101, 10201, 11011, 11111, 11211, 20002, 20102, 100001, 101101, 110011, 111111, 200002]\n",
      "CPU times: user 568 ms, sys: 2.13 ms, total: 570 ms\n",
      "Wall time: 569 ms\n"
     ]
    }
   ],
   "source": [
    "%%time\n",
    "slow_function(1e6)"
   ]
  },
  {
   "cell_type": "markdown",
   "metadata": {},
   "source": [
    "Notice that the output is updated even while dragging the mouse on the slider. This is not useful for long running functions due to lagging:"
   ]
  },
  {
   "cell_type": "code",
   "execution_count": 26,
   "metadata": {},
   "outputs": [
    {
     "data": {
      "application/vnd.jupyter.widget-view+json": {
       "model_id": "353b01ec83674207be83aa554783ecc1",
       "version_major": 2,
       "version_minor": 0
      },
      "text/plain": [
       "A Jupyter Widget"
      ]
     },
     "metadata": {},
     "output_type": "display_data"
    }
   ],
   "source": [
    "from ipywidgets import FloatSlider\n",
    "interact(slow_function,i=FloatSlider(min=1e5, max=1e7, step=1e5));"
   ]
  },
  {
   "cell_type": "markdown",
   "metadata": {},
   "source": [
    "There are two ways to mitigate this.  You can either only execute on demand, or restrict execution to mouse release events."
   ]
  },
  {
   "cell_type": "markdown",
   "metadata": {},
   "source": [
    "### `interact_manual`"
   ]
  },
  {
   "cell_type": "markdown",
   "metadata": {},
   "source": [
    "The `interact_manual` function provides a variant of interaction that allows you to restrict execution so it is only done on demand.  A button is added to the interact controls that allows you to trigger an execute event."
   ]
  },
  {
   "cell_type": "code",
   "execution_count": 27,
   "metadata": {},
   "outputs": [
    {
     "data": {
      "application/vnd.jupyter.widget-view+json": {
       "model_id": "a86fa43034684c489a0559b7372961e3",
       "version_major": 2,
       "version_minor": 0
      },
      "text/plain": [
       "A Jupyter Widget"
      ]
     },
     "metadata": {},
     "output_type": "display_data"
    }
   ],
   "source": [
    "interact_manual(slow_function,i=FloatSlider(min=1e5, max=1e7, step=1e5));"
   ]
  },
  {
   "cell_type": "markdown",
   "metadata": {},
   "source": [
    "### `continuous_update`"
   ]
  },
  {
   "cell_type": "markdown",
   "metadata": {},
   "source": [
    "If you are using slider widgets, you can set the `continuous_update` kwarg to `False`.  `continuous_update` is a kwarg of slider widgets that restricts executions to mouse release events."
   ]
  },
  {
   "cell_type": "code",
   "execution_count": 28,
   "metadata": {},
   "outputs": [
    {
     "data": {
      "application/vnd.jupyter.widget-view+json": {
       "model_id": "fd8fde7f1de24f0e9d880bc36c997528",
       "version_major": 2,
       "version_minor": 0
      },
      "text/plain": [
       "A Jupyter Widget"
      ]
     },
     "metadata": {},
     "output_type": "display_data"
    }
   ],
   "source": [
    "interact(slow_function,i=FloatSlider(min=1e5, max=1e7, step=1e5, continuous_update=False));"
   ]
  },
  {
   "cell_type": "markdown",
   "metadata": {},
   "source": [
    "## Arguments that are dependent on each other"
   ]
  },
  {
   "cell_type": "markdown",
   "metadata": {},
   "source": [
    "Arguments that are dependent on each other can be expressed manually using `observe`.  See the following example, where one variable is used to describe the bounds of another.  For more information, please see the [widget events example notebook](./Widget Events.ipynb)."
   ]
  },
  {
   "cell_type": "code",
   "execution_count": 29,
   "metadata": {},
   "outputs": [
    {
     "data": {
      "application/vnd.jupyter.widget-view+json": {
       "model_id": "0490edd10e6043bba67a3ba39cc6b5fe",
       "version_major": 2,
       "version_minor": 0
      },
      "text/plain": [
       "A Jupyter Widget"
      ]
     },
     "metadata": {},
     "output_type": "display_data"
    }
   ],
   "source": [
    "x_widget = FloatSlider(min=0.0, max=10.0, step=0.05)\n",
    "y_widget = FloatSlider(min=0.5, max=10.0, step=0.05, value=5.0)\n",
    "\n",
    "def update_x_range(*args):\n",
    "    x_widget.max = 2.0 * y_widget.value\n",
    "y_widget.observe(update_x_range, 'value')\n",
    "\n",
    "def printer(x, y):\n",
    "    print(x, y)\n",
    "interact(printer,x=x_widget, y=y_widget);"
   ]
  },
  {
   "cell_type": "markdown",
   "metadata": {},
   "source": [
    "## Flickering and jumping output\n",
    "\n",
    "On occasion, you may notice interact output flickering and jumping, causing the notebook scroll position to change as the output is updated. The interactive control has a layout, so we can set its height to an appropriate value (currently chosen manually) so that it will not change size as it is updated.\n"
   ]
  },
  {
   "cell_type": "code",
   "execution_count": 30,
   "metadata": {},
   "outputs": [
    {
     "data": {
      "application/vnd.jupyter.widget-view+json": {
       "model_id": "2c127937f6e24cf5bc1814a1ad961756",
       "version_major": 2,
       "version_minor": 0
      },
      "text/plain": [
       "A Jupyter Widget"
      ]
     },
     "metadata": {},
     "output_type": "display_data"
    }
   ],
   "source": [
    "%matplotlib inline\n",
    "from ipywidgets import interactive\n",
    "import matplotlib.pyplot as plt\n",
    "import numpy as np\n",
    "\n",
    "def f(m, b):\n",
    "    plt.figure(2)\n",
    "    x = np.linspace(-10, 10, num=1000)\n",
    "    plt.plot(x, m * x + b)\n",
    "    plt.ylim(-5, 5)\n",
    "    plt.show()\n",
    "\n",
    "interactive_plot = interactive(f, m=(-2.0, 2.0), b=(-3, 3, 0.5))\n",
    "interactive_plot.layout.height = '350px'\n",
    "interactive_plot"
   ]
  },
  {
   "cell_type": "code",
   "execution_count": null,
   "metadata": {
    "collapsed": true
   },
   "outputs": [],
   "source": []
  }
 ],
 "metadata": {
  "kernelspec": {
   "display_name": "Python 3",
   "language": "python",
   "name": "python3"
  },
  "language_info": {
   "codemirror_mode": {
    "name": "ipython",
    "version": 3
   },
   "file_extension": ".py",
   "mimetype": "text/x-python",
   "name": "python",
   "nbconvert_exporter": "python",
   "pygments_lexer": "ipython3",
   "version": "3.6.2"
  },
  "widgets": {
   "application/vnd.jupyter.widget-state+json": {
    "state": {
     "0051bb958dfd431d9c5697a53f9a03a8": {
      "model_module": "@jupyter-widgets/base",
      "model_module_version": "1.0.0",
      "model_name": "LayoutModel",
      "state": {}
     },
     "01c1dc7938dd426d843ebdf8c162366e": {
      "model_module": "@jupyter-widgets/base",
      "model_module_version": "1.0.0",
      "model_name": "LayoutModel",
      "state": {}
     },
     "0490edd10e6043bba67a3ba39cc6b5fe": {
      "model_module": "@jupyter-widgets/controls",
      "model_module_version": "1.0.0",
      "model_name": "VBoxModel",
      "state": {
       "_dom_classes": [
        "widget-interact"
       ],
       "children": [
        "IPY_MODEL_4dedadcbe2bf4ebaa53e20becccd07a2",
        "IPY_MODEL_7124489e7351482b86540a65d9fb311b",
        "IPY_MODEL_9f85b385485f43f29fb7727664f9d9fa"
       ],
       "layout": "IPY_MODEL_14079fc9f24340b2a2a14c66d65a7a57"
      }
     },
     "0d833272f0c3465fad0447585770a62a": {
      "model_module": "@jupyter-widgets/controls",
      "model_module_version": "1.0.0",
      "model_name": "FloatSliderModel",
      "state": {
       "description": "b",
       "layout": "IPY_MODEL_83723b4ffdb249e4979b2a5e39e285da",
       "max": 3,
       "min": -3,
       "step": 0.5,
       "style": "IPY_MODEL_56f9dd7a2e224f9e9f85c79d81a55cda"
      }
     },
     "0e4864a754f345c7ba8220e00dca9b84": {
      "model_module": "@jupyter-widgets/controls",
      "model_module_version": "1.0.0",
      "model_name": "TextModel",
      "state": {
       "description": "x",
       "layout": "IPY_MODEL_62b3686e51394708a9155957ca21acb0",
       "style": "IPY_MODEL_2ad0c34640a94f63947620897220800e",
       "value": "Hi there!"
      }
     },
     "0f175b292d6246e78dd2dd6286263487": {
      "model_module": "@jupyter-widgets/output",
      "model_module_version": "1.0.0",
      "model_name": "OutputModel",
      "state": {
       "layout": "IPY_MODEL_34bb6e9d094a4ed7bc6b93988fe2999e",
       "outputs": [
        {
         "data": {
          "text/plain": "30"
         },
         "metadata": {},
         "output_type": "display_data"
        }
       ]
      }
     },
     "104b6c11647e4ccbbecfe82f0e1683e5": {
      "model_module": "@jupyter-widgets/output",
      "model_module_version": "1.0.0",
      "model_name": "OutputModel",
      "state": {
       "layout": "IPY_MODEL_4edb5f2577524f2cad316178b7046e79",
       "outputs": [
        {
         "data": {
          "text/plain": "5.0"
         },
         "metadata": {},
         "output_type": "display_data"
        }
       ]
      }
     },
     "11bc7122d69040089b0796bf2e283ee0": {
      "model_module": "@jupyter-widgets/base",
      "model_module_version": "1.0.0",
      "model_name": "LayoutModel",
      "state": {}
     },
     "14079fc9f24340b2a2a14c66d65a7a57": {
      "model_module": "@jupyter-widgets/base",
      "model_module_version": "1.0.0",
      "model_name": "LayoutModel",
      "state": {}
     },
     "183cd415e72e47e8becc6990ec79fa1b": {
      "model_module": "@jupyter-widgets/controls",
      "model_module_version": "1.0.0",
      "model_name": "FloatSliderModel",
      "state": {
       "description": "y",
       "layout": "IPY_MODEL_cc9e8deb32c34492af0c1fab4c6a9150",
       "max": 3,
       "min": -1,
       "step": 0.1,
       "style": "IPY_MODEL_a4ebc9b12a7c479b8db7252bc59ebade",
       "value": 1
      }
     },
     "1a9305ccb8d54f0b97e2af52eb21f7d0": {
      "model_module": "@jupyter-widgets/base",
      "model_module_version": "1.0.0",
      "model_name": "LayoutModel",
      "state": {}
     },
     "1ee99535c8de418989ba98af3a8149b1": {
      "model_module": "@jupyter-widgets/controls",
      "model_module_version": "1.0.0",
      "model_name": "SliderStyleModel",
      "state": {
       "description_width": ""
      }
     },
     "1f28d6f6e6054855a3e1b0ccc7c7e7e6": {
      "model_module": "@jupyter-widgets/controls",
      "model_module_version": "1.0.0",
      "model_name": "SliderStyleModel",
      "state": {
       "description_width": ""
      }
     },
     "23f246a052634bb8a6b7e1be039a276e": {
      "model_module": "@jupyter-widgets/controls",
      "model_module_version": "1.0.0",
      "model_name": "SliderStyleModel",
      "state": {
       "description_width": ""
      }
     },
     "23f36b493c2f4d388b5aabd0888ecc5c": {
      "model_module": "@jupyter-widgets/base",
      "model_module_version": "1.0.0",
      "model_name": "LayoutModel",
      "state": {}
     },
     "281e69cd88b545139c6e21aeb5ac8cf4": {
      "model_module": "@jupyter-widgets/base",
      "model_module_version": "1.0.0",
      "model_name": "LayoutModel",
      "state": {}
     },
     "2a910b1ee48448d0bcb56e8f956d7eda": {
      "model_module": "@jupyter-widgets/base",
      "model_module_version": "1.0.0",
      "model_name": "LayoutModel",
      "state": {}
     },
     "2ad0c34640a94f63947620897220800e": {
      "model_module": "@jupyter-widgets/controls",
      "model_module_version": "1.0.0",
      "model_name": "DescriptionStyleModel",
      "state": {
       "description_width": ""
      }
     },
     "2b469ec3d83d4016a0760bf286f9072b": {
      "model_module": "@jupyter-widgets/base",
      "model_module_version": "1.0.0",
      "model_name": "LayoutModel",
      "state": {}
     },
     "2bdb06da87314e92a9ffbd412c7bf1a6": {
      "model_module": "@jupyter-widgets/controls",
      "model_module_version": "1.0.0",
      "model_name": "SliderStyleModel",
      "state": {
       "description_width": ""
      }
     },
     "2c127937f6e24cf5bc1814a1ad961756": {
      "model_module": "@jupyter-widgets/controls",
      "model_module_version": "1.0.0",
      "model_name": "VBoxModel",
      "state": {
       "_dom_classes": [
        "widget-interact"
       ],
       "children": [
        "IPY_MODEL_46c0b5bbfe4e4e7cb89f8efb90d298a9",
        "IPY_MODEL_0d833272f0c3465fad0447585770a62a",
        "IPY_MODEL_31a3c8aee3cf44b7a1a50f9196fa1c65"
       ],
       "layout": "IPY_MODEL_315708804ea24d7b9474d4accfa0e6cc"
      }
     },
     "2dcb34043284440eb411a470cb23699c": {
      "model_module": "@jupyter-widgets/controls",
      "model_module_version": "1.0.0",
      "model_name": "SliderStyleModel",
      "state": {
       "description_width": ""
      }
     },
     "3153c84a51a34f02923c55a616452f6f": {
      "model_module": "@jupyter-widgets/controls",
      "model_module_version": "1.0.0",
      "model_name": "FloatSliderModel",
      "state": {
       "description": "i",
       "layout": "IPY_MODEL_4861ae9cd1d14413aae54568b7009f77",
       "max": 10000000,
       "min": 100000,
       "step": 100000,
       "style": "IPY_MODEL_6ce55a8421d14e98bcc5fdfb2c9a266c",
       "value": 100000
      }
     },
     "315708804ea24d7b9474d4accfa0e6cc": {
      "model_module": "@jupyter-widgets/base",
      "model_module_version": "1.0.0",
      "model_name": "LayoutModel",
      "state": {
       "height": "350px"
      }
     },
     "31a3c8aee3cf44b7a1a50f9196fa1c65": {
      "model_module": "@jupyter-widgets/output",
      "model_module_version": "1.0.0",
      "model_name": "OutputModel",
      "state": {
       "layout": "IPY_MODEL_7ff18d29472840e8bbfad404f3bf1825",
       "outputs": [
        {
         "data": {
          "image/png": "iVBORw0KGgoAAAANSUhEUgAAAXYAAAD8CAYAAABjAo9vAAAABHNCSVQICAgIfAhkiAAAAAlwSFlz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\n",
          "text/plain": "<matplotlib.figure.Figure at 0x1148519b0>"
         },
         "metadata": {},
         "output_type": "display_data"
        }
       ]
      }
     },
     "329174f6ca894e40aad5aa6f3daf3ec3": {
      "model_module": "@jupyter-widgets/base",
      "model_module_version": "1.0.0",
      "model_name": "LayoutModel",
      "state": {}
     },
     "32e69950d3b04b099aa6362d2319e76c": {
      "model_module": "@jupyter-widgets/output",
      "model_module_version": "1.0.0",
      "model_name": "OutputModel",
      "state": {
       "layout": "IPY_MODEL_552541715c3b409daa801a77cb3367ee",
       "outputs": [
        {
         "name": "stdout",
         "output_type": "stream",
         "text": "100000 [0, 1, 2, 3, 11, 22, 101, 111, 121, 202, 212, 1001, 1111, 2002, 10001, 10101, 10201, 11011, 11111, 11211, 20002, 20102]\n"
        }
       ]
      }
     },
     "330d1265f85f4d2b93aa7c4985ffab1e": {
      "model_module": "@jupyter-widgets/base",
      "model_module_version": "1.0.0",
      "model_name": "LayoutModel",
      "state": {}
     },
     "337370099abc43d99948327eb93960cc": {
      "model_module": "@jupyter-widgets/controls",
      "model_module_version": "1.0.0",
      "model_name": "SliderStyleModel",
      "state": {
       "description_width": ""
      }
     },
     "34bb6e9d094a4ed7bc6b93988fe2999e": {
      "model_module": "@jupyter-widgets/base",
      "model_module_version": "1.0.0",
      "model_name": "LayoutModel",
      "state": {}
     },
     "353b01ec83674207be83aa554783ecc1": {
      "model_module": "@jupyter-widgets/controls",
      "model_module_version": "1.0.0",
      "model_name": "VBoxModel",
      "state": {
       "_dom_classes": [
        "widget-interact"
       ],
       "children": [
        "IPY_MODEL_91766e8777d3428eb0fd43e54f01a63a",
        "IPY_MODEL_32e69950d3b04b099aa6362d2319e76c"
       ],
       "layout": "IPY_MODEL_b1433c7a1596498d8ef3a6657c68f433"
      }
     },
     "35cee0842227422d966ea189f4477a16": {
      "model_module": "@jupyter-widgets/base",
      "model_module_version": "1.0.0",
      "model_name": "LayoutModel",
      "state": {}
     },
     "36ea3d1521904a7fbb1acc9e02dec9c3": {
      "model_module": "@jupyter-widgets/base",
      "model_module_version": "1.0.0",
      "model_name": "LayoutModel",
      "state": {}
     },
     "38e88a399e9e4945b7d9d664065549af": {
      "model_module": "@jupyter-widgets/base",
      "model_module_version": "1.0.0",
      "model_name": "LayoutModel",
      "state": {}
     },
     "39318eb0e13b44c5891cc1814b521c22": {
      "model_module": "@jupyter-widgets/controls",
      "model_module_version": "1.0.0",
      "model_name": "VBoxModel",
      "state": {
       "_dom_classes": [
        "widget-interact"
       ],
       "children": [
        "IPY_MODEL_4ed7ac5019c14829b266df77f71da232",
        "IPY_MODEL_d1e8777e793b422c967d579d16136d33"
       ],
       "layout": "IPY_MODEL_58065914817e459d85ba7cbb49e95b03"
      }
     },
     "3acd95a562884e86822f65eac739cab4": {
      "model_module": "@jupyter-widgets/base",
      "model_module_version": "1.0.0",
      "model_name": "LayoutModel",
      "state": {}
     },
     "3cd2cc96273940879c79a9d2e9b76c5c": {
      "model_module": "@jupyter-widgets/controls",
      "model_module_version": "1.0.0",
      "model_name": "IntSliderModel",
      "state": {
       "description": "x",
       "layout": "IPY_MODEL_1a9305ccb8d54f0b97e2af52eb21f7d0",
       "max": 30,
       "min": -10,
       "style": "IPY_MODEL_2bdb06da87314e92a9ffbd412c7bf1a6",
       "value": 10
      }
     },
     "3ce2cf35d7e54a2888aa1783d8c8ae11": {
      "model_module": "@jupyter-widgets/output",
      "model_module_version": "1.0.0",
      "model_name": "OutputModel",
      "state": {
       "layout": "IPY_MODEL_45c3521adbaf47d19411e50628883129",
       "outputs": [
        {
         "data": {
          "text/plain": "10"
         },
         "metadata": {},
         "output_type": "display_data"
        }
       ]
      }
     },
     "3de09c29c4774d27b5c61da2299ca347": {
      "model_module": "@jupyter-widgets/base",
      "model_module_version": "1.0.0",
      "model_name": "LayoutModel",
      "state": {}
     },
     "3e1e21c679cd41b2a65188af8d4c3616": {
      "model_module": "@jupyter-widgets/controls",
      "model_module_version": "1.0.0",
      "model_name": "IntSliderModel",
      "state": {
       "description": "x",
       "layout": "IPY_MODEL_23f36b493c2f4d388b5aabd0888ecc5c",
       "max": 8,
       "step": 2,
       "style": "IPY_MODEL_5455641c4ffa40fab417ec1fe1552590",
       "value": 4
      }
     },
     "409eb95ec2364abfbacdf693c3b8ea54": {
      "model_module": "@jupyter-widgets/base",
      "model_module_version": "1.0.0",
      "model_name": "LayoutModel",
      "state": {}
     },
     "41be6d8ae09c402c8002391f97f9148d": {
      "model_module": "@jupyter-widgets/base",
      "model_module_version": "1.0.0",
      "model_name": "LayoutModel",
      "state": {}
     },
     "42cc4c27bc4f4bf5bced1f6410852017": {
      "model_module": "@jupyter-widgets/base",
      "model_module_version": "1.0.0",
      "model_name": "LayoutModel",
      "state": {}
     },
     "44b696328c4241f58091af323afae6da": {
      "model_module": "@jupyter-widgets/base",
      "model_module_version": "1.0.0",
      "model_name": "LayoutModel",
      "state": {}
     },
     "45c3521adbaf47d19411e50628883129": {
      "model_module": "@jupyter-widgets/base",
      "model_module_version": "1.0.0",
      "model_name": "LayoutModel",
      "state": {}
     },
     "4687aa1e176849a4b42ded53d26749e2": {
      "model_module": "@jupyter-widgets/output",
      "model_module_version": "1.0.0",
      "model_name": "OutputModel",
      "state": {
       "layout": "IPY_MODEL_ba34fe68f5ab4a75a046de7c23b3e730",
       "outputs": [
        {
         "data": {
          "text/plain": "(5, 20)"
         },
         "metadata": {},
         "output_type": "display_data"
        }
       ]
      }
     },
     "46c0b5bbfe4e4e7cb89f8efb90d298a9": {
      "model_module": "@jupyter-widgets/controls",
      "model_module_version": "1.0.0",
      "model_name": "FloatSliderModel",
      "state": {
       "description": "m",
       "layout": "IPY_MODEL_ff59a573f27f4c32b0e2ab62a56ffa4e",
       "max": 2,
       "min": -2,
       "step": 0.1,
       "style": "IPY_MODEL_652ece5423f64b4081813dd133ad3f2f"
      }
     },
     "479ce18a0a294506adec8ff4ec709c27": {
      "model_module": "@jupyter-widgets/controls",
      "model_module_version": "1.0.0",
      "model_name": "SliderStyleModel",
      "state": {
       "description_width": ""
      }
     },
     "47a90989c2d64ff1972074ce1c7d9859": {
      "model_module": "@jupyter-widgets/base",
      "model_module_version": "1.0.0",
      "model_name": "LayoutModel",
      "state": {}
     },
     "4861ae9cd1d14413aae54568b7009f77": {
      "model_module": "@jupyter-widgets/base",
      "model_module_version": "1.0.0",
      "model_name": "LayoutModel",
      "state": {}
     },
     "494d6b6fbe7a4c198e068e4847b27ee9": {
      "model_module": "@jupyter-widgets/controls",
      "model_module_version": "1.0.0",
      "model_name": "VBoxModel",
      "state": {
       "_dom_classes": [
        "widget-interact"
       ],
       "children": [
        "IPY_MODEL_c927df54f3734b1385600012934e839e",
        "IPY_MODEL_183cd415e72e47e8becc6990ec79fa1b",
        "IPY_MODEL_fff12afafa244f20a2112ccf0ff9f0d2"
       ],
       "layout": "IPY_MODEL_d905a4b1358842ccb07ac24abdb48347"
      }
     },
     "4dedadcbe2bf4ebaa53e20becccd07a2": {
      "model_module": "@jupyter-widgets/controls",
      "model_module_version": "1.0.0",
      "model_name": "FloatSliderModel",
      "state": {
       "description": "x",
       "layout": "IPY_MODEL_726e81fb838b478080884764b306600e",
       "max": 10,
       "step": 0.05,
       "style": "IPY_MODEL_1ee99535c8de418989ba98af3a8149b1"
      }
     },
     "4e90da710d7e4e65bd8bd445d749f9fe": {
      "model_module": "@jupyter-widgets/controls",
      "model_module_version": "1.0.0",
      "model_name": "SliderStyleModel",
      "state": {
       "description_width": ""
      }
     },
     "4ed7ac5019c14829b266df77f71da232": {
      "model_module": "@jupyter-widgets/controls",
      "model_module_version": "1.0.0",
      "model_name": "DropdownModel",
      "state": {
       "_options_labels": [
        "apples",
        "oranges"
       ],
       "description": "x",
       "index": 0,
       "layout": "IPY_MODEL_47a90989c2d64ff1972074ce1c7d9859",
       "style": "IPY_MODEL_ebcd0a1dee7148529251c568be712c0d"
      }
     },
     "4edb5f2577524f2cad316178b7046e79": {
      "model_module": "@jupyter-widgets/base",
      "model_module_version": "1.0.0",
      "model_name": "LayoutModel",
      "state": {}
     },
     "4f5d02d2bd3c41cd995ad08e17ab41e1": {
      "model_module": "@jupyter-widgets/base",
      "model_module_version": "1.0.0",
      "model_name": "LayoutModel",
      "state": {}
     },
     "4feef8408648411c95a040b57048aac2": {
      "model_module": "@jupyter-widgets/controls",
      "model_module_version": "1.0.0",
      "model_name": "VBoxModel",
      "state": {
       "_dom_classes": [
        "widget-interact"
       ],
       "children": [
        "IPY_MODEL_3cd2cc96273940879c79a9d2e9b76c5c",
        "IPY_MODEL_bca98182069d492e95cfcc440c16dc1d"
       ],
       "layout": "IPY_MODEL_ea3e0e107c774feea94a3e081ad8d4f1"
      }
     },
     "500331dc5003425694a1e24368dfc6b9": {
      "model_module": "@jupyter-widgets/controls",
      "model_module_version": "1.0.0",
      "model_name": "ButtonModel",
      "state": {
       "description": "Run Interact",
       "layout": "IPY_MODEL_2a910b1ee48448d0bcb56e8f956d7eda",
       "style": "IPY_MODEL_62212676b6794dc2a6b95ffc858d844f"
      }
     },
     "5455641c4ffa40fab417ec1fe1552590": {
      "model_module": "@jupyter-widgets/controls",
      "model_module_version": "1.0.0",
      "model_name": "SliderStyleModel",
      "state": {
       "description_width": ""
      }
     },
     "552541715c3b409daa801a77cb3367ee": {
      "model_module": "@jupyter-widgets/base",
      "model_module_version": "1.0.0",
      "model_name": "LayoutModel",
      "state": {}
     },
     "56f9dd7a2e224f9e9f85c79d81a55cda": {
      "model_module": "@jupyter-widgets/controls",
      "model_module_version": "1.0.0",
      "model_name": "SliderStyleModel",
      "state": {
       "description_width": ""
      }
     },
     "572a557e7d8b4cd59f34efc0b38faca7": {
      "model_module": "@jupyter-widgets/controls",
      "model_module_version": "1.0.0",
      "model_name": "SliderStyleModel",
      "state": {
       "description_width": ""
      }
     },
     "58065914817e459d85ba7cbb49e95b03": {
      "model_module": "@jupyter-widgets/base",
      "model_module_version": "1.0.0",
      "model_name": "LayoutModel",
      "state": {}
     },
     "58118d24eaba46ec997f3488e0ba705c": {
      "model_module": "@jupyter-widgets/base",
      "model_module_version": "1.0.0",
      "model_name": "LayoutModel",
      "state": {}
     },
     "5b0c4b73beeb4d4bafb0b20822f90346": {
      "model_module": "@jupyter-widgets/controls",
      "model_module_version": "1.0.0",
      "model_name": "DescriptionStyleModel",
      "state": {
       "description_width": ""
      }
     },
     "61a510af728f434dbfdd42753effc8cf": {
      "model_module": "@jupyter-widgets/controls",
      "model_module_version": "1.0.0",
      "model_name": "FloatSliderModel",
      "state": {
       "description": "x",
       "layout": "IPY_MODEL_fc159fe394384283a81ceae1e7715a99",
       "max": 10,
       "step": 0.1,
       "style": "IPY_MODEL_2dcb34043284440eb411a470cb23699c",
       "value": 5
      }
     },
     "62212676b6794dc2a6b95ffc858d844f": {
      "model_module": "@jupyter-widgets/controls",
      "model_module_version": "1.0.0",
      "model_name": "ButtonStyleModel",
      "state": {}
     },
     "62b3686e51394708a9155957ca21acb0": {
      "model_module": "@jupyter-widgets/base",
      "model_module_version": "1.0.0",
      "model_name": "LayoutModel",
      "state": {}
     },
     "633dfc47afa747f4b25aae7718cfcbe7": {
      "model_module": "@jupyter-widgets/controls",
      "model_module_version": "1.0.0",
      "model_name": "DescriptionStyleModel",
      "state": {
       "description_width": ""
      }
     },
     "6420d107e1044e9cb965edc2c62e5bcb": {
      "model_module": "@jupyter-widgets/controls",
      "model_module_version": "1.0.0",
      "model_name": "VBoxModel",
      "state": {
       "_dom_classes": [
        "widget-interact"
       ],
       "children": [
        "IPY_MODEL_eb07ec88a6c841628f5c49eb9f3fd287",
        "IPY_MODEL_aa1b016d18094f4e897bd22dc1e71cdd"
       ],
       "layout": "IPY_MODEL_58118d24eaba46ec997f3488e0ba705c"
      }
     },
     "64e3debf50404066afb4cf0a8c0a123c": {
      "model_module": "@jupyter-widgets/base",
      "model_module_version": "1.0.0",
      "model_name": "LayoutModel",
      "state": {}
     },
     "652ece5423f64b4081813dd133ad3f2f": {
      "model_module": "@jupyter-widgets/controls",
      "model_module_version": "1.0.0",
      "model_name": "SliderStyleModel",
      "state": {
       "description_width": ""
      }
     },
     "6554926e31ff450abc101dd1ba768db3": {
      "model_module": "@jupyter-widgets/controls",
      "model_module_version": "1.0.0",
      "model_name": "SliderStyleModel",
      "state": {
       "description_width": ""
      }
     },
     "692f3e971cfe4c01a5d079aeb933c3d5": {
      "model_module": "@jupyter-widgets/base",
      "model_module_version": "1.0.0",
      "model_name": "LayoutModel",
      "state": {}
     },
     "6ce55a8421d14e98bcc5fdfb2c9a266c": {
      "model_module": "@jupyter-widgets/controls",
      "model_module_version": "1.0.0",
      "model_name": "SliderStyleModel",
      "state": {
       "description_width": ""
      }
     },
     "70931f0378ac4638864559b33bb22c2e": {
      "model_module": "@jupyter-widgets/base",
      "model_module_version": "1.0.0",
      "model_name": "LayoutModel",
      "state": {}
     },
     "7124489e7351482b86540a65d9fb311b": {
      "model_module": "@jupyter-widgets/controls",
      "model_module_version": "1.0.0",
      "model_name": "FloatSliderModel",
      "state": {
       "description": "y",
       "layout": "IPY_MODEL_0051bb958dfd431d9c5697a53f9a03a8",
       "max": 10,
       "min": 0.5,
       "step": 0.05,
       "style": "IPY_MODEL_87b9f2de998541f4bf46cd3e18b13047",
       "value": 5
      }
     },
     "726e81fb838b478080884764b306600e": {
      "model_module": "@jupyter-widgets/base",
      "model_module_version": "1.0.0",
      "model_name": "LayoutModel",
      "state": {}
     },
     "72719ff1d98b4067b222c34787bc00b0": {
      "model_module": "@jupyter-widgets/controls",
      "model_module_version": "1.0.0",
      "model_name": "IntSliderModel",
      "state": {
       "description": "a",
       "layout": "IPY_MODEL_7b3451fb05d643d6aff9349a2a0649f3",
       "max": 30,
       "min": -10,
       "style": "IPY_MODEL_4e90da710d7e4e65bd8bd445d749f9fe",
       "value": 10
      }
     },
     "7944711953d24c79ac137b2f99f795fa": {
      "model_module": "@jupyter-widgets/base",
      "model_module_version": "1.0.0",
      "model_name": "LayoutModel",
      "state": {}
     },
     "795fa035945b4fb585557895c53ec26a": {
      "model_module": "@jupyter-widgets/controls",
      "model_module_version": "1.0.0",
      "model_name": "FloatSliderModel",
      "state": {
       "description": "x",
       "layout": "IPY_MODEL_cd19fc6307324e0785d7a49554cf21c1",
       "max": 10,
       "step": 0.01,
       "style": "IPY_MODEL_1f28d6f6e6054855a3e1b0ccc7c7e7e6",
       "value": 5
      }
     },
     "7b3451fb05d643d6aff9349a2a0649f3": {
      "model_module": "@jupyter-widgets/base",
      "model_module_version": "1.0.0",
      "model_name": "LayoutModel",
      "state": {}
     },
     "7c9051fd09bb468086701f695299cfd7": {
      "model_module": "@jupyter-widgets/base",
      "model_module_version": "1.0.0",
      "model_name": "LayoutModel",
      "state": {}
     },
     "7ff18d29472840e8bbfad404f3bf1825": {
      "model_module": "@jupyter-widgets/base",
      "model_module_version": "1.0.0",
      "model_name": "LayoutModel",
      "state": {}
     },
     "83723b4ffdb249e4979b2a5e39e285da": {
      "model_module": "@jupyter-widgets/base",
      "model_module_version": "1.0.0",
      "model_name": "LayoutModel",
      "state": {}
     },
     "855fdd0ea6aa4485a79c5de422843032": {
      "model_module": "@jupyter-widgets/controls",
      "model_module_version": "1.0.0",
      "model_name": "VBoxModel",
      "state": {
       "_dom_classes": [
        "widget-interact"
       ],
       "children": [
        "IPY_MODEL_61a510af728f434dbfdd42753effc8cf",
        "IPY_MODEL_104b6c11647e4ccbbecfe82f0e1683e5"
       ],
       "layout": "IPY_MODEL_35cee0842227422d966ea189f4477a16"
      }
     },
     "865b54861470489ca75b4dba973493a6": {
      "model_module": "@jupyter-widgets/base",
      "model_module_version": "1.0.0",
      "model_name": "LayoutModel",
      "state": {}
     },
     "87b9f2de998541f4bf46cd3e18b13047": {
      "model_module": "@jupyter-widgets/controls",
      "model_module_version": "1.0.0",
      "model_name": "SliderStyleModel",
      "state": {
       "description_width": ""
      }
     },
     "893a7ed4fea14cf2b0eba6d6291c211a": {
      "model_module": "@jupyter-widgets/base",
      "model_module_version": "1.0.0",
      "model_name": "LayoutModel",
      "state": {}
     },
     "8c3623da1a424464b8e94c058365387d": {
      "model_module": "@jupyter-widgets/controls",
      "model_module_version": "1.0.0",
      "model_name": "SliderStyleModel",
      "state": {
       "description_width": ""
      }
     },
     "90e618e2d24e432fb662644004e9a2a3": {
      "model_module": "@jupyter-widgets/base",
      "model_module_version": "1.0.0",
      "model_name": "LayoutModel",
      "state": {}
     },
     "91766e8777d3428eb0fd43e54f01a63a": {
      "model_module": "@jupyter-widgets/controls",
      "model_module_version": "1.0.0",
      "model_name": "FloatSliderModel",
      "state": {
       "description": "i",
       "layout": "IPY_MODEL_2b469ec3d83d4016a0760bf286f9072b",
       "max": 10000000,
       "min": 100000,
       "step": 100000,
       "style": "IPY_MODEL_572a557e7d8b4cd59f34efc0b38faca7",
       "value": 100000
      }
     },
     "91d98cf3131240eea0d18f89a197b17d": {
      "model_module": "@jupyter-widgets/output",
      "model_module_version": "1.0.0",
      "model_name": "OutputModel",
      "state": {
       "layout": "IPY_MODEL_d423229472f94822a8ba76bf0f35d5f1",
       "outputs": [
        {
         "data": {
          "text/plain": "10"
         },
         "metadata": {},
         "output_type": "display_data"
        }
       ]
      }
     },
     "9490c7a698c642bcad5ff1571f5d8f09": {
      "model_module": "@jupyter-widgets/output",
      "model_module_version": "1.0.0",
      "model_name": "OutputModel",
      "state": {
       "layout": "IPY_MODEL_b511ad4c8a33461c9c8484ea03d13f96",
       "outputs": [
        {
         "data": {
          "text/plain": "'Hi there!'"
         },
         "metadata": {},
         "output_type": "display_data"
        }
       ]
      }
     },
     "94cbccdfb232431f917c7c5bea236b00": {
      "model_module": "@jupyter-widgets/output",
      "model_module_version": "1.0.0",
      "model_name": "OutputModel",
      "state": {
       "layout": "IPY_MODEL_36ea3d1521904a7fbb1acc9e02dec9c3",
       "outputs": [
        {
         "data": {
          "text/plain": "4"
         },
         "metadata": {},
         "output_type": "display_data"
        }
       ]
      }
     },
     "9be08f78478840c293d94fc8be8854a7": {
      "model_module": "@jupyter-widgets/controls",
      "model_module_version": "1.0.0",
      "model_name": "VBoxModel",
      "state": {
       "_dom_classes": [
        "widget-interact"
       ],
       "children": [
        "IPY_MODEL_72719ff1d98b4067b222c34787bc00b0",
        "IPY_MODEL_f1ba6a4bf7484c15aa96e4adcbabdd60",
        "IPY_MODEL_0f175b292d6246e78dd2dd6286263487"
       ],
       "layout": "IPY_MODEL_b047d4caee7a4ddeb8bb0907fd81696c"
      }
     },
     "9c8e7b76469f4c9886a82f682a41d571": {
      "model_module": "@jupyter-widgets/controls",
      "model_module_version": "1.0.0",
      "model_name": "VBoxModel",
      "state": {
       "_dom_classes": [
        "widget-interact"
       ],
       "children": [
        "IPY_MODEL_0e4864a754f345c7ba8220e00dca9b84",
        "IPY_MODEL_9490c7a698c642bcad5ff1571f5d8f09"
       ],
       "layout": "IPY_MODEL_41be6d8ae09c402c8002391f97f9148d"
      }
     },
     "9dd4d39ec36b460a87d70540959676da": {
      "model_module": "@jupyter-widgets/base",
      "model_module_version": "1.0.0",
      "model_name": "LayoutModel",
      "state": {}
     },
     "9e95e31390e74716a074ebe5829851d0": {
      "model_module": "@jupyter-widgets/controls",
      "model_module_version": "1.0.0",
      "model_name": "IntSliderModel",
      "state": {
       "description": "x",
       "layout": "IPY_MODEL_a2c79350ba3546c78477a1b01bc6932c",
       "max": 30,
       "min": -10,
       "style": "IPY_MODEL_479ce18a0a294506adec8ff4ec709c27",
       "value": 10
      }
     },
     "9f85b385485f43f29fb7727664f9d9fa": {
      "model_module": "@jupyter-widgets/output",
      "model_module_version": "1.0.0",
      "model_name": "OutputModel",
      "state": {
       "layout": "IPY_MODEL_90e618e2d24e432fb662644004e9a2a3",
       "outputs": [
        {
         "name": "stdout",
         "output_type": "stream",
         "text": "0.0 5.0\n"
        }
       ]
      }
     },
     "a13e8952179349569015d9fd0623aad8": {
      "model_module": "@jupyter-widgets/controls",
      "model_module_version": "1.0.0",
      "model_name": "FloatSliderModel",
      "state": {
       "continuous_update": false,
       "description": "i",
       "layout": "IPY_MODEL_38e88a399e9e4945b7d9d664065549af",
       "max": 10000000,
       "min": 100000,
       "step": 100000,
       "style": "IPY_MODEL_8c3623da1a424464b8e94c058365387d",
       "value": 100000
      }
     },
     "a2c79350ba3546c78477a1b01bc6932c": {
      "model_module": "@jupyter-widgets/base",
      "model_module_version": "1.0.0",
      "model_name": "LayoutModel",
      "state": {}
     },
     "a4ebc9b12a7c479b8db7252bc59ebade": {
      "model_module": "@jupyter-widgets/controls",
      "model_module_version": "1.0.0",
      "model_name": "SliderStyleModel",
      "state": {
       "description_width": ""
      }
     },
     "a81cdecf3f5046fb86c03cb7bc556ebc": {
      "model_module": "@jupyter-widgets/controls",
      "model_module_version": "1.0.0",
      "model_name": "CheckboxModel",
      "state": {
       "description": "x",
       "disabled": false,
       "layout": "IPY_MODEL_4f5d02d2bd3c41cd995ad08e17ab41e1",
       "style": "IPY_MODEL_bc3512a8176e463cbc00f01c39b6f28a",
       "value": true
      }
     },
     "a83996f95bad4242a533a83757c04ad4": {
      "model_module": "@jupyter-widgets/base",
      "model_module_version": "1.0.0",
      "model_name": "LayoutModel",
      "state": {}
     },
     "a86fa43034684c489a0559b7372961e3": {
      "model_module": "@jupyter-widgets/controls",
      "model_module_version": "1.0.0",
      "model_name": "VBoxModel",
      "state": {
       "_dom_classes": [
        "widget-interact"
       ],
       "children": [
        "IPY_MODEL_3153c84a51a34f02923c55a616452f6f",
        "IPY_MODEL_500331dc5003425694a1e24368dfc6b9",
        "IPY_MODEL_b3aa3b8ebc1946c7a77bcacf8b363428"
       ],
       "layout": "IPY_MODEL_329174f6ca894e40aad5aa6f3daf3ec3"
      }
     },
     "aa1b016d18094f4e897bd22dc1e71cdd": {
      "model_module": "@jupyter-widgets/output",
      "model_module_version": "1.0.0",
      "model_name": "OutputModel",
      "state": {
       "layout": "IPY_MODEL_3de09c29c4774d27b5c61da2299ca347",
       "outputs": [
        {
         "data": {
          "text/plain": "2"
         },
         "metadata": {},
         "output_type": "display_data"
        }
       ]
      }
     },
     "b047d4caee7a4ddeb8bb0907fd81696c": {
      "model_module": "@jupyter-widgets/base",
      "model_module_version": "1.0.0",
      "model_name": "LayoutModel",
      "state": {}
     },
     "b1433c7a1596498d8ef3a6657c68f433": {
      "model_module": "@jupyter-widgets/base",
      "model_module_version": "1.0.0",
      "model_name": "LayoutModel",
      "state": {}
     },
     "b1644bfa51f84ce5b80690fa15e6e390": {
      "model_module": "@jupyter-widgets/controls",
      "model_module_version": "1.0.0",
      "model_name": "VBoxModel",
      "state": {
       "_dom_classes": [
        "widget-interact"
       ],
       "children": [
        "IPY_MODEL_f1c4db44d3a24ab981b5decf140515d7",
        "IPY_MODEL_bbcb6054150b4263b532f658d7aedb0d"
       ],
       "layout": "IPY_MODEL_be4aa551b4814457ad22be799f542e6c"
      }
     },
     "b1d5b1b4a550460bb92223f22e42a078": {
      "model_module": "@jupyter-widgets/controls",
      "model_module_version": "1.0.0",
      "model_name": "DropdownModel",
      "state": {
       "_options_labels": [
        "one",
        "two"
       ],
       "description": "x",
       "index": 0,
       "layout": "IPY_MODEL_edf400c05be14e8e96f6854e786c4be5",
       "style": "IPY_MODEL_5b0c4b73beeb4d4bafb0b20822f90346"
      }
     },
     "b3aa3b8ebc1946c7a77bcacf8b363428": {
      "model_module": "@jupyter-widgets/output",
      "model_module_version": "1.0.0",
      "model_name": "OutputModel",
      "state": {
       "layout": "IPY_MODEL_42cc4c27bc4f4bf5bced1f6410852017"
      }
     },
     "b511ad4c8a33461c9c8484ea03d13f96": {
      "model_module": "@jupyter-widgets/base",
      "model_module_version": "1.0.0",
      "model_name": "LayoutModel",
      "state": {}
     },
     "b5fd38c8a1d64025b6a99a5e6da7d8ba": {
      "model_module": "@jupyter-widgets/controls",
      "model_module_version": "1.0.0",
      "model_name": "IntSliderModel",
      "state": {
       "description": "p",
       "layout": "IPY_MODEL_bb26316b7fb24c7e90adf600819d95c9",
       "max": 15,
       "min": -5,
       "style": "IPY_MODEL_337370099abc43d99948327eb93960cc",
       "value": 5
      }
     },
     "ba34fe68f5ab4a75a046de7c23b3e730": {
      "model_module": "@jupyter-widgets/base",
      "model_module_version": "1.0.0",
      "model_name": "LayoutModel",
      "state": {}
     },
     "bb26316b7fb24c7e90adf600819d95c9": {
      "model_module": "@jupyter-widgets/base",
      "model_module_version": "1.0.0",
      "model_name": "LayoutModel",
      "state": {}
     },
     "bb7df6bd21e14a1e9c0d699095599eff": {
      "model_module": "@jupyter-widgets/controls",
      "model_module_version": "1.0.0",
      "model_name": "SliderStyleModel",
      "state": {
       "description_width": ""
      }
     },
     "bbcb6054150b4263b532f658d7aedb0d": {
      "model_module": "@jupyter-widgets/output",
      "model_module_version": "1.0.0",
      "model_name": "OutputModel",
      "state": {
       "layout": "IPY_MODEL_d0f5084e33114c06aa8e1a5d505ed8af",
       "outputs": [
        {
         "data": {
          "text/plain": "5.5"
         },
         "metadata": {},
         "output_type": "display_data"
        }
       ]
      }
     },
     "bc3512a8176e463cbc00f01c39b6f28a": {
      "model_module": "@jupyter-widgets/controls",
      "model_module_version": "1.0.0",
      "model_name": "DescriptionStyleModel",
      "state": {
       "description_width": ""
      }
     },
     "bca98182069d492e95cfcc440c16dc1d": {
      "model_module": "@jupyter-widgets/output",
      "model_module_version": "1.0.0",
      "model_name": "OutputModel",
      "state": {
       "layout": "IPY_MODEL_692f3e971cfe4c01a5d079aeb933c3d5",
       "outputs": [
        {
         "data": {
          "text/plain": "10"
         },
         "metadata": {},
         "output_type": "display_data"
        }
       ]
      }
     },
     "be4aa551b4814457ad22be799f542e6c": {
      "model_module": "@jupyter-widgets/base",
      "model_module_version": "1.0.0",
      "model_name": "LayoutModel",
      "state": {}
     },
     "c3ea8fd3b8cb427ca8037bd089eaf083": {
      "model_module": "@jupyter-widgets/controls",
      "model_module_version": "1.0.0",
      "model_name": "VBoxModel",
      "state": {
       "_dom_classes": [
        "widget-interact"
       ],
       "children": [
        "IPY_MODEL_3e1e21c679cd41b2a65188af8d4c3616",
        "IPY_MODEL_94cbccdfb232431f917c7c5bea236b00"
       ],
       "layout": "IPY_MODEL_44b696328c4241f58091af323afae6da"
      }
     },
     "c927df54f3734b1385600012934e839e": {
      "model_module": "@jupyter-widgets/controls",
      "model_module_version": "1.0.0",
      "model_name": "CheckboxModel",
      "state": {
       "description": "x",
       "disabled": false,
       "layout": "IPY_MODEL_281e69cd88b545139c6e21aeb5ac8cf4",
       "style": "IPY_MODEL_633dfc47afa747f4b25aae7718cfcbe7",
       "value": true
      }
     },
     "cc9e8deb32c34492af0c1fab4c6a9150": {
      "model_module": "@jupyter-widgets/base",
      "model_module_version": "1.0.0",
      "model_name": "LayoutModel",
      "state": {}
     },
     "cd19fc6307324e0785d7a49554cf21c1": {
      "model_module": "@jupyter-widgets/base",
      "model_module_version": "1.0.0",
      "model_name": "LayoutModel",
      "state": {}
     },
     "d0f5084e33114c06aa8e1a5d505ed8af": {
      "model_module": "@jupyter-widgets/base",
      "model_module_version": "1.0.0",
      "model_name": "LayoutModel",
      "state": {}
     },
     "d1e8777e793b422c967d579d16136d33": {
      "model_module": "@jupyter-widgets/output",
      "model_module_version": "1.0.0",
      "model_name": "OutputModel",
      "state": {
       "layout": "IPY_MODEL_7944711953d24c79ac137b2f99f795fa",
       "outputs": [
        {
         "data": {
          "text/plain": "'apples'"
         },
         "metadata": {},
         "output_type": "display_data"
        }
       ]
      }
     },
     "d423229472f94822a8ba76bf0f35d5f1": {
      "model_module": "@jupyter-widgets/base",
      "model_module_version": "1.0.0",
      "model_name": "LayoutModel",
      "state": {}
     },
     "d7c8d53f8a614e949c12fc992bb6c5ec": {
      "model_module": "@jupyter-widgets/controls",
      "model_module_version": "1.0.0",
      "model_name": "VBoxModel",
      "state": {
       "_dom_classes": [
        "widget-interact"
       ],
       "children": [
        "IPY_MODEL_795fa035945b4fb585557895c53ec26a",
        "IPY_MODEL_e88932f8675e4eca9bffb255500642d2"
       ],
       "layout": "IPY_MODEL_9dd4d39ec36b460a87d70540959676da"
      }
     },
     "d905a4b1358842ccb07ac24abdb48347": {
      "model_module": "@jupyter-widgets/base",
      "model_module_version": "1.0.0",
      "model_name": "LayoutModel",
      "state": {}
     },
     "d936abcfc28042d19555c3659c99cc65": {
      "model_module": "@jupyter-widgets/controls",
      "model_module_version": "1.0.0",
      "model_name": "VBoxModel",
      "state": {
       "_dom_classes": [
        "widget-interact"
       ],
       "children": [
        "IPY_MODEL_9e95e31390e74716a074ebe5829851d0",
        "IPY_MODEL_91d98cf3131240eea0d18f89a197b17d"
       ],
       "layout": "IPY_MODEL_330d1265f85f4d2b93aa7c4985ffab1e"
      }
     },
     "dae94656f0f54893b3c21dfcaa730d47": {
      "model_module": "@jupyter-widgets/base",
      "model_module_version": "1.0.0",
      "model_name": "LayoutModel",
      "state": {}
     },
     "dd7d386687d74835a75c4d46645920c6": {
      "model_module": "@jupyter-widgets/output",
      "model_module_version": "1.0.0",
      "model_name": "OutputModel",
      "state": {
       "layout": "IPY_MODEL_a83996f95bad4242a533a83757c04ad4",
       "outputs": [
        {
         "name": "stdout",
         "output_type": "stream",
         "text": "100000 [0, 1, 2, 3, 11, 22, 101, 111, 121, 202, 212, 1001, 1111, 2002, 10001, 10101, 10201, 11011, 11111, 11211, 20002, 20102]\n"
        }
       ]
      }
     },
     "df5d12b0e48d439ba0a4a8633a52dc52": {
      "model_module": "@jupyter-widgets/controls",
      "model_module_version": "1.0.0",
      "model_name": "VBoxModel",
      "state": {
       "_dom_classes": [
        "widget-interact"
       ],
       "children": [
        "IPY_MODEL_b5fd38c8a1d64025b6a99a5e6da7d8ba",
        "IPY_MODEL_4687aa1e176849a4b42ded53d26749e2"
       ],
       "layout": "IPY_MODEL_64e3debf50404066afb4cf0a8c0a123c"
      }
     },
     "e201985d0d454b2f90486a8385ab117e": {
      "model_module": "@jupyter-widgets/controls",
      "model_module_version": "1.0.0",
      "model_name": "VBoxModel",
      "state": {
       "_dom_classes": [
        "widget-interact"
       ],
       "children": [
        "IPY_MODEL_a81cdecf3f5046fb86c03cb7bc556ebc",
        "IPY_MODEL_e9d966b3f12c49ba817709deabee1a48"
       ],
       "layout": "IPY_MODEL_409eb95ec2364abfbacdf693c3b8ea54"
      }
     },
     "e88932f8675e4eca9bffb255500642d2": {
      "model_module": "@jupyter-widgets/output",
      "model_module_version": "1.0.0",
      "model_name": "OutputModel",
      "state": {
       "layout": "IPY_MODEL_11bc7122d69040089b0796bf2e283ee0",
       "outputs": [
        {
         "data": {
          "text/plain": "5.0"
         },
         "metadata": {},
         "output_type": "display_data"
        }
       ]
      }
     },
     "e9d966b3f12c49ba817709deabee1a48": {
      "model_module": "@jupyter-widgets/output",
      "model_module_version": "1.0.0",
      "model_name": "OutputModel",
      "state": {
       "layout": "IPY_MODEL_865b54861470489ca75b4dba973493a6",
       "outputs": [
        {
         "data": {
          "text/plain": "True"
         },
         "metadata": {},
         "output_type": "display_data"
        }
       ]
      }
     },
     "ea3e0e107c774feea94a3e081ad8d4f1": {
      "model_module": "@jupyter-widgets/base",
      "model_module_version": "1.0.0",
      "model_name": "LayoutModel",
      "state": {}
     },
     "eb07ec88a6c841628f5c49eb9f3fd287": {
      "model_module": "@jupyter-widgets/controls",
      "model_module_version": "1.0.0",
      "model_name": "IntSliderModel",
      "state": {
       "description": "x",
       "layout": "IPY_MODEL_70931f0378ac4638864559b33bb22c2e",
       "max": 4,
       "style": "IPY_MODEL_23f246a052634bb8a6b7e1be039a276e",
       "value": 2
      }
     },
     "ebcd0a1dee7148529251c568be712c0d": {
      "model_module": "@jupyter-widgets/controls",
      "model_module_version": "1.0.0",
      "model_name": "DescriptionStyleModel",
      "state": {
       "description_width": ""
      }
     },
     "edf400c05be14e8e96f6854e786c4be5": {
      "model_module": "@jupyter-widgets/base",
      "model_module_version": "1.0.0",
      "model_name": "LayoutModel",
      "state": {}
     },
     "f1ba6a4bf7484c15aa96e4adcbabdd60": {
      "model_module": "@jupyter-widgets/controls",
      "model_module_version": "1.0.0",
      "model_name": "IntSliderModel",
      "state": {
       "description": "b",
       "layout": "IPY_MODEL_7c9051fd09bb468086701f695299cfd7",
       "max": 60,
       "min": -20,
       "style": "IPY_MODEL_6554926e31ff450abc101dd1ba768db3",
       "value": 20
      }
     },
     "f1c4db44d3a24ab981b5decf140515d7": {
      "model_module": "@jupyter-widgets/controls",
      "model_module_version": "1.0.0",
      "model_name": "FloatSliderModel",
      "state": {
       "description": "x",
       "layout": "IPY_MODEL_dae94656f0f54893b3c21dfcaa730d47",
       "max": 20,
       "step": 0.5,
       "style": "IPY_MODEL_bb7df6bd21e14a1e9c0d699095599eff",
       "value": 5.5
      }
     },
     "fbaa1b1b7aec45e6b5efccb88c32bb1b": {
      "model_module": "@jupyter-widgets/controls",
      "model_module_version": "1.0.0",
      "model_name": "VBoxModel",
      "state": {
       "_dom_classes": [
        "widget-interact"
       ],
       "children": [
        "IPY_MODEL_b1d5b1b4a550460bb92223f22e42a078",
        "IPY_MODEL_3ce2cf35d7e54a2888aa1783d8c8ae11"
       ],
       "layout": "IPY_MODEL_893a7ed4fea14cf2b0eba6d6291c211a"
      }
     },
     "fc159fe394384283a81ceae1e7715a99": {
      "model_module": "@jupyter-widgets/base",
      "model_module_version": "1.0.0",
      "model_name": "LayoutModel",
      "state": {}
     },
     "fd8fde7f1de24f0e9d880bc36c997528": {
      "model_module": "@jupyter-widgets/controls",
      "model_module_version": "1.0.0",
      "model_name": "VBoxModel",
      "state": {
       "_dom_classes": [
        "widget-interact"
       ],
       "children": [
        "IPY_MODEL_a13e8952179349569015d9fd0623aad8",
        "IPY_MODEL_dd7d386687d74835a75c4d46645920c6"
       ],
       "layout": "IPY_MODEL_01c1dc7938dd426d843ebdf8c162366e"
      }
     },
     "ff59a573f27f4c32b0e2ab62a56ffa4e": {
      "model_module": "@jupyter-widgets/base",
      "model_module_version": "1.0.0",
      "model_name": "LayoutModel",
      "state": {}
     },
     "fff12afafa244f20a2112ccf0ff9f0d2": {
      "model_module": "@jupyter-widgets/output",
      "model_module_version": "1.0.0",
      "model_name": "OutputModel",
      "state": {
       "layout": "IPY_MODEL_3acd95a562884e86822f65eac739cab4",
       "outputs": [
        {
         "data": {
          "text/plain": "(True, 1.0)"
         },
         "metadata": {},
         "output_type": "display_data"
        }
       ]
      }
     }
    },
    "version_major": 2,
    "version_minor": 0
   }
  }
 },
 "nbformat": 4,
 "nbformat_minor": 1
}
