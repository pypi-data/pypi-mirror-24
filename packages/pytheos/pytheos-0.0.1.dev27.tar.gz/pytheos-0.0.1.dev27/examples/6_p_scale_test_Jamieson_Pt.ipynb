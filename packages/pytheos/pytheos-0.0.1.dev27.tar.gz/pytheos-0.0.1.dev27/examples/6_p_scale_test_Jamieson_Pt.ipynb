{
 "cells": [
  {
   "cell_type": "code",
   "execution_count": 1,
   "metadata": {
    "collapsed": false
   },
   "outputs": [
    {
     "name": "stdout",
     "output_type": "stream",
     "text": [
      "Source and citation\r\n",
      "\r\n",
      "- This notebook is a part of the `pytheos` package.\r\n",
      "- Website: http://github.com/SHDShim/pytheos.\r\n",
      "- How to cite: S.-H. Shim (2017) Pytheos - a python tool set for equations of state. DOI: 10.5281/zenodo.802392\r\n"
     ]
    }
   ],
   "source": [
    "%cat 0Source_Citation.txt"
   ]
  },
  {
   "cell_type": "code",
   "execution_count": 2,
   "metadata": {
    "collapsed": true
   },
   "outputs": [],
   "source": [
    "%matplotlib inline\n",
    "# %matplotlib notebook # for interactive"
   ]
  },
  {
   "cell_type": "markdown",
   "metadata": {},
   "source": [
    "For high dpi displays."
   ]
  },
  {
   "cell_type": "code",
   "execution_count": 3,
   "metadata": {
    "collapsed": true
   },
   "outputs": [],
   "source": [
    "%config InlineBackend.figure_format = 'retina'"
   ]
  },
  {
   "cell_type": "markdown",
   "metadata": {},
   "source": [
    "# 0. General note"
   ]
  },
  {
   "cell_type": "markdown",
   "metadata": {},
   "source": [
    "This example compares pressure calculated from `pytheos` and original publication for the platinum scale by Jamieson 1983."
   ]
  },
  {
   "cell_type": "markdown",
   "metadata": {},
   "source": [
    "# 1. Global setup"
   ]
  },
  {
   "cell_type": "code",
   "execution_count": 4,
   "metadata": {
    "collapsed": true
   },
   "outputs": [],
   "source": [
    "import matplotlib.pyplot as plt\n",
    "import numpy as np\n",
    "from uncertainties import unumpy as unp\n",
    "import pytheos as eos"
   ]
  },
  {
   "cell_type": "markdown",
   "metadata": {},
   "source": [
    "# 3. Compare"
   ]
  },
  {
   "cell_type": "code",
   "execution_count": 5,
   "metadata": {
    "collapsed": true
   },
   "outputs": [],
   "source": [
    "eta = np.linspace(0., 0.18, 37)"
   ]
  },
  {
   "cell_type": "code",
   "execution_count": 6,
   "metadata": {
    "collapsed": true
   },
   "outputs": [],
   "source": [
    "jamieson_pt = eos.platinum.Jamieson1982()"
   ]
  },
  {
   "cell_type": "code",
   "execution_count": 7,
   "metadata": {
    "collapsed": false
   },
   "outputs": [
    {
     "name": "stdout",
     "output_type": "stream",
     "text": [
      "P_static: Jamieson\n",
      "P_thermal: Constq\n",
      "P_anharmonic: None\n",
      "P_electronic: None\n"
     ]
    }
   ],
   "source": [
    "jamieson_pt.print_equations()"
   ]
  },
  {
   "cell_type": "code",
   "execution_count": 8,
   "metadata": {
    "collapsed": false
   },
   "outputs": [
    {
     "name": "stdout",
     "output_type": "stream",
     "text": [
      "Static:  OrderedDict([('rho0', 21.4449+/-0), ('c0', 3.574+/-0), ('s', 1.582+/-0)])\n",
      "Thermal:  OrderedDict([('v0', 60.421757141035926+/-0.001), ('gamma0', 2.4+/-0), ('q', 1.0+/-0), ('theta0', 200.0+/-0)])\n",
      "Anharmonic: None\n",
      "Electronic: None\n"
     ]
    }
   ],
   "source": [
    "jamieson_pt.print_parameters()"
   ]
  },
  {
   "cell_type": "code",
   "execution_count": 9,
   "metadata": {
    "collapsed": true
   },
   "outputs": [],
   "source": [
    "v0 = 60.421757141035926"
   ]
  },
  {
   "cell_type": "code",
   "execution_count": 10,
   "metadata": {
    "collapsed": false
   },
   "outputs": [
    {
     "data": {
      "text/plain": [
       "24.942673080000002"
      ]
     },
     "execution_count": 10,
     "metadata": {},
     "output_type": "execute_result"
    }
   ],
   "source": [
    "jamieson_pt.three_r"
   ]
  },
  {
   "cell_type": "code",
   "execution_count": 11,
   "metadata": {
    "collapsed": true
   },
   "outputs": [],
   "source": [
    "v = v0 * (1.-eta) \n",
    "temp = 1500."
   ]
  },
  {
   "cell_type": "code",
   "execution_count": 12,
   "metadata": {
    "collapsed": true
   },
   "outputs": [],
   "source": [
    "p = jamieson_pt.cal_p(v, temp * np.ones_like(v))"
   ]
  },
  {
   "cell_type": "markdown",
   "metadata": {},
   "source": [
    "<img src='./tables/Jamieson_Pt_1.png'>"
   ]
  },
  {
   "cell_type": "code",
   "execution_count": 13,
   "metadata": {
    "collapsed": false
   },
   "outputs": [
    {
     "name": "stdout",
     "output_type": "stream",
     "text": [
      "for T =  1500.0\n",
      " 0.000  7.86+/-0.00\n",
      " 0.005  9.23+/-0.00\n",
      " 0.010  10.64+/-0.00\n",
      " 0.015  12.10+/-0.00\n",
      " 0.020  13.60+/-0.00\n",
      " 0.025  15.16+/-0.00\n",
      " 0.030  16.76+/-0.00\n",
      " 0.035  18.41+/-0.00\n",
      " 0.040  20.12+/-0.00\n",
      " 0.045  21.88+/-0.00\n",
      " 0.050  23.70+/-0.00\n",
      " 0.055  25.58+/-0.00\n",
      " 0.060  27.52+/-0.00\n",
      " 0.065  29.52+/-0.00\n",
      " 0.070  31.58+/-0.00\n",
      " 0.075  33.71+/-0.00\n",
      " 0.080  35.91+/-0.00\n",
      " 0.085  38.18+/-0.00\n",
      " 0.090  40.52+/-0.00\n",
      " 0.095  42.94+/-0.00\n",
      " 0.100  45.44+/-0.00\n",
      " 0.105  48.01+/-0.00\n",
      " 0.110  50.67+/-0.00\n",
      " 0.115  53.42+/-0.00\n",
      " 0.120  56.25+/-0.00\n",
      " 0.125  59.18+/-0.00\n",
      " 0.130  62.20+/-0.00\n",
      " 0.135  65.32+/-0.00\n",
      " 0.140  68.54+/-0.00\n",
      " 0.145  71.87+/-0.00\n",
      " 0.150  75.31+/-0.00\n",
      " 0.155  78.86+/-0.00\n",
      " 0.160  82.53+/-0.00\n",
      " 0.165  86.32+/-0.00\n",
      " 0.170  90.23+/-0.00\n",
      " 0.175  94.28+/-0.00\n",
      " 0.180  98.47+/-0.00\n"
     ]
    }
   ],
   "source": [
    "print('for T = ', temp)\n",
    "for eta_i, p_i in zip(eta, p):\n",
    "    print(\"{0: .3f} {1: .2f}\".format(eta_i, p_i))"
   ]
  },
  {
   "cell_type": "code",
   "execution_count": 14,
   "metadata": {
    "collapsed": false
   },
   "outputs": [
    {
     "name": "stdout",
     "output_type": "stream",
     "text": [
      "[ 0.     0.005  0.01   0.015  0.02   0.025  0.03   0.035  0.04   0.045\n",
      "  0.05   0.055  0.06   0.065  0.07   0.075  0.08   0.085  0.09   0.095  0.1\n",
      "  0.105  0.11   0.115  0.12   0.125  0.13   0.135  0.14   0.145  0.15\n",
      "  0.155  0.16   0.165  0.17   0.175  0.18 ]\n"
     ]
    }
   ],
   "source": [
    "v = jamieson_pt.cal_v(p, temp * np.ones_like(p), min_strain=0.6)\n",
    "print(1.-(v/v0))"
   ]
  },
  {
   "cell_type": "code",
   "execution_count": null,
   "metadata": {
    "collapsed": true
   },
   "outputs": [],
   "source": []
  }
 ],
 "metadata": {
  "anaconda-cloud": {},
  "kernelspec": {
   "display_name": "Python [conda env:py35]",
   "language": "python",
   "name": "conda-env-py35-py"
  },
  "language_info": {
   "codemirror_mode": {
    "name": "ipython",
    "version": 3
   },
   "file_extension": ".py",
   "mimetype": "text/x-python",
   "name": "python",
   "nbconvert_exporter": "python",
   "pygments_lexer": "ipython3",
   "version": "3.5.2"
  },
  "latex_envs": {
   "LaTeX_envs_menu_present": true,
   "autocomplete": true,
   "bibliofile": "biblio.bib",
   "cite_by": "apalike",
   "current_citInitial": 1,
   "eqLabelWithNumbers": true,
   "eqNumInitial": 0,
   "hotkeys": {
    "equation": "Ctrl-E",
    "itemize": "Ctrl-I"
   },
   "labels_anchors": false,
   "latex_user_defs": false,
   "report_style_numbering": false,
   "user_envs_cfg": false
  }
 },
 "nbformat": 4,
 "nbformat_minor": 1
}
