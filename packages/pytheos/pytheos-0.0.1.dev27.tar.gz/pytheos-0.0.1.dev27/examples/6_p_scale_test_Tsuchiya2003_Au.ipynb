{
 "cells": [
  {
   "cell_type": "code",
   "execution_count": 1,
   "metadata": {
    "collapsed": false
   },
   "outputs": [
    {
     "name": "stdout",
     "output_type": "stream",
     "text": [
      "Source and citation\r\n",
      "\r\n",
      "- This notebook is a part of the `pytheos` package.\r\n",
      "- Website: http://github.com/SHDShim/pytheos.\r\n",
      "- How to cite: S.-H. Shim (2017) Pytheos - a python tool set for equations of state. DOI: 10.5281/zenodo.802392\r\n"
     ]
    }
   ],
   "source": [
    "%cat 0Source_Citation.txt"
   ]
  },
  {
   "cell_type": "code",
   "execution_count": 2,
   "metadata": {
    "collapsed": true
   },
   "outputs": [],
   "source": [
    "%matplotlib inline\n",
    "# %matplotlib notebook # for interactive"
   ]
  },
  {
   "cell_type": "markdown",
   "metadata": {},
   "source": [
    "For high dpi displays."
   ]
  },
  {
   "cell_type": "code",
   "execution_count": 3,
   "metadata": {
    "collapsed": true
   },
   "outputs": [],
   "source": [
    "%config InlineBackend.figure_format = 'retina'"
   ]
  },
  {
   "cell_type": "markdown",
   "metadata": {},
   "source": [
    "# 0. General note"
   ]
  },
  {
   "cell_type": "markdown",
   "metadata": {},
   "source": [
    "This example compares pressure calculated from `pytheos` and original publication for the gold scale by Tsuchiya 2003."
   ]
  },
  {
   "cell_type": "markdown",
   "metadata": {},
   "source": [
    "# 1. Global setup"
   ]
  },
  {
   "cell_type": "code",
   "execution_count": 4,
   "metadata": {
    "collapsed": true
   },
   "outputs": [],
   "source": [
    "import matplotlib.pyplot as plt\n",
    "import numpy as np\n",
    "from uncertainties import unumpy as unp\n",
    "import pytheos as eos"
   ]
  },
  {
   "cell_type": "markdown",
   "metadata": {},
   "source": [
    "# 3. Compare"
   ]
  },
  {
   "cell_type": "code",
   "execution_count": 5,
   "metadata": {
    "collapsed": false
   },
   "outputs": [
    {
     "name": "stdout",
     "output_type": "stream",
     "text": [
      "[ 0.    0.02  0.04  0.06  0.08  0.1   0.12  0.14  0.16  0.18  0.2   0.22\n",
      "  0.24  0.26  0.28  0.3   0.32  0.34]\n"
     ]
    }
   ],
   "source": [
    "eta = np.linspace(0., 0.34, 18)\n",
    "print(eta)"
   ]
  },
  {
   "cell_type": "code",
   "execution_count": 6,
   "metadata": {
    "collapsed": true
   },
   "outputs": [],
   "source": [
    "tsuchiya_au = eos.gold.Tsuchiya2003()"
   ]
  },
  {
   "cell_type": "code",
   "execution_count": 7,
   "metadata": {
    "collapsed": false
   },
   "outputs": [
    {
     "name": "stdout",
     "output_type": "stream",
     "text": [
      "Help on Tsuchiya2003 in module pytheos.scales.gold object:\n",
      "\n",
      "class Tsuchiya2003(pytheos.scales.objs.MGEOS)\n",
      " |  Tsuchiya 2003 JGR 108. 2462+\n",
      " |  \n",
      " |  Original k0 = 166.7, k0p = 6.12.  However, I cannot reproduce their table\n",
      " |  exactly unless I change the values to 166.1.\n",
      " |  \n",
      " |  If reproduce_table=True, the adjusted k0 will be used for reproducing\n",
      " |  the table value down to the first number after decimal point.\n",
      " |  \n",
      " |  Method resolution order:\n",
      " |      Tsuchiya2003\n",
      " |      pytheos.scales.objs.MGEOS\n",
      " |      builtins.object\n",
      " |  \n",
      " |  Methods defined here:\n",
      " |  \n",
      " |  __init__(self, v0=67.84742110765599, reproduce_table=False)\n",
      " |      :param params_st: elastic parameters for static EOS in an OrderedDict\n",
      " |          [v0 in A^3, k0 in GPa, k0p]\n",
      " |      :param params_th: thermal parameters for thermal EOS in an OrderedDict.\n",
      " |          The component can differ depending on the equation used.\n",
      " |      :param params_anh: anharmonic parameters for anharmonic correction in\n",
      " |          an OrderedDict.  The component can differ depending on the\n",
      " |          equation used.\n",
      " |      :param params_el: electronic parameters for electronic correction in\n",
      " |          an OrderedDict. The component can differ depending on the\n",
      " |          equation used.\n",
      " |      :param eqn_st: equation type for the static EOS. 'bm3', 'vinet', or\n",
      " |          'kunc'\n",
      " |      :param eqn_th: equation type for the thermal EOS. 'constq', 'tange',\n",
      " |          'speziale', 'dorogokupets2007', 'dorogokupets2015', 'alphakt'\n",
      " |      :param eqn_anh: equation type for anharmonic correction. 'zharkov',\n",
      " |      :param eqn_el: equation type for electonic correction. 'zharkov',\n",
      " |          'tsuchiya'\n",
      " |      :param t_ref: reference temperature, 300 K\n",
      " |      :param three_r: 3 times gas constant.\n",
      " |          Jamieson modified this value to compensate for mismatches\n",
      " |      :param reference: reference for the EOS\n",
      " |  \n",
      " |  ----------------------------------------------------------------------\n",
      " |  Methods inherited from pytheos.scales.objs.MGEOS:\n",
      " |  \n",
      " |  cal_p(self, v, temp)\n",
      " |      calculate total pressure at given volume and temperature\n",
      " |      \n",
      " |      :param v: unit-cell volume in A^3\n",
      " |      :param temp: temperature in K\n",
      " |      :return: pressure in GPa\n",
      " |      :note: 2017/05/10 temp must be numpy array.  If not, such as list,\n",
      " |          create an error.\n",
      " |  \n",
      " |  cal_panh(self, v, temp)\n",
      " |      calculate pressure from anharmonic contributions\n",
      " |      \n",
      " |      :param v: unit-cell volume in A^3\n",
      " |      :param temp: temperature in K\n",
      " |      :return: pressure in GPa\n",
      " |  \n",
      " |  cal_pel(self, v, temp)\n",
      " |      calculate pressure from electronic contributions\n",
      " |      \n",
      " |      :param v: unit-cell volume in A^3\n",
      " |      :param temp: temperature in K\n",
      " |      :return: pressure in GPa\n",
      " |  \n",
      " |  cal_pst(self, v)\n",
      " |      calculate static pressure at 300 K.\n",
      " |      \n",
      " |      :param v: unit-cell volume in A^3\n",
      " |      :return: static pressure at t_ref (=300 K) in GPa\n",
      " |  \n",
      " |  cal_pth(self, v, temp)\n",
      " |      calculate thermal pressure\n",
      " |      \n",
      " |      :param v: unit-cell volume in A^3\n",
      " |      :param temp: temperature in K\n",
      " |      :return: thermal pressure in GPa\n",
      " |  \n",
      " |  cal_v(self, p, temp, min_strain=0.2, max_strain=1.0)\n",
      " |      calculate unit-cell volume at given pressure and temperature\n",
      " |      \n",
      " |      :param p: pressure in GPa\n",
      " |      :param temp: temperature in K\n",
      " |      :param min_strain: minimum strain searched for volume root\n",
      " |      :param max_strain: maximum strain searched for volume root\n",
      " |      :return: unit-cell volume in A^3\n",
      " |      :note: 2017/05/10 I found wrap function is not compatible with\n",
      " |          OrderedDict. So I convert unp array to np array.\n",
      " |  \n",
      " |  print_equations(self)\n",
      " |      show equations used for the EOS\n",
      " |  \n",
      " |  print_parameters(self)\n",
      " |      show thermoelastic parameters for the EOS\n",
      " |  \n",
      " |  print_reference(self)\n",
      " |      show reference for the EOS\n",
      " |  \n",
      " |  ----------------------------------------------------------------------\n",
      " |  Data descriptors inherited from pytheos.scales.objs.MGEOS:\n",
      " |  \n",
      " |  __dict__\n",
      " |      dictionary for instance variables (if defined)\n",
      " |  \n",
      " |  __weakref__\n",
      " |      list of weak references to the object (if defined)\n",
      "\n"
     ]
    }
   ],
   "source": [
    "help(tsuchiya_au)"
   ]
  },
  {
   "cell_type": "code",
   "execution_count": 8,
   "metadata": {
    "collapsed": false
   },
   "outputs": [
    {
     "name": "stdout",
     "output_type": "stream",
     "text": [
      "P_static:  vinet\n",
      "P_thermal:  constq\n",
      "P_anharmonic:  None\n",
      "P_electronic:  None\n"
     ]
    }
   ],
   "source": [
    "tsuchiya_au.print_equations()"
   ]
  },
  {
   "cell_type": "code",
   "execution_count": 9,
   "metadata": {
    "collapsed": false
   },
   "outputs": [
    {
     "name": "stdout",
     "output_type": "stream",
     "text": [
      "P_static:  vinet\n",
      "P_thermal:  constq\n",
      "P_anharmonic:  None\n",
      "P_electronic:  None\n"
     ]
    }
   ],
   "source": [
    "tsuchiya_au.print_equations()"
   ]
  },
  {
   "cell_type": "code",
   "execution_count": 10,
   "metadata": {
    "collapsed": false
   },
   "outputs": [
    {
     "name": "stdout",
     "output_type": "stream",
     "text": [
      "Static:  OrderedDict([('v0', 67.84742110765599+/-0.001), ('k0', 166.7+/-0), ('k0p', 6.12+/-0)])\n",
      "Thermal:  OrderedDict([('v0', 67.84742110765599+/-0.001), ('gamma0', 3.16+/-0), ('q', 2.15+/-0), ('theta0', 180.0+/-0)])\n",
      "Anharmonic:  None\n",
      "Electronic:  None\n"
     ]
    }
   ],
   "source": [
    "tsuchiya_au.print_parameters()"
   ]
  },
  {
   "cell_type": "code",
   "execution_count": 11,
   "metadata": {
    "collapsed": true
   },
   "outputs": [],
   "source": [
    "v0 = 67.84742110765599"
   ]
  },
  {
   "cell_type": "code",
   "execution_count": 12,
   "metadata": {
    "collapsed": false
   },
   "outputs": [
    {
     "data": {
      "text/plain": [
       "24.943379399999998"
      ]
     },
     "execution_count": 12,
     "metadata": {},
     "output_type": "execute_result"
    }
   ],
   "source": [
    "tsuchiya_au.three_r"
   ]
  },
  {
   "cell_type": "code",
   "execution_count": 13,
   "metadata": {
    "collapsed": true
   },
   "outputs": [],
   "source": [
    "v = v0 * (1.-eta) \n",
    "temp = 2500."
   ]
  },
  {
   "cell_type": "code",
   "execution_count": 14,
   "metadata": {
    "collapsed": true
   },
   "outputs": [],
   "source": [
    "p = tsuchiya_au.cal_p(v, temp * np.ones_like(v))"
   ]
  },
  {
   "cell_type": "markdown",
   "metadata": {},
   "source": [
    "<img src='./tables/Tsuchiya_Au.png'>"
   ]
  },
  {
   "cell_type": "code",
   "execution_count": 15,
   "metadata": {
    "collapsed": false
   },
   "outputs": [
    {
     "name": "stdout",
     "output_type": "stream",
     "text": [
      "for T =  2500.0\n",
      " 0.000  16.94+/-0.00\n",
      " 0.020  20.13+/-0.00\n",
      " 0.040  23.86+/-0.00\n",
      " 0.060  28.21+/-0.00\n",
      " 0.080  33.26+/-0.00\n",
      " 0.100  39.11+/-0.00\n",
      " 0.120  45.89+/-0.00\n",
      " 0.140  53.72+/-0.01\n",
      " 0.160  62.75+/-0.01\n",
      " 0.180  73.17+/-0.01\n",
      " 0.200  85.19+/-0.01\n",
      " 0.220  99.04+/-0.01\n",
      " 0.240  115.01+/-0.01\n",
      " 0.260  133.45+/-0.01\n",
      " 0.280  154.73+/-0.01\n",
      " 0.300  179.34+/-0.01\n",
      " 0.320  207.81+/-0.02\n",
      " 0.340  240.81+/-0.02\n"
     ]
    }
   ],
   "source": [
    "print('for T = ', temp)\n",
    "for eta_i, p_i in zip(eta, p):\n",
    "    print(\"{0: .3f} {1: .2f}\".format(eta_i, p_i))"
   ]
  },
  {
   "cell_type": "code",
   "execution_count": 16,
   "metadata": {
    "collapsed": false
   },
   "outputs": [
    {
     "name": "stdout",
     "output_type": "stream",
     "text": [
      "[ 0.    0.02  0.04  0.06  0.08  0.1   0.12  0.14  0.16  0.18  0.2   0.22\n",
      "  0.24  0.26  0.28  0.3   0.32  0.34]\n"
     ]
    }
   ],
   "source": [
    "v = tsuchiya_au.cal_v(p, temp * np.ones_like(p), min_strain=0.6)\n",
    "print(1.-(v/v0))"
   ]
  },
  {
   "cell_type": "markdown",
   "metadata": {},
   "source": [
    "- I cannot quite reproduce the table values.  The mismatch is about 1 GPa at 2500 K and 240 GPa.\n",
    "\n",
    "- This means his parameters may have been rounded.\n",
    "\n",
    "- Therefore, I readjusted the eos parameters from Tsuchiya to match their table values better.  Users have a choice if they use the table values or the parameter values.  If `reproduce_table` sets to `True`, the difference reduces to 0.1 GPa."
   ]
  },
  {
   "cell_type": "code",
   "execution_count": 17,
   "metadata": {
    "collapsed": true
   },
   "outputs": [],
   "source": [
    "tsuchiya_au = eos.gold.Tsuchiya2003(reproduce_table=True)"
   ]
  },
  {
   "cell_type": "code",
   "execution_count": 18,
   "metadata": {
    "collapsed": true
   },
   "outputs": [],
   "source": [
    "p = tsuchiya_au.cal_p(v, temp * np.ones_like(v))"
   ]
  },
  {
   "cell_type": "code",
   "execution_count": 19,
   "metadata": {
    "collapsed": false
   },
   "outputs": [
    {
     "name": "stdout",
     "output_type": "stream",
     "text": [
      "for T =  2500.0\n",
      " 0.000  16.94+/-0.00\n",
      " 0.020  20.12+/-0.00\n",
      " 0.040  23.83+/-0.00\n",
      " 0.060  28.16+/-0.00\n",
      " 0.080  33.19+/-0.00\n",
      " 0.100  39.03+/-0.00\n",
      " 0.120  45.78+/-0.00\n",
      " 0.140  53.57+/-0.01\n",
      " 0.160  62.58+/-0.01\n",
      " 0.180  72.96+/-0.01\n",
      " 0.200  84.93+/-0.01\n",
      " 0.220  98.73+/-0.01\n",
      " 0.240  114.65+/-0.01\n",
      " 0.260  133.01+/-0.01\n",
      " 0.280  154.22+/-0.01\n",
      " 0.300  178.73+/-0.01\n",
      " 0.320  207.10+/-0.02\n",
      " 0.340  239.98+/-0.02\n"
     ]
    }
   ],
   "source": [
    "print('for T = ', temp)\n",
    "for eta_i, p_i in zip(eta, p):\n",
    "    print(\"{0: .3f} {1: .2f}\".format(eta_i, p_i))"
   ]
  },
  {
   "cell_type": "code",
   "execution_count": null,
   "metadata": {
    "collapsed": true
   },
   "outputs": [],
   "source": []
  }
 ],
 "metadata": {
  "anaconda-cloud": {},
  "kernelspec": {
   "display_name": "Python [conda env:py35]",
   "language": "python",
   "name": "conda-env-py35-py"
  },
  "language_info": {
   "codemirror_mode": {
    "name": "ipython",
    "version": 3
   },
   "file_extension": ".py",
   "mimetype": "text/x-python",
   "name": "python",
   "nbconvert_exporter": "python",
   "pygments_lexer": "ipython3",
   "version": "3.5.2"
  },
  "latex_envs": {
   "LaTeX_envs_menu_present": true,
   "autocomplete": true,
   "bibliofile": "biblio.bib",
   "cite_by": "apalike",
   "current_citInitial": 1,
   "eqLabelWithNumbers": true,
   "eqNumInitial": 0,
   "hotkeys": {
    "equation": "Ctrl-E",
    "itemize": "Ctrl-I"
   },
   "labels_anchors": false,
   "latex_user_defs": false,
   "report_style_numbering": false,
   "user_envs_cfg": false
  }
 },
 "nbformat": 4,
 "nbformat_minor": 1
}
