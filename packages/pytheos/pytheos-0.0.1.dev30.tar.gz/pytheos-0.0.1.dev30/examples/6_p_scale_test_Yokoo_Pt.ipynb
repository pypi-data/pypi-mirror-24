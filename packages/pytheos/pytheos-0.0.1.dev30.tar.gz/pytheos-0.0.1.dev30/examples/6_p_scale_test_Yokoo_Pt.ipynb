{
 "cells": [
  {
   "cell_type": "code",
   "execution_count": 1,
   "metadata": {
    "collapsed": false
   },
   "outputs": [
    {
     "name": "stdout",
     "output_type": "stream",
     "text": [
      "Source and citation\r\n",
      "\r\n",
      "- This notebook is a part of the `pytheos` package.\r\n",
      "- Website: http://github.com/SHDShim/pytheos.\r\n",
      "- How to cite: S.-H. Shim (2017) Pytheos - a python tool set for equations of state. DOI: 10.5281/zenodo.802392\r\n"
     ]
    }
   ],
   "source": [
    "%cat 0Source_Citation.txt"
   ]
  },
  {
   "cell_type": "code",
   "execution_count": 2,
   "metadata": {
    "collapsed": true
   },
   "outputs": [],
   "source": [
    "%matplotlib inline\n",
    "# %matplotlib notebook # for interactive"
   ]
  },
  {
   "cell_type": "markdown",
   "metadata": {},
   "source": [
    "For high dpi displays."
   ]
  },
  {
   "cell_type": "code",
   "execution_count": 3,
   "metadata": {
    "collapsed": true
   },
   "outputs": [],
   "source": [
    "%config InlineBackend.figure_format = 'retina'"
   ]
  },
  {
   "cell_type": "markdown",
   "metadata": {},
   "source": [
    "# 0. General note"
   ]
  },
  {
   "cell_type": "markdown",
   "metadata": {},
   "source": [
    "This example compares pressure calculated from `pytheos` and original publication for the platinum scale by Yokoo 2009."
   ]
  },
  {
   "cell_type": "markdown",
   "metadata": {},
   "source": [
    "# 1. Global setup"
   ]
  },
  {
   "cell_type": "code",
   "execution_count": 4,
   "metadata": {
    "collapsed": true
   },
   "outputs": [],
   "source": [
    "import matplotlib.pyplot as plt\n",
    "import numpy as np\n",
    "from uncertainties import unumpy as unp\n",
    "import pytheos as eos"
   ]
  },
  {
   "cell_type": "markdown",
   "metadata": {},
   "source": [
    "# 3. Compare"
   ]
  },
  {
   "cell_type": "code",
   "execution_count": 5,
   "metadata": {
    "collapsed": false
   },
   "outputs": [
    {
     "name": "stdout",
     "output_type": "stream",
     "text": [
      "[ 1.    0.98  0.96  0.94  0.92  0.9   0.88  0.86  0.84  0.82  0.8   0.78\n",
      "  0.76  0.74  0.72  0.7   0.68  0.66  0.64  0.62  0.6 ]\n"
     ]
    }
   ],
   "source": [
    "eta = np.linspace(1., 0.60, 21)\n",
    "print(eta)"
   ]
  },
  {
   "cell_type": "code",
   "execution_count": 6,
   "metadata": {
    "collapsed": true
   },
   "outputs": [],
   "source": [
    "yokoo_pt = eos.platinum.Yokoo2009()"
   ]
  },
  {
   "cell_type": "code",
   "execution_count": 7,
   "metadata": {
    "collapsed": false
   },
   "outputs": [
    {
     "name": "stdout",
     "output_type": "stream",
     "text": [
      "P_static:  bm3\n",
      "P_thermal:  tange\n",
      "P_anharmonic:  None\n",
      "P_electronic:  tsuchiya\n"
     ]
    }
   ],
   "source": [
    "yokoo_pt.print_equations()"
   ]
  },
  {
   "cell_type": "code",
   "execution_count": 8,
   "metadata": {
    "collapsed": false
   },
   "outputs": [
    {
     "name": "stdout",
     "output_type": "stream",
     "text": [
      "P_static:  bm3\n",
      "P_thermal:  tange\n",
      "P_anharmonic:  None\n",
      "P_electronic:  tsuchiya\n"
     ]
    }
   ],
   "source": [
    "yokoo_pt.print_equations()"
   ]
  },
  {
   "cell_type": "code",
   "execution_count": 9,
   "metadata": {
    "collapsed": false
   },
   "outputs": [
    {
     "name": "stdout",
     "output_type": "stream",
     "text": [
      "Static:  OrderedDict([('v0', 60.37930856339099+/-0.001), ('k0', 276.4+/-0), ('k0p', 5.12+/-0.1)])\n",
      "Thermal:  OrderedDict([('v0', 60.37930856339099+/-0.001), ('gamma0', 2.63+/-0), ('a', 0.39+/-0.08), ('b', 5.2+/-1.1), ('theta0', 230.0+/-0)])\n",
      "Anharmonic:  None\n",
      "Electronic:  OrderedDict([('v0', 60.37930856339099+/-0.001), ('a', 0.011316+/-0), ('b', -5.6486e-07+/-0), ('c', 2.67e-07+/-0), ('d', -2.8531e-11+/-0)])\n"
     ]
    }
   ],
   "source": [
    "yokoo_pt.print_parameters()"
   ]
  },
  {
   "cell_type": "code",
   "execution_count": 10,
   "metadata": {
    "collapsed": true
   },
   "outputs": [],
   "source": [
    "v0 = 60.37930856339099"
   ]
  },
  {
   "cell_type": "code",
   "execution_count": 11,
   "metadata": {
    "collapsed": false
   },
   "outputs": [
    {
     "data": {
      "text/plain": [
       "24.943379399999998"
      ]
     },
     "execution_count": 11,
     "metadata": {},
     "output_type": "execute_result"
    }
   ],
   "source": [
    "yokoo_pt.three_r"
   ]
  },
  {
   "cell_type": "code",
   "execution_count": 12,
   "metadata": {
    "collapsed": true
   },
   "outputs": [],
   "source": [
    "v = v0 * (eta) \n",
    "temp = 3000."
   ]
  },
  {
   "cell_type": "code",
   "execution_count": 13,
   "metadata": {
    "collapsed": true
   },
   "outputs": [],
   "source": [
    "p = yokoo_pt.cal_p(v, temp * np.ones_like(v))"
   ]
  },
  {
   "cell_type": "markdown",
   "metadata": {},
   "source": [
    "<img src='./tables/Yokoo_Pt.png'>"
   ]
  },
  {
   "cell_type": "code",
   "execution_count": 14,
   "metadata": {
    "collapsed": false
   },
   "outputs": [
    {
     "name": "stdout",
     "output_type": "stream",
     "text": [
      "for T =  3000.0\n",
      " 1.000  21.04+/-0.00\n",
      " 0.980  26.54+/-0.22\n",
      " 0.960  32.85+/-0.42\n",
      " 0.940  40.08+/-0.61\n",
      " 0.920  48.34+/-0.78\n",
      " 0.900  57.77+/-0.94\n",
      " 0.880  68.51+/-1.10\n",
      " 0.860  80.76+/-1.26\n",
      " 0.840  94.71+/-1.44\n",
      " 0.820  110.62+/-1.65\n",
      " 0.800  128.76+/-1.90\n",
      " 0.780  149.48+/-2.21\n",
      " 0.760  173.17+/-2.60\n",
      " 0.740  200.29+/-3.10\n",
      " 0.720  231.42+/-3.72\n",
      " 0.700  267.19+/-4.50\n",
      " 0.680  308.43+/-5.47\n",
      " 0.660  356.06+/-6.67\n",
      " 0.640  411.27+/-8.16\n",
      " 0.620  475.44+/-9.98\n",
      " 0.600  550.29+/-12.22\n"
     ]
    }
   ],
   "source": [
    "print('for T = ', temp)\n",
    "for eta_i, p_i in zip(eta, p):\n",
    "    print(\"{0: .3f} {1: .2f}\".format(eta_i, p_i))"
   ]
  },
  {
   "cell_type": "markdown",
   "metadata": {},
   "source": [
    "It is alarming that even 300 K isotherm does not match with table value.  The difference is 1%."
   ]
  },
  {
   "cell_type": "code",
   "execution_count": 15,
   "metadata": {
    "collapsed": false
   },
   "outputs": [
    {
     "name": "stdout",
     "output_type": "stream",
     "text": [
      "[ 0.    0.02  0.04  0.06  0.08  0.1   0.12  0.14  0.16  0.18  0.2   0.22\n",
      "  0.24  0.26  0.28  0.3   0.32  0.34  0.36  0.38  0.4 ]\n"
     ]
    }
   ],
   "source": [
    "v = yokoo_pt.cal_v(p, temp * np.ones_like(p), min_strain=0.6)\n",
    "print(1.-(v/v0))"
   ]
  }
 ],
 "metadata": {
  "anaconda-cloud": {},
  "kernelspec": {
   "display_name": "Python [conda env:py35]",
   "language": "python",
   "name": "conda-env-py35-py"
  },
  "language_info": {
   "codemirror_mode": {
    "name": "ipython",
    "version": 3
   },
   "file_extension": ".py",
   "mimetype": "text/x-python",
   "name": "python",
   "nbconvert_exporter": "python",
   "pygments_lexer": "ipython3",
   "version": "3.5.2"
  },
  "latex_envs": {
   "LaTeX_envs_menu_present": true,
   "autocomplete": true,
   "bibliofile": "biblio.bib",
   "cite_by": "apalike",
   "current_citInitial": 1,
   "eqLabelWithNumbers": true,
   "eqNumInitial": 0,
   "hotkeys": {
    "equation": "Ctrl-E",
    "itemize": "Ctrl-I"
   },
   "labels_anchors": false,
   "latex_user_defs": false,
   "report_style_numbering": false,
   "user_envs_cfg": false
  }
 },
 "nbformat": 4,
 "nbformat_minor": 1
}
