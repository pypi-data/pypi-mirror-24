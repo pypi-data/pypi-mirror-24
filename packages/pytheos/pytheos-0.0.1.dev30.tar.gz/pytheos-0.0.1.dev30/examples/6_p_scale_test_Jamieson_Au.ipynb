{
 "cells": [
  {
   "cell_type": "code",
   "execution_count": 1,
   "metadata": {
    "collapsed": false
   },
   "outputs": [
    {
     "name": "stdout",
     "output_type": "stream",
     "text": [
      "Source and citation\r\n",
      "\r\n",
      "- This notebook is a part of the `pytheos` package.\r\n",
      "- Website: http://github.com/SHDShim/pytheos.\r\n",
      "- How to cite: S.-H. Shim (2017) Pytheos - a python tool set for equations of state. DOI: 10.5281/zenodo.802392\r\n"
     ]
    }
   ],
   "source": [
    "%cat 0Source_Citation.txt"
   ]
  },
  {
   "cell_type": "code",
   "execution_count": 2,
   "metadata": {
    "collapsed": true
   },
   "outputs": [],
   "source": [
    "%matplotlib inline\n",
    "# %matplotlib notebook # for interactive"
   ]
  },
  {
   "cell_type": "markdown",
   "metadata": {},
   "source": [
    "For high dpi displays."
   ]
  },
  {
   "cell_type": "code",
   "execution_count": 3,
   "metadata": {
    "collapsed": true
   },
   "outputs": [],
   "source": [
    "%config InlineBackend.figure_format = 'retina'"
   ]
  },
  {
   "cell_type": "markdown",
   "metadata": {},
   "source": [
    "# 0. General note"
   ]
  },
  {
   "cell_type": "markdown",
   "metadata": {},
   "source": [
    "This example compares pressure calculated from `pytheos` and original publication for the gold scale by Jamieson 1983."
   ]
  },
  {
   "cell_type": "markdown",
   "metadata": {},
   "source": [
    "# 1. Global setup"
   ]
  },
  {
   "cell_type": "code",
   "execution_count": 4,
   "metadata": {
    "collapsed": true
   },
   "outputs": [],
   "source": [
    "import matplotlib.pyplot as plt\n",
    "import numpy as np\n",
    "from uncertainties import unumpy as unp\n",
    "import pytheos as eos"
   ]
  },
  {
   "cell_type": "markdown",
   "metadata": {},
   "source": [
    "# 3. Compare"
   ]
  },
  {
   "cell_type": "code",
   "execution_count": 5,
   "metadata": {
    "collapsed": false
   },
   "outputs": [
    {
     "name": "stdout",
     "output_type": "stream",
     "text": [
      "[ 0.     0.005  0.01   0.015  0.02   0.025  0.03   0.035  0.04   0.045\n",
      "  0.05   0.055  0.06   0.065  0.07   0.075  0.08   0.085  0.09   0.095  0.1\n",
      "  0.105  0.11   0.115  0.12   0.125  0.13   0.135  0.14   0.145  0.15\n",
      "  0.155  0.16   0.165  0.17   0.175  0.18   0.185  0.19   0.195  0.2    0.205\n",
      "  0.21   0.215  0.22   0.225]\n"
     ]
    }
   ],
   "source": [
    "eta = np.linspace(0., 0.225, 46)\n",
    "print(eta)"
   ]
  },
  {
   "cell_type": "code",
   "execution_count": 6,
   "metadata": {
    "collapsed": true
   },
   "outputs": [],
   "source": [
    "jamieson_aul = eos.gold.Jamieson1982L()\n",
    "jamieson_auh = eos.gold.Jamieson1982H()"
   ]
  },
  {
   "cell_type": "code",
   "execution_count": 7,
   "metadata": {
    "collapsed": false
   },
   "outputs": [
    {
     "name": "stdout",
     "output_type": "stream",
     "text": [
      "P_static: Jamieson\n",
      "P_thermal: Constq\n",
      "P_anharmonic: None\n",
      "P_electronic: None\n"
     ]
    }
   ],
   "source": [
    "jamieson_aul.print_equations()"
   ]
  },
  {
   "cell_type": "code",
   "execution_count": 8,
   "metadata": {
    "collapsed": false
   },
   "outputs": [
    {
     "name": "stdout",
     "output_type": "stream",
     "text": [
      "P_static: Jamieson\n",
      "P_thermal: Constq\n",
      "P_anharmonic: None\n",
      "P_electronic: None\n"
     ]
    }
   ],
   "source": [
    "jamieson_auh.print_equations()"
   ]
  },
  {
   "cell_type": "code",
   "execution_count": 9,
   "metadata": {
    "collapsed": false
   },
   "outputs": [
    {
     "name": "stdout",
     "output_type": "stream",
     "text": [
      "Static:  OrderedDict([('rho0', 19.2827+/-0), ('a', 2.975+/-0), ('b', 1.896+/-0), ('c', -0.309+/-0)])\n",
      "Thermal:  OrderedDict([('v0', 67.84747902176544+/-0.001), ('gamma0', 3.215+/-0), ('q', 1.0+/-0), ('theta0', 170.0+/-0)])\n",
      "Anharmonic: None\n",
      "Electronic: None\n"
     ]
    }
   ],
   "source": [
    "jamieson_aul.print_parameters()"
   ]
  },
  {
   "cell_type": "code",
   "execution_count": 10,
   "metadata": {
    "collapsed": false
   },
   "outputs": [
    {
     "name": "stdout",
     "output_type": "stream",
     "text": [
      "Static:  OrderedDict([('rho0', 19.2827+/-0), ('c0', 3.071+/-0), ('s', 1.536+/-0)])\n",
      "Thermal:  OrderedDict([('v0', 67.84747902176544+/-0.001), ('gamma0', 3.215+/-0), ('q', 1.0+/-0), ('theta0', 170.0+/-0)])\n",
      "Anharmonic: None\n",
      "Electronic: None\n"
     ]
    }
   ],
   "source": [
    "jamieson_auh.print_parameters()"
   ]
  },
  {
   "cell_type": "code",
   "execution_count": 11,
   "metadata": {
    "collapsed": true
   },
   "outputs": [],
   "source": [
    "v0 = 67.84747902176544"
   ]
  },
  {
   "cell_type": "code",
   "execution_count": 12,
   "metadata": {
    "collapsed": false
   },
   "outputs": [
    {
     "data": {
      "text/plain": [
       "24.62081875"
      ]
     },
     "execution_count": 12,
     "metadata": {},
     "output_type": "execute_result"
    }
   ],
   "source": [
    "jamieson_aul.three_r"
   ]
  },
  {
   "cell_type": "code",
   "execution_count": 13,
   "metadata": {
    "collapsed": false
   },
   "outputs": [
    {
     "data": {
      "text/plain": [
       "24.62081875"
      ]
     },
     "execution_count": 13,
     "metadata": {},
     "output_type": "execute_result"
    }
   ],
   "source": [
    "jamieson_auh.three_r"
   ]
  },
  {
   "cell_type": "code",
   "execution_count": 14,
   "metadata": {
    "collapsed": true
   },
   "outputs": [],
   "source": [
    "v = v0 * (1.-eta) \n",
    "temp = 1500."
   ]
  },
  {
   "cell_type": "code",
   "execution_count": 15,
   "metadata": {
    "collapsed": true
   },
   "outputs": [],
   "source": [
    "p = jamieson_auh.cal_p(v, temp * np.ones_like(v))"
   ]
  },
  {
   "cell_type": "markdown",
   "metadata": {},
   "source": [
    "<img src='./tables/Jamieson_Au_1.png'>\n",
    "<img src='./tables/Jamieson_Au_2.png'>"
   ]
  },
  {
   "cell_type": "code",
   "execution_count": 16,
   "metadata": {
    "collapsed": false
   },
   "outputs": [
    {
     "name": "stdout",
     "output_type": "stream",
     "text": [
      "for T =  1500.0\n",
      " 0.000  9.27+/-0.00\n",
      " 0.005  10.15+/-0.00\n",
      " 0.010  11.07+/-0.00\n",
      " 0.015  12.01+/-0.00\n",
      " 0.020  12.98+/-0.00\n",
      " 0.025  13.98+/-0.00\n",
      " 0.030  15.02+/-0.00\n",
      " 0.035  16.08+/-0.00\n",
      " 0.040  17.18+/-0.00\n",
      " 0.045  18.31+/-0.00\n",
      " 0.050  19.48+/-0.00\n",
      " 0.055  20.69+/-0.00\n",
      " 0.060  21.93+/-0.00\n",
      " 0.065  23.20+/-0.00\n",
      " 0.070  24.52+/-0.00\n",
      " 0.075  25.88+/-0.00\n",
      " 0.080  27.27+/-0.00\n",
      " 0.085  28.71+/-0.00\n",
      " 0.090  30.20+/-0.00\n",
      " 0.095  31.72+/-0.00\n",
      " 0.100  33.30+/-0.00\n",
      " 0.105  34.92+/-0.00\n",
      " 0.110  36.58+/-0.00\n",
      " 0.115  38.30+/-0.00\n",
      " 0.120  40.07+/-0.00\n",
      " 0.125  41.89+/-0.00\n",
      " 0.130  43.77+/-0.00\n",
      " 0.135  45.70+/-0.00\n",
      " 0.140  47.69+/-0.00\n",
      " 0.145  49.74+/-0.00\n",
      " 0.150  51.85+/-0.00\n",
      " 0.155  54.02+/-0.00\n",
      " 0.160  56.25+/-0.00\n",
      " 0.165  58.55+/-0.00\n",
      " 0.170  60.92+/-0.00\n",
      " 0.175  63.36+/-0.00\n",
      " 0.180  65.87+/-0.00\n",
      " 0.185  68.46+/-0.00\n",
      " 0.190  71.12+/-0.00\n",
      " 0.195  73.86+/-0.00\n",
      " 0.200  76.68+/-0.00\n",
      " 0.205  79.59+/-0.00\n",
      " 0.210  82.58+/-0.00\n",
      " 0.215  85.66+/-0.00\n",
      " 0.220  88.83+/-0.00\n",
      " 0.225  92.09+/-0.00\n"
     ]
    }
   ],
   "source": [
    "print('for T = ', temp)\n",
    "for eta_i, p_i in zip(eta, p):\n",
    "    print(\"{0: .3f} {1: .2f}\".format(eta_i, p_i))"
   ]
  },
  {
   "cell_type": "code",
   "execution_count": 17,
   "metadata": {
    "collapsed": false
   },
   "outputs": [
    {
     "name": "stdout",
     "output_type": "stream",
     "text": [
      "[ 0.     0.005  0.01   0.015  0.02   0.025  0.03   0.035  0.04   0.045\n",
      "  0.05   0.055  0.06   0.065  0.07   0.075  0.08   0.085  0.09   0.095  0.1\n",
      "  0.105  0.11   0.115  0.12   0.125  0.13   0.135  0.14   0.145  0.15\n",
      "  0.155  0.16   0.165  0.17   0.175  0.18   0.185  0.19   0.195  0.2    0.205\n",
      "  0.21   0.215  0.22   0.225]\n"
     ]
    }
   ],
   "source": [
    "v = jamieson_auh.cal_v(p, temp * np.ones_like(p), min_strain=0.6)\n",
    "print(1.-(v/v0))"
   ]
  }
 ],
 "metadata": {
  "anaconda-cloud": {},
  "kernelspec": {
   "display_name": "Python [conda env:py35]",
   "language": "python",
   "name": "conda-env-py35-py"
  },
  "language_info": {
   "codemirror_mode": {
    "name": "ipython",
    "version": 3
   },
   "file_extension": ".py",
   "mimetype": "text/x-python",
   "name": "python",
   "nbconvert_exporter": "python",
   "pygments_lexer": "ipython3",
   "version": "3.5.2"
  },
  "latex_envs": {
   "LaTeX_envs_menu_present": true,
   "autocomplete": true,
   "bibliofile": "biblio.bib",
   "cite_by": "apalike",
   "current_citInitial": 1,
   "eqLabelWithNumbers": true,
   "eqNumInitial": 0,
   "hotkeys": {
    "equation": "Ctrl-E",
    "itemize": "Ctrl-I"
   },
   "labels_anchors": false,
   "latex_user_defs": false,
   "report_style_numbering": false,
   "user_envs_cfg": false
  }
 },
 "nbformat": 4,
 "nbformat_minor": 1
}
