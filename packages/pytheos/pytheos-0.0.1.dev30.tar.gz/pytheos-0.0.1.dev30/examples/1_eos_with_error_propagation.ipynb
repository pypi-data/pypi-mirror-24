{
 "cells": [
  {
   "cell_type": "code",
   "execution_count": 1,
   "metadata": {
    "collapsed": false
   },
   "outputs": [
    {
     "name": "stdout",
     "output_type": "stream",
     "text": [
      "Source and citation\r\n",
      "\r\n",
      "- This notebook is a part of the `pytheos` package.\r\n",
      "- Website: http://github.com/SHDShim/pytheos.\r\n",
      "- How to cite: S.-H. Shim (2017) Pytheos - a python tool set for equations of state. DOI: 10.5281/zenodo.802392\r\n"
     ]
    }
   ],
   "source": [
    "%cat 0Source_Citation.txt"
   ]
  },
  {
   "cell_type": "code",
   "execution_count": 2,
   "metadata": {
    "collapsed": true,
    "run_control": {
     "marked": true
    }
   },
   "outputs": [],
   "source": [
    "%matplotlib inline\n",
    "# %matplotlib notebook # for interactive"
   ]
  },
  {
   "cell_type": "markdown",
   "metadata": {},
   "source": [
    "For high dpi displays."
   ]
  },
  {
   "cell_type": "code",
   "execution_count": 3,
   "metadata": {
    "collapsed": true
   },
   "outputs": [],
   "source": [
    "%config InlineBackend.figure_format = 'retina'"
   ]
  },
  {
   "cell_type": "markdown",
   "metadata": {},
   "source": [
    "# 0. General note"
   ]
  },
  {
   "cell_type": "markdown",
   "metadata": {
    "collapsed": true
   },
   "source": [
    "- This notebook shows how to propagate uncertainties to get reasonable error bars for pressure.\n",
    "- We use MgO as an example."
   ]
  },
  {
   "cell_type": "markdown",
   "metadata": {},
   "source": [
    "# 1. General setup"
   ]
  },
  {
   "cell_type": "code",
   "execution_count": 4,
   "metadata": {
    "collapsed": false
   },
   "outputs": [],
   "source": [
    "import numpy as np\n",
    "import matplotlib.pyplot as plt\n",
    "import uncertainties as uct\n",
    "from uncertainties import unumpy as unp\n",
    "import pandas as pd\n",
    "import pytheos as eos"
   ]
  },
  {
   "cell_type": "markdown",
   "metadata": {},
   "source": [
    "# 2. Assign uncertainties to the EOS parameters"
   ]
  },
  {
   "cell_type": "markdown",
   "metadata": {},
   "source": [
    "Uncertainties of parameters can be defined using the `uncertainties` package.  The parameter values used in this example are just for demonstration purpose.  For more accurate values, please refer to the recent literature."
   ]
  },
  {
   "cell_type": "code",
   "execution_count": 5,
   "metadata": {
    "collapsed": true
   },
   "outputs": [],
   "source": [
    "v0 = uct.ufloat(74.698, 0.004)\n",
    "k0 = uct.ufloat(160., 3.)\n",
    "k0p = uct.ufloat(4.0, 0.3)"
   ]
  },
  {
   "cell_type": "markdown",
   "metadata": {},
   "source": [
    "We make an `numpy` array for volume at high pressure."
   ]
  },
  {
   "cell_type": "code",
   "execution_count": 6,
   "metadata": {
    "collapsed": true
   },
   "outputs": [],
   "source": [
    "n_pts = 20 \n",
    "vv0 = np.linspace(1.,0.8, n_pts)\n",
    "v = vv0 * v0"
   ]
  },
  {
   "cell_type": "markdown",
   "metadata": {},
   "source": [
    "Calculate pressure from `pytheos`."
   ]
  },
  {
   "cell_type": "code",
   "execution_count": 7,
   "metadata": {
    "collapsed": true
   },
   "outputs": [],
   "source": [
    "p = eos.bm3_p(v, v0, k0, k0p)"
   ]
  },
  {
   "cell_type": "markdown",
   "metadata": {},
   "source": [
    "### How to get help"
   ]
  },
  {
   "cell_type": "markdown",
   "metadata": {},
   "source": [
    "You may get help by using `help(function_name)`."
   ]
  },
  {
   "cell_type": "code",
   "execution_count": 8,
   "metadata": {
    "collapsed": false,
    "scrolled": true
   },
   "outputs": [
    {
     "name": "stdout",
     "output_type": "stream",
     "text": [
      "Help on function bm3_p in module pytheos.eqn_bm3:\n",
      "\n",
      "bm3_p(v, v0, k0, k0p, p_ref=0.0)\n",
      "    calculate pressure from 3rd order Birch-Murnathan equation\n",
      "    \n",
      "    :param v: volume at different pressures\n",
      "    :param v0: volume at reference conditions\n",
      "    :param k0: bulk modulus at reference conditions\n",
      "    :param k0p: pressure derivative of bulk modulus at different conditions\n",
      "    :param p_ref: reference pressure (default = 0)\n",
      "    :return: pressure\n",
      "\n"
     ]
    }
   ],
   "source": [
    "help(eos.bm3_p)"
   ]
  },
  {
   "cell_type": "markdown",
   "metadata": {},
   "source": [
    "Now you can see that error bars for the EOS parameters are used in error propagation calculation to pressure value.  Note that the uncertainties in the EOS parameters are correctly applied for propagating uncertainties to both molar volume and pressure."
   ]
  },
  {
   "cell_type": "code",
   "execution_count": 9,
   "metadata": {
    "collapsed": false
   },
   "outputs": [
    {
     "name": "stdout",
     "output_type": "stream",
     "text": [
      "unit-cell volume       pressure\n",
      "  74.698+/-0.004        0.0+/-0\n",
      "  73.912+/-0.004  1.729+/-0.033\n",
      "  73.125+/-0.004    3.55+/-0.07\n",
      "  72.339+/-0.004    5.47+/-0.11\n",
      "  71.553+/-0.004    7.50+/-0.15\n",
      "  70.767+/-0.004    9.64+/-0.20\n",
      "  69.980+/-0.004   11.89+/-0.25\n",
      "  69.194+/-0.004   14.27+/-0.32\n",
      "  68.408+/-0.004     16.8+/-0.4\n",
      "  67.621+/-0.004     19.4+/-0.5\n",
      "  66.835+/-0.004     22.2+/-0.6\n",
      "66.0488+/-0.0035     25.2+/-0.7\n",
      "65.2625+/-0.0035     28.3+/-0.8\n",
      "64.4762+/-0.0035     31.6+/-0.9\n",
      "63.6899+/-0.0034     35.1+/-1.1\n",
      "62.9036+/-0.0034     38.8+/-1.3\n",
      "62.1173+/-0.0033     42.7+/-1.5\n",
      "61.3310+/-0.0033     46.8+/-1.7\n",
      "60.5447+/-0.0032     51.2+/-2.0\n",
      "59.7584+/-0.0032     55.8+/-2.3\n"
     ]
    }
   ],
   "source": [
    "df = pd.DataFrame()\n",
    "df['unit-cell volume'] = v\n",
    "df['pressure'] = p\n",
    "print(df.to_string(index=False))"
   ]
  },
  {
   "cell_type": "markdown",
   "metadata": {},
   "source": [
    "Unfortunately to plot with `matplotlib`, you need to separate nominal values from standard deviation."
   ]
  },
  {
   "cell_type": "code",
   "execution_count": 10,
   "metadata": {
    "collapsed": false
   },
   "outputs": [
    {
     "data": {
      "image/png": "[encoded data removed]",
      "text/plain": [
       "<matplotlib.figure.Figure at 0x116d71518>"
      ]
     },
     "metadata": {
      "image/png": {
       "height": 258,
       "width": 381
      }
     },
     "output_type": "display_data"
    }
   ],
   "source": [
    "f = plt.figure()\n",
    "plt.errorbar(unp.nominal_values(p), unp.nominal_values(v), fmt='ko', \\\n",
    "             xerr=unp.std_devs(p), yerr=unp.std_devs(v))\n",
    "plt.xlabel('Pressure (GPa)'); plt.ylabel('Unit-cell volume ($\\mathrm{\\AA}^3$)');"
   ]
  },
  {
   "cell_type": "markdown",
   "metadata": {},
   "source": [
    "# 3. Calculate volume from pressure using pytheos"
   ]
  },
  {
   "cell_type": "markdown",
   "metadata": {},
   "source": [
    "`Pytheos` provides functions to calculate volume at a given pressure with error propagation."
   ]
  },
  {
   "cell_type": "code",
   "execution_count": 11,
   "metadata": {
    "collapsed": true
   },
   "outputs": [],
   "source": [
    "v_cal = eos.bm3_v(p, v0, k0, k0p)"
   ]
  },
  {
   "cell_type": "code",
   "execution_count": 12,
   "metadata": {
    "collapsed": false
   },
   "outputs": [
    {
     "name": "stdout",
     "output_type": "stream",
     "text": [
      "pressure  unit-cell volume\n",
      "      0.0+/-0    74.698+/-0.004\n",
      "1.729+/-0.033    73.912+/-0.004\n",
      "  3.55+/-0.07    73.125+/-0.004\n",
      "  5.47+/-0.11    72.339+/-0.004\n",
      "  7.50+/-0.15    71.553+/-0.004\n",
      "  9.64+/-0.20    70.767+/-0.004\n",
      " 11.89+/-0.25    69.980+/-0.004\n",
      " 14.27+/-0.32    69.194+/-0.004\n",
      "   16.8+/-0.4    68.408+/-0.004\n",
      "   19.4+/-0.5    67.621+/-0.004\n",
      "   22.2+/-0.6    66.835+/-0.004\n",
      "   25.2+/-0.7  66.0488+/-0.0035\n",
      "   28.3+/-0.8  65.2625+/-0.0035\n",
      "   31.6+/-0.9  64.4762+/-0.0035\n",
      "   35.1+/-1.1  63.6899+/-0.0034\n",
      "   38.8+/-1.3  62.9036+/-0.0034\n",
      "   42.7+/-1.5  62.1173+/-0.0033\n",
      "   46.8+/-1.7  61.3310+/-0.0033\n",
      "   51.2+/-2.0  60.5447+/-0.0032\n",
      "   55.8+/-2.3  59.7584+/-0.0032\n"
     ]
    }
   ],
   "source": [
    "df = pd.DataFrame()\n",
    "df['pressure'] = p\n",
    "df['unit-cell volume'] = v_cal\n",
    "print(df.to_string(index=False))"
   ]
  },
  {
   "cell_type": "markdown",
   "metadata": {},
   "source": [
    "Compare this table with the one we showed above for accuracy check."
   ]
  },
  {
   "cell_type": "markdown",
   "metadata": {},
   "source": [
    "# 4. Bulk modulus at high pressure"
   ]
  },
  {
   "cell_type": "markdown",
   "metadata": {},
   "source": [
    "You can also propagate uncertainties in bulk modulus calculation."
   ]
  },
  {
   "cell_type": "code",
   "execution_count": 13,
   "metadata": {
    "collapsed": true
   },
   "outputs": [],
   "source": [
    "k = eos.bm3_k(p, v0, k0, k0p)"
   ]
  },
  {
   "cell_type": "code",
   "execution_count": 14,
   "metadata": {
    "collapsed": false
   },
   "outputs": [
    {
     "name": "stdout",
     "output_type": "stream",
     "text": [
      "pressure bulk modulus\n",
      "      0.0+/-0  160.0+/-3.0\n",
      "1.729+/-0.033  166.9+/-3.2\n",
      "  3.55+/-0.07  174.1+/-3.4\n",
      "  5.47+/-0.11      182+/-4\n",
      "  7.50+/-0.15      189+/-4\n",
      "  9.64+/-0.20      198+/-5\n",
      " 11.89+/-0.25      206+/-6\n",
      " 14.27+/-0.32      215+/-6\n",
      "   16.8+/-0.4      224+/-7\n",
      "   19.4+/-0.5      234+/-8\n",
      "   22.2+/-0.6      244+/-9\n",
      "   25.2+/-0.7     255+/-10\n",
      "   28.3+/-0.8     266+/-11\n",
      "   31.6+/-0.9     278+/-13\n",
      "   35.1+/-1.1     291+/-14\n",
      "   38.8+/-1.3     304+/-16\n",
      "   42.7+/-1.5     317+/-18\n",
      "   46.8+/-1.7     332+/-20\n",
      "   51.2+/-2.0     347+/-22\n",
      "   55.8+/-2.3     362+/-24\n"
     ]
    }
   ],
   "source": [
    "df = pd.DataFrame()\n",
    "df['pressure'] = p\n",
    "df['bulk modulus'] = k\n",
    "print(df.to_string(index=False))"
   ]
  },
  {
   "cell_type": "code",
   "execution_count": 15,
   "metadata": {
    "collapsed": false
   },
   "outputs": [
    {
     "data": {
      "image/png": "[encoded data removed]",
      "text/plain": [
       "<matplotlib.figure.Figure at 0x1193a3cc0>"
      ]
     },
     "metadata": {
      "image/png": {
       "height": 258,
       "width": 383
      }
     },
     "output_type": "display_data"
    }
   ],
   "source": [
    "f = plt.figure()\n",
    "plt.errorbar( unp.nominal_values(p), unp.nominal_values(k), \\\n",
    "             xerr=unp.std_devs(p), yerr=unp.std_devs(k), fmt='o')\n",
    "plt.xlabel('Pressure (GPa)'); plt.ylabel('Bulk modulus (GPa)');"
   ]
  },
  {
   "cell_type": "markdown",
   "metadata": {},
   "source": [
    "# 5. High temperature equation of state"
   ]
  },
  {
   "cell_type": "markdown",
   "metadata": {},
   "source": [
    "The constant q assumption has been used widely for the thermal part of the mantle phases.  Below, we assign uncertainties to the thermal parameters of MgO."
   ]
  },
  {
   "cell_type": "code",
   "execution_count": 16,
   "metadata": {
    "collapsed": true
   },
   "outputs": [],
   "source": [
    "gamma0 = uct.ufloat(1.45, 0.02)\n",
    "q = uct.ufloat(0.8, 0.3)\n",
    "theta0 = uct.ufloat(800., 0.)"
   ]
  },
  {
   "cell_type": "markdown",
   "metadata": {},
   "source": [
    "We will use `constq_pth` for calculating thermal pressure part of the EOS.  Below, I demonstrate how to get help for the function."
   ]
  },
  {
   "cell_type": "code",
   "execution_count": 17,
   "metadata": {
    "collapsed": false
   },
   "outputs": [
    {
     "name": "stdout",
     "output_type": "stream",
     "text": [
      "Help on function constq_pth in module pytheos.eqn_therm_constq:\n",
      "\n",
      "constq_pth(v, temp, v0, gamma0, q, theta0, n, z, t_ref=300.0, three_r=24.943379399999998)\n",
      "    calculate thermal pressure for constant q\n",
      "    \n",
      "    :param v: unit-cell volume in A^3\n",
      "    :param temp: temperature\n",
      "    :param v0: unit-cell volume in A^3 at 1 bar\n",
      "    :param gamma0: Gruneisen parameter at 1 bar\n",
      "    :param q: logarithmic derivative of Gruneisen parameter\n",
      "    :param theta0: Debye temperature in K\n",
      "    :param n: number of atoms in a formula unit\n",
      "    :param z: number of formula unit in a unit cell\n",
      "    :param t_ref: reference temperature\n",
      "    :param three_r: 3R in case adjustment is needed\n",
      "    :return: thermal pressure in GPa\n",
      "\n"
     ]
    }
   ],
   "source": [
    "help(eos.constq_pth)"
   ]
  },
  {
   "cell_type": "markdown",
   "metadata": {},
   "source": [
    "We calculate total pressure at 2000 K below.  `eos.constq_pth` requires input of volume and temperature with the same number of elements.  For 2000-K isotherm, we generate a temperature array with 2000 for all elements."
   ]
  },
  {
   "cell_type": "code",
   "execution_count": 18,
   "metadata": {
    "collapsed": true
   },
   "outputs": [],
   "source": [
    "p_hT = eos.bm3_p(v, v0, k0, k0p) + eos.constq_pth(v, np.ones_like(v)*2000., v0, gamma0, q, theta0, 2, 4)"
   ]
  },
  {
   "cell_type": "code",
   "execution_count": 19,
   "metadata": {
    "collapsed": false
   },
   "outputs": [
    {
     "name": "stdout",
     "output_type": "stream",
     "text": [
      "unit-cell volume  pressure@300K pressure@2000K\n",
      "  74.698+/-0.004        0.0+/-0   10.40+/-0.14\n",
      "  73.912+/-0.004  1.729+/-0.033   12.14+/-0.15\n",
      "  73.125+/-0.004    3.55+/-0.07   13.97+/-0.17\n",
      "  72.339+/-0.004    5.47+/-0.11   15.90+/-0.20\n",
      "  71.553+/-0.004    7.50+/-0.15   17.93+/-0.25\n",
      "  70.767+/-0.004    9.64+/-0.20   20.07+/-0.30\n",
      "  69.980+/-0.004   11.89+/-0.25   22.34+/-0.35\n",
      "  69.194+/-0.004   14.27+/-0.32     24.7+/-0.4\n",
      "  68.408+/-0.004     16.8+/-0.4     27.2+/-0.5\n",
      "  67.621+/-0.004     19.4+/-0.5     29.9+/-0.6\n",
      "  66.835+/-0.004     22.2+/-0.6     32.7+/-0.7\n",
      "66.0488+/-0.0035     25.2+/-0.7     35.7+/-0.8\n",
      "65.2625+/-0.0035     28.3+/-0.8     38.8+/-0.9\n",
      "64.4762+/-0.0035     31.6+/-0.9     42.1+/-1.1\n",
      "63.6899+/-0.0034     35.1+/-1.1     45.6+/-1.2\n",
      "62.9036+/-0.0034     38.8+/-1.3     49.3+/-1.4\n",
      "62.1173+/-0.0033     42.7+/-1.5     53.2+/-1.6\n",
      "61.3310+/-0.0033     46.8+/-1.7     57.3+/-1.8\n",
      "60.5447+/-0.0032     51.2+/-2.0     61.7+/-2.1\n",
      "59.7584+/-0.0032     55.8+/-2.3     66.3+/-2.4\n"
     ]
    }
   ],
   "source": [
    "df = pd.DataFrame()\n",
    "df['unit-cell volume'] = v\n",
    "df['pressure@300K'] = p\n",
    "df['pressure@2000K'] = p_hT\n",
    "print(df.to_string(index=False))"
   ]
  },
  {
   "cell_type": "code",
   "execution_count": null,
   "metadata": {
    "collapsed": true
   },
   "outputs": [],
   "source": []
  }
 ],
 "metadata": {
  "anaconda-cloud": {},
  "kernelspec": {
   "display_name": "Python [conda env:pytheos-dev]",
   "language": "python",
   "name": "conda-env-pytheos-dev-py"
  },
  "language_info": {
   "codemirror_mode": {
    "name": "ipython",
    "version": 3
   },
   "file_extension": ".py",
   "mimetype": "text/x-python",
   "name": "python",
   "nbconvert_exporter": "python",
   "pygments_lexer": "ipython3",
   "version": "3.5.2"
  },
  "latex_envs": {
   "LaTeX_envs_menu_present": true,
   "autocomplete": true,
   "bibliofile": "biblio.bib",
   "cite_by": "apalike",
   "current_citInitial": 1,
   "eqLabelWithNumbers": true,
   "eqNumInitial": 0,
   "hotkeys": {
    "equation": "Ctrl-E",
    "itemize": "Ctrl-I"
   },
   "labels_anchors": false,
   "latex_user_defs": false,
   "report_style_numbering": false,
   "user_envs_cfg": false
  }
 },
 "nbformat": 4,
 "nbformat_minor": 1
}
