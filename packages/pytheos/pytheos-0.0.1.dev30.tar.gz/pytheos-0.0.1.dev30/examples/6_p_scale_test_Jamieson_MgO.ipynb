{
 "cells": [
  {
   "cell_type": "code",
   "execution_count": 1,
   "metadata": {
    "collapsed": false
   },
   "outputs": [
    {
     "name": "stdout",
     "output_type": "stream",
     "text": [
      "Source and citation\r\n",
      "\r\n",
      "- This notebook is a part of the `pytheos` package.\r\n",
      "- Website: http://github.com/SHDShim/pytheos.\r\n",
      "- How to cite: S.-H. Shim (2017) Pytheos - a python tool set for equations of state. DOI: 10.5281/zenodo.802392\r\n"
     ]
    }
   ],
   "source": [
    "%cat 0Source_Citation.txt"
   ]
  },
  {
   "cell_type": "code",
   "execution_count": 2,
   "metadata": {
    "collapsed": true
   },
   "outputs": [],
   "source": [
    "%matplotlib inline\n",
    "# %matplotlib notebook # for interactive"
   ]
  },
  {
   "cell_type": "markdown",
   "metadata": {},
   "source": [
    "For high dpi displays."
   ]
  },
  {
   "cell_type": "code",
   "execution_count": 3,
   "metadata": {
    "collapsed": true
   },
   "outputs": [],
   "source": [
    "%config InlineBackend.figure_format = 'retina'"
   ]
  },
  {
   "cell_type": "markdown",
   "metadata": {},
   "source": [
    "# 0. General note"
   ]
  },
  {
   "cell_type": "markdown",
   "metadata": {},
   "source": [
    "This example compares pressure calculated from `pytheos` and original publication for the MgO scale by Jamieson 1983."
   ]
  },
  {
   "cell_type": "markdown",
   "metadata": {},
   "source": [
    "# 1. Global setup"
   ]
  },
  {
   "cell_type": "code",
   "execution_count": 4,
   "metadata": {
    "collapsed": true
   },
   "outputs": [],
   "source": [
    "import matplotlib.pyplot as plt\n",
    "import numpy as np\n",
    "from uncertainties import unumpy as unp\n",
    "import pytheos as eos"
   ]
  },
  {
   "cell_type": "markdown",
   "metadata": {},
   "source": [
    "# 3. Compare"
   ]
  },
  {
   "cell_type": "code",
   "execution_count": 5,
   "metadata": {
    "collapsed": false
   },
   "outputs": [
    {
     "name": "stdout",
     "output_type": "stream",
     "text": [
      "[ 0.     0.005  0.01   0.015  0.02   0.025  0.03   0.035  0.04   0.045\n",
      "  0.05   0.055  0.06   0.065  0.07   0.075  0.08   0.085  0.09   0.095  0.1\n",
      "  0.105  0.11   0.115  0.12   0.125  0.13   0.135  0.14   0.145  0.15\n",
      "  0.155  0.16   0.165  0.17   0.175  0.18   0.185  0.19   0.195  0.2    0.205\n",
      "  0.21   0.215  0.22   0.225  0.23   0.235  0.24   0.245  0.25   0.255\n",
      "  0.26 ]\n"
     ]
    }
   ],
   "source": [
    "eta = np.linspace(0., 0.26, 53)\n",
    "print(eta)"
   ]
  },
  {
   "cell_type": "code",
   "execution_count": 6,
   "metadata": {
    "collapsed": true
   },
   "outputs": [],
   "source": [
    "jamieson_mgo = eos.periclase.Jamieson1982()"
   ]
  },
  {
   "cell_type": "code",
   "execution_count": 7,
   "metadata": {
    "collapsed": false
   },
   "outputs": [
    {
     "name": "stdout",
     "output_type": "stream",
     "text": [
      "P_static: Jamieson\n",
      "P_thermal: Constq\n",
      "P_anharmonic: None\n",
      "P_electronic: None\n"
     ]
    }
   ],
   "source": [
    "jamieson_mgo.print_equations()"
   ]
  },
  {
   "cell_type": "code",
   "execution_count": 8,
   "metadata": {
    "collapsed": false
   },
   "outputs": [
    {
     "name": "stdout",
     "output_type": "stream",
     "text": [
      "Static:  OrderedDict([('rho0', 3.585+/-0), ('c0', 6.597+/-0), ('s', 1.369+/-0)])\n",
      "Thermal:  OrderedDict([('v0', 74.67451012663052+/-0.001), ('gamma0', 1.32+/-0), ('q', 1.0+/-0), ('theta0', 760.0+/-0)])\n",
      "Anharmonic: None\n",
      "Electronic: None\n"
     ]
    }
   ],
   "source": [
    "jamieson_mgo.print_parameters()"
   ]
  },
  {
   "cell_type": "code",
   "execution_count": 9,
   "metadata": {
    "collapsed": true
   },
   "outputs": [],
   "source": [
    "v0 = 74.67451012663052"
   ]
  },
  {
   "cell_type": "code",
   "execution_count": 10,
   "metadata": {
    "collapsed": false
   },
   "outputs": [
    {
     "data": {
      "text/plain": [
       "24.939153588000003"
      ]
     },
     "execution_count": 10,
     "metadata": {},
     "output_type": "execute_result"
    }
   ],
   "source": [
    "jamieson_mgo.three_r"
   ]
  },
  {
   "cell_type": "code",
   "execution_count": 11,
   "metadata": {
    "collapsed": true
   },
   "outputs": [],
   "source": [
    "v = v0 * (1.-eta) \n",
    "temp = 1500."
   ]
  },
  {
   "cell_type": "code",
   "execution_count": 12,
   "metadata": {
    "collapsed": true
   },
   "outputs": [],
   "source": [
    "p = jamieson_mgo.cal_p(v, temp * np.ones_like(v))"
   ]
  },
  {
   "cell_type": "markdown",
   "metadata": {},
   "source": [
    "<img src='./tables/Jamieson_MgO_1.png'>\n",
    "<img src='./tables/Jamieson_MgO_2.png'>"
   ]
  },
  {
   "cell_type": "code",
   "execution_count": 13,
   "metadata": {
    "collapsed": false,
    "scrolled": true
   },
   "outputs": [
    {
     "name": "stdout",
     "output_type": "stream",
     "text": [
      "for T =  1500.0\n",
      " 0.000  6.61+/-0.00\n",
      " 0.005  7.39+/-0.00\n",
      " 0.010  8.19+/-0.00\n",
      " 0.015  9.01+/-0.00\n",
      " 0.020  9.86+/-0.00\n",
      " 0.025  10.73+/-0.00\n",
      " 0.030  11.62+/-0.00\n",
      " 0.035  12.54+/-0.00\n",
      " 0.040  13.48+/-0.00\n",
      " 0.045  14.45+/-0.00\n",
      " 0.050  15.45+/-0.00\n",
      " 0.055  16.48+/-0.00\n",
      " 0.060  17.53+/-0.00\n",
      " 0.065  18.62+/-0.00\n",
      " 0.070  19.73+/-0.00\n",
      " 0.075  20.88+/-0.00\n",
      " 0.080  22.06+/-0.00\n",
      " 0.085  23.28+/-0.00\n",
      " 0.090  24.53+/-0.00\n",
      " 0.095  25.81+/-0.00\n",
      " 0.100  27.14+/-0.00\n",
      " 0.105  28.50+/-0.00\n",
      " 0.110  29.90+/-0.00\n",
      " 0.115  31.34+/-0.00\n",
      " 0.120  32.82+/-0.00\n",
      " 0.125  34.35+/-0.00\n",
      " 0.130  35.92+/-0.00\n",
      " 0.135  37.53+/-0.00\n",
      " 0.140  39.20+/-0.00\n",
      " 0.145  40.91+/-0.00\n",
      " 0.150  42.68+/-0.00\n",
      " 0.155  44.49+/-0.00\n",
      " 0.160  46.37+/-0.00\n",
      " 0.165  48.29+/-0.00\n",
      " 0.170  50.28+/-0.00\n",
      " 0.175  52.33+/-0.00\n",
      " 0.180  54.44+/-0.00\n",
      " 0.185  56.61+/-0.00\n",
      " 0.190  58.85+/-0.00\n",
      " 0.195  61.16+/-0.00\n",
      " 0.200  63.55+/-0.00\n",
      " 0.205  66.00+/-0.00\n",
      " 0.210  68.54+/-0.00\n",
      " 0.215  71.15+/-0.00\n",
      " 0.220  73.85+/-0.00\n",
      " 0.225  76.64+/-0.00\n",
      " 0.230  79.51+/-0.00\n",
      " 0.235  82.48+/-0.00\n",
      " 0.240  85.55+/-0.00\n",
      " 0.245  88.71+/-0.00\n",
      " 0.250  91.98+/-0.00\n",
      " 0.255  95.36+/-0.00\n",
      " 0.260  98.86+/-0.00\n"
     ]
    }
   ],
   "source": [
    "print('for T = ', temp)\n",
    "for eta_i, p_i in zip(eta, p):\n",
    "    print(\"{0: .3f} {1: .2f}\".format(eta_i, p_i))"
   ]
  },
  {
   "cell_type": "code",
   "execution_count": 14,
   "metadata": {
    "collapsed": false
   },
   "outputs": [
    {
     "name": "stdout",
     "output_type": "stream",
     "text": [
      "[ 0.     0.005  0.01   0.015  0.02   0.025  0.03   0.035  0.04   0.045\n",
      "  0.05   0.055  0.06   0.065  0.07   0.075  0.08   0.085  0.09   0.095  0.1\n",
      "  0.105  0.11   0.115  0.12   0.125  0.13   0.135  0.14   0.145  0.15\n",
      "  0.155  0.16   0.165  0.17   0.175  0.18   0.185  0.19   0.195  0.2    0.205\n",
      "  0.21   0.215  0.22   0.225  0.23   0.235  0.24   0.245  0.25   0.255\n",
      "  0.26 ]\n"
     ]
    }
   ],
   "source": [
    "v = jamieson_mgo.cal_v(p, temp * np.ones_like(p))\n",
    "print(1.-(v/v0))"
   ]
  }
 ],
 "metadata": {
  "anaconda-cloud": {},
  "kernelspec": {
   "display_name": "Python [conda env:py35]",
   "language": "python",
   "name": "conda-env-py35-py"
  },
  "language_info": {
   "codemirror_mode": {
    "name": "ipython",
    "version": 3
   },
   "file_extension": ".py",
   "mimetype": "text/x-python",
   "name": "python",
   "nbconvert_exporter": "python",
   "pygments_lexer": "ipython3",
   "version": "3.5.2"
  },
  "latex_envs": {
   "LaTeX_envs_menu_present": true,
   "autocomplete": true,
   "bibliofile": "biblio.bib",
   "cite_by": "apalike",
   "current_citInitial": 1,
   "eqLabelWithNumbers": true,
   "eqNumInitial": 0,
   "hotkeys": {
    "equation": "Ctrl-E",
    "itemize": "Ctrl-I"
   },
   "labels_anchors": false,
   "latex_user_defs": false,
   "report_style_numbering": false,
   "user_envs_cfg": false
  }
 },
 "nbformat": 4,
 "nbformat_minor": 1
}
