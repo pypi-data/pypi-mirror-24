{
 "cells": [
  {
   "cell_type": "code",
   "execution_count": 1,
   "metadata": {
    "collapsed": false
   },
   "outputs": [
    {
     "name": "stdout",
     "output_type": "stream",
     "text": [
      "Source and citation\r\n",
      "\r\n",
      "- This notebook is a part of the `pytheos` package.\r\n",
      "- Website: http://github.com/SHDShim/pytheos.\r\n",
      "- How to cite: S.-H. Shim (2017) Pytheos - a python tool set for equations of state. DOI: 10.5281/zenodo.802392\r\n"
     ]
    }
   ],
   "source": [
    "%cat 0Source_Citation.txt"
   ]
  },
  {
   "cell_type": "code",
   "execution_count": 2,
   "metadata": {
    "collapsed": true
   },
   "outputs": [],
   "source": [
    "%matplotlib inline\n",
    "# %matplotlib notebook # for interactive"
   ]
  },
  {
   "cell_type": "markdown",
   "metadata": {},
   "source": [
    "For high dpi displays."
   ]
  },
  {
   "cell_type": "code",
   "execution_count": 3,
   "metadata": {
    "collapsed": true
   },
   "outputs": [],
   "source": [
    "%config InlineBackend.figure_format = 'retina'"
   ]
  },
  {
   "cell_type": "markdown",
   "metadata": {},
   "source": [
    "# 0. General note"
   ]
  },
  {
   "cell_type": "markdown",
   "metadata": {},
   "source": [
    "This example compares pressure calculated from `pytheos` and original publication for the gold scale by Heinz 1984."
   ]
  },
  {
   "cell_type": "markdown",
   "metadata": {},
   "source": [
    "# 1. Global setup"
   ]
  },
  {
   "cell_type": "code",
   "execution_count": 4,
   "metadata": {
    "collapsed": true
   },
   "outputs": [],
   "source": [
    "import matplotlib.pyplot as plt\n",
    "import numpy as np\n",
    "from uncertainties import unumpy as unp\n",
    "import pytheos as eos"
   ]
  },
  {
   "cell_type": "markdown",
   "metadata": {},
   "source": [
    "# 3. Compare"
   ]
  },
  {
   "cell_type": "code",
   "execution_count": 5,
   "metadata": {
    "collapsed": false
   },
   "outputs": [
    {
     "name": "stdout",
     "output_type": "stream",
     "text": [
      "[ 0.    0.02  0.04  0.06  0.08  0.1   0.12  0.14  0.16  0.18  0.2   0.22\n",
      "  0.24  0.26  0.28  0.3   0.32  0.34]\n"
     ]
    }
   ],
   "source": [
    "eta = np.linspace(0., 0.34, 18)\n",
    "print(eta)"
   ]
  },
  {
   "cell_type": "code",
   "execution_count": 6,
   "metadata": {
    "collapsed": true
   },
   "outputs": [],
   "source": [
    "heinz_au = eos.gold.Heinz1984()"
   ]
  },
  {
   "cell_type": "code",
   "execution_count": 7,
   "metadata": {
    "collapsed": false
   },
   "outputs": [
    {
     "name": "stdout",
     "output_type": "stream",
     "text": [
      "Help on Heinz1984 in module pytheos.scales.gold object:\n",
      "\n",
      "class Heinz1984(pytheos.scales.objs.MGEOS)\n",
      " |  Heinz and Jeanloz. 1984. JAP 55, 885+\n",
      " |  \n",
      " |  Method resolution order:\n",
      " |      Heinz1984\n",
      " |      pytheos.scales.objs.MGEOS\n",
      " |      builtins.object\n",
      " |  \n",
      " |  Methods defined here:\n",
      " |  \n",
      " |  __init__(self, v0=67.84742110765599)\n",
      " |      :param params_st: elastic parameters for static EOS in an OrderedDict\n",
      " |          [v0 in A^3, k0 in GPa, k0p]\n",
      " |      :param params_th: thermal parameters for thermal EOS in an OrderedDict.\n",
      " |          The component can differ depending on the equation used.\n",
      " |      :param params_anh: anharmonic parameters for anharmonic correction in\n",
      " |          an OrderedDict.  The component can differ depending on the\n",
      " |          equation used.\n",
      " |      :param params_el: electronic parameters for electronic correction in\n",
      " |          an OrderedDict. The component can differ depending on the\n",
      " |          equation used.\n",
      " |      :param eqn_st: equation type for the static EOS. 'bm3', 'vinet', or\n",
      " |          'kunc'\n",
      " |      :param eqn_th: equation type for the thermal EOS. 'constq', 'tange',\n",
      " |          'speziale', 'dorogokupets2007', 'dorogokupets2015', 'alphakt'\n",
      " |      :param eqn_anh: equation type for anharmonic correction. 'zharkov',\n",
      " |      :param eqn_el: equation type for electonic correction. 'zharkov',\n",
      " |          'tsuchiya'\n",
      " |      :param t_ref: reference temperature, 300 K\n",
      " |      :param three_r: 3 times gas constant.\n",
      " |          Jamieson modified this value to compensate for mismatches\n",
      " |      :param reference: reference for the EOS\n",
      " |  \n",
      " |  ----------------------------------------------------------------------\n",
      " |  Methods inherited from pytheos.scales.objs.MGEOS:\n",
      " |  \n",
      " |  cal_p(self, v, temp)\n",
      " |      calculate total pressure at given volume and temperature\n",
      " |      \n",
      " |      :param v: unit-cell volume in A^3\n",
      " |      :param temp: temperature in K\n",
      " |      :return: pressure in GPa\n",
      " |      :note: 2017/05/10 temp must be numpy array.  If not, such as list,\n",
      " |          create an error.\n",
      " |  \n",
      " |  cal_panh(self, v, temp)\n",
      " |      calculate pressure from anharmonic contributions\n",
      " |      \n",
      " |      :param v: unit-cell volume in A^3\n",
      " |      :param temp: temperature in K\n",
      " |      :return: pressure in GPa\n",
      " |  \n",
      " |  cal_pel(self, v, temp)\n",
      " |      calculate pressure from electronic contributions\n",
      " |      \n",
      " |      :param v: unit-cell volume in A^3\n",
      " |      :param temp: temperature in K\n",
      " |      :return: pressure in GPa\n",
      " |  \n",
      " |  cal_pst(self, v)\n",
      " |      calculate static pressure at 300 K.\n",
      " |      \n",
      " |      :param v: unit-cell volume in A^3\n",
      " |      :return: static pressure at t_ref (=300 K) in GPa\n",
      " |  \n",
      " |  cal_pth(self, v, temp)\n",
      " |      calculate thermal pressure\n",
      " |      \n",
      " |      :param v: unit-cell volume in A^3\n",
      " |      :param temp: temperature in K\n",
      " |      :return: thermal pressure in GPa\n",
      " |  \n",
      " |  cal_v(self, p, temp, min_strain=0.2, max_strain=1.0)\n",
      " |      calculate unit-cell volume at given pressure and temperature\n",
      " |      \n",
      " |      :param p: pressure in GPa\n",
      " |      :param temp: temperature in K\n",
      " |      :param min_strain: minimum strain searched for volume root\n",
      " |      :param max_strain: maximum strain searched for volume root\n",
      " |      :return: unit-cell volume in A^3\n",
      " |      :note: 2017/05/10 I found wrap function is not compatible with\n",
      " |          OrderedDict. So I convert unp array to np array.\n",
      " |  \n",
      " |  print_equations(self)\n",
      " |      show equations used for the EOS\n",
      " |  \n",
      " |  print_parameters(self)\n",
      " |      show thermoelastic parameters for the EOS\n",
      " |  \n",
      " |  print_reference(self)\n",
      " |      show reference for the EOS\n",
      " |  \n",
      " |  ----------------------------------------------------------------------\n",
      " |  Data descriptors inherited from pytheos.scales.objs.MGEOS:\n",
      " |  \n",
      " |  __dict__\n",
      " |      dictionary for instance variables (if defined)\n",
      " |  \n",
      " |  __weakref__\n",
      " |      list of weak references to the object (if defined)\n",
      "\n"
     ]
    }
   ],
   "source": [
    "help(heinz_au)"
   ]
  },
  {
   "cell_type": "code",
   "execution_count": 8,
   "metadata": {
    "collapsed": false
   },
   "outputs": [
    {
     "name": "stdout",
     "output_type": "stream",
     "text": [
      "P_static:  bm3\n",
      "P_thermal:  constq\n",
      "P_anharmonic:  None\n",
      "P_electronic:  None\n"
     ]
    }
   ],
   "source": [
    "heinz_au.print_equations()"
   ]
  },
  {
   "cell_type": "code",
   "execution_count": 9,
   "metadata": {
    "collapsed": false
   },
   "outputs": [
    {
     "name": "stdout",
     "output_type": "stream",
     "text": [
      "P_static:  bm3\n",
      "P_thermal:  constq\n",
      "P_anharmonic:  None\n",
      "P_electronic:  None\n"
     ]
    }
   ],
   "source": [
    "heinz_au.print_equations()"
   ]
  },
  {
   "cell_type": "code",
   "execution_count": 10,
   "metadata": {
    "collapsed": false
   },
   "outputs": [
    {
     "name": "stdout",
     "output_type": "stream",
     "text": [
      "Static:  OrderedDict([('v0', 67.84742110765599+/-0.001), ('k0', 166.65+/-5.0), ('k0p', 5.4833+/-0.43)])\n",
      "Thermal:  OrderedDict([('v0', 67.84742110765599+/-0.001), ('gamma0', 2.95+/-0.43), ('q', 1.7+/-0.7), ('theta0', 170.0+/-0)])\n",
      "Anharmonic:  None\n",
      "Electronic:  None\n"
     ]
    }
   ],
   "source": [
    "heinz_au.print_parameters()"
   ]
  },
  {
   "cell_type": "code",
   "execution_count": 11,
   "metadata": {
    "collapsed": true
   },
   "outputs": [],
   "source": [
    "v0 = 67.84742110765599"
   ]
  },
  {
   "cell_type": "code",
   "execution_count": 12,
   "metadata": {
    "collapsed": false
   },
   "outputs": [
    {
     "data": {
      "text/plain": [
       "24.943379399999998"
      ]
     },
     "execution_count": 12,
     "metadata": {},
     "output_type": "execute_result"
    }
   ],
   "source": [
    "heinz_au.three_r"
   ]
  },
  {
   "cell_type": "code",
   "execution_count": 13,
   "metadata": {
    "collapsed": true
   },
   "outputs": [],
   "source": [
    "v = v0 * (1.-eta) \n",
    "temp = 3000."
   ]
  },
  {
   "cell_type": "code",
   "execution_count": 14,
   "metadata": {
    "collapsed": true
   },
   "outputs": [],
   "source": [
    "p = heinz_au.cal_p(v, temp * np.ones_like(v))"
   ]
  },
  {
   "cell_type": "markdown",
   "metadata": {},
   "source": [
    "<img src='./tables/Heinz_Au.png'>"
   ]
  },
  {
   "cell_type": "code",
   "execution_count": 15,
   "metadata": {
    "collapsed": false
   },
   "outputs": [
    {
     "name": "stdout",
     "output_type": "stream",
     "text": [
      "for T =  3000.0\n",
      " 0.000  19.42+/-2.83\n",
      " 0.020  22.70+/-2.80\n",
      " 0.040  26.47+/-2.81\n",
      " 0.060  30.80+/-2.85\n",
      " 0.080  35.76+/-2.93\n",
      " 0.100  41.45+/-3.06\n",
      " 0.120  47.97+/-3.26\n",
      " 0.140  55.44+/-3.53\n",
      " 0.160  64.00+/-3.90\n",
      " 0.180  73.82+/-4.41\n",
      " 0.200  85.09+/-5.07\n",
      " 0.220  98.05+/-5.93\n",
      " 0.240  112.96+/-7.03\n",
      " 0.260  130.14+/-8.43\n",
      " 0.280  149.98+/-10.17\n",
      " 0.300  172.94+/-12.32\n",
      " 0.320  199.56+/-14.98\n",
      " 0.340  230.51+/-18.25\n"
     ]
    }
   ],
   "source": [
    "print('for T = ', temp)\n",
    "for eta_i, p_i in zip(eta, p):\n",
    "    print(\"{0: .3f} {1: .2f}\".format(eta_i, p_i))"
   ]
  },
  {
   "cell_type": "code",
   "execution_count": 16,
   "metadata": {
    "collapsed": false
   },
   "outputs": [
    {
     "name": "stdout",
     "output_type": "stream",
     "text": [
      "[ 0.    0.02  0.04  0.06  0.08  0.1   0.12  0.14  0.16  0.18  0.2   0.22\n",
      "  0.24  0.26  0.28  0.3   0.32  0.34]\n"
     ]
    }
   ],
   "source": [
    "v = heinz_au.cal_v(p, temp * np.ones_like(p), min_strain=0.6)\n",
    "print(1.-(v/v0))"
   ]
  },
  {
   "cell_type": "code",
   "execution_count": null,
   "metadata": {
    "collapsed": true
   },
   "outputs": [],
   "source": []
  }
 ],
 "metadata": {
  "anaconda-cloud": {},
  "kernelspec": {
   "display_name": "Python [conda env:py35]",
   "language": "python",
   "name": "conda-env-py35-py"
  },
  "language_info": {
   "codemirror_mode": {
    "name": "ipython",
    "version": 3
   },
   "file_extension": ".py",
   "mimetype": "text/x-python",
   "name": "python",
   "nbconvert_exporter": "python",
   "pygments_lexer": "ipython3",
   "version": "3.5.2"
  },
  "latex_envs": {
   "LaTeX_envs_menu_present": true,
   "autocomplete": true,
   "bibliofile": "biblio.bib",
   "cite_by": "apalike",
   "current_citInitial": 1,
   "eqLabelWithNumbers": true,
   "eqNumInitial": 0,
   "hotkeys": {
    "equation": "Ctrl-E",
    "itemize": "Ctrl-I"
   },
   "labels_anchors": false,
   "latex_user_defs": false,
   "report_style_numbering": false,
   "user_envs_cfg": false
  }
 },
 "nbformat": 4,
 "nbformat_minor": 1
}
